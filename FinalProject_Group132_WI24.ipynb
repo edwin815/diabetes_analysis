{
 "cells": [
  {
   "cell_type": "markdown",
   "metadata": {},
   "source": [
    "# COGS 108 - The Effects of Income and Lifestyle Choices on the Risk of Diabetes\n",
    "\n",
    "# Permissions\n",
    "\n",
    "Place an `X` in the appropriate bracket below to specify if you would like your group's project to be made available to the public. (Note that student names will be included (but PIDs will be scraped from any groups who include their PIDs).\n",
    "\n",
    "* [  ] YES - make available\n",
    "* [ X ] NO - keep private\n",
    "\n",
    "# Names\n",
    "- Brian Dinh\n",
    "- Candy Zhang\n",
    "- Edwin Liang\n",
    "- Sindhu Kothe\n",
    "- Vaishnavi Ramanujan\n",
    "\n",
    "# Abstract\n",
    "\n",
    "Many members in our group were interested in exploring the intersection of data science and health. Furtermore, we wanted to find out whether their is a correlation between a person's lifestyle choices, socieconomic conditions, and their health. We choose diabetes to research as it affects over 38.4 million people in the United States alone, according to the National Institute of Health. <a name=\"diabetes-prevalence\"></a>[<sup>1</sup>](#dia-prevalence). Upon conducting further research about what factors had been studied, we found that we could conduct further analysis on whether an individual's decisions such as smoking, drinking, and eating healthy, as well as overall income affects their risk of diabetes. \n",
    "\n",
    "To begin our analysis, we found two datasets that appeared to be diverse in terms of age, gender, and other demographic information. One dataset was collected from the Behavioral Risk Factor Surveillance System telephone survey, which is one of the largest health surveys conducted by the CDC annually. Through this survey, more than 400,000 Americans are interviewed about their health across the U.S. Because this dataset also contained the income and nutritional eating habits of the participants, this was the ideal dataset for us to explain the relationships posed by our research question. The second dataset we used is the Food Environment Atlas, which contains data collected by the U.S. Department of Agriculture, and is used to understand the ease of access communities across the U.S. have to healthy and nutritional food. These datasets will allow us to explore the relationship between the diabetes rate and defined independent variables.\n",
    "\n",
    "After conducting thorough EDA and examining the distributions of our data, we came to the conclusion that there is a positive correlation between individual specific body conditions, namely BMI, blood pressure, age and the risk of diabetes. Additionally, we found a correlation between the diabetes rate and certain lifestyle choices including smoking and healthy eating but we were unable to find a relationship between alcohol and diabetes. Finally, we discovered that there is an inverse association between income and the risk of diabetes, which also supports our hypothesis that socioeconomic conditions have an impact on the diabetes rate in individuals.\n",
    "\n",
    "\n",
    "\n",
    "\n",
    "1. <a name=\"dia-prevalence\"></a> [^](#diabetes-prevalence) *National Institute of Diabetes and Digestive and Kidney Diseases*. https://www.niddk.nih.gov/health-information/health-statistics/diabetes-statistics#:~:text=Estimated%20prevalence%20of%20diabetes%20in,ages%2018%20years%20or%20older.\n"
   ]
  },
  {
   "cell_type": "markdown",
   "metadata": {},
   "source": [
    "# Research Question"
   ]
  },
  {
   "cell_type": "markdown",
   "metadata": {},
   "source": [
    "What is the relationship between the rate of diabetes and individual-specific body conditions? Would lifestyle choices such as smoking, drinking, and an unhealthy diet affect the risk of diabetes? What are the effects of income on the rate of diabetes?"
   ]
  },
  {
   "cell_type": "markdown",
   "metadata": {},
   "source": [
    "## Background and Prior Work"
   ]
  },
  {
   "cell_type": "markdown",
   "metadata": {},
   "source": [
    "Diabetes is an autoimmune disorder that affects an overwhelming number of people in the United States. For this reason, it is paramount that we be able to predict whether or not an individual is at risk of developing diabetes given a set amount of information. \n",
    "\n",
    "We found that there is prior research<a name=\"diabetes-rate\"></a>[<sup>1</sup>](#dia-rate) exploring the mortality rate in people with type 2 diabetes. From this, we can see that the mortality rate of people with type 2 diabetes has been increasing as they grow older. The research paper in this reference talks about predicting 5 year mortality rates for people with a higher age with diabetes. This would help predict if an immediate intervention is required. We also discovered that there is a clear correlation between diabetes and gender. According to one study <a name=\"diabetes-gender\"></a>[<sup>2</sup>](#dia-gender), the population of older people that were diagnosed with diabetes is overwhelmingly male. On the other hand,lower risk populations that were studied show an overwhelming female bias. However, we see that when the population with diabetes amongst the younger age groups were studied, there was a pretty even split between both the sexes.\n",
    "\n",
    "Furthermore, we see that there is in fact a correlation between substances usage and the risk of diabetes. According to one study by the NCBI <a name=\"diabetes-smoke\"></a>[<sup>3</sup>](#dia-smoke) (National Center for Biotechnology Information), we see that men who smoked around 25 cigarettes daily were at greater risk of diabetes. Also, men who drank 30.0 - 49.9 grams of alcohol had a higher relative risk of diabetes. However, the study was conducted on only male professionals in the age range of 40 - 75. We also see that the study is relatively old and we don't know how the correlation plays out in today's world. There has also been some research done on the relationship between socioeconomic status including education and income level on diabetes that we hope to further build on with our project. This research<a name=\"diabetes-income\"></a>[<sup>4</sup>](#dia-income) shows that there is a strong correlation between income and type 2 diabetes in Canada and we would like to do research primarily based in the United States. The data we are using, while primarily based in the United States, not only contains information about individual body conditions such as BMI and insulin, but also information about a person's nutrition, income, and lifestyle habits. This data should allow us to determine whether or not the given factors impact an individual's risk of diabetes. We hope to address the gaps we found in these studies and conduct a more representative anaylsis covering both eating habits and socieconomic conditions. \n",
    "\n",
    "1. <a name=\"dia-rate\"></a> [^](#diabetes-rate) *Journal of Diabetes Research*. https://www.hindawi.com/journals/jdr/2024/1741878/\n",
    "2. <a name=\"dia-gender\"></a> [^](#diabetes-gender) *Diabetologia Journal*. https://link.springer.com/article/10.1007/s001250051573\n",
    "3. <a name=\"dia-smoke\"></a> [^](#diabetes-smoke) *National Center for Biotechnology Information*. https://www.ncbi.nlm.nih.gov/pmc/articles/PMC2548937/\n",
    "4. <a name=\"dia-income\"></a> [^](#diabetes-income) *National Center for Biotechnology Information*. https://www.ncbi.nlm.nih.gov/pmc/articles/PMC4603875/\n"
   ]
  },
  {
   "cell_type": "markdown",
   "metadata": {},
   "source": [
    "# Hypothesis\n"
   ]
  },
  {
   "cell_type": "markdown",
   "metadata": {},
   "source": [
    "We expect that a person who smokes, drinks, and has unhealthy eating habits is more likely to be diagnosed with diabetes. Additionally, we predict that individual specific body conditions such as blood pressure and body mass index will affect the rate of diabetes.  We also think there is a correlation between having a lower income and having less access to healthy, nutrient-rich food. Essentially, we believe that healthy lifestyle choices and socioeconomic equality play important roles in reducing the prevalence of diabetes and its associated risk factors. We expect income inequalities and unhealthy food and lifestyle choices to increase an individual’s risk of developing diabetes. Conversely, we believe that proper nutrition and reduced intake of alcohol / smoking will lower the rate of diabetes. \n"
   ]
  },
  {
   "cell_type": "markdown",
   "metadata": {},
   "source": [
    "# Data"
   ]
  },
  {
   "cell_type": "markdown",
   "metadata": {},
   "source": [
    "## Dataset 1: Diabetes Health Indicators Dataset"
   ]
  },
  {
   "cell_type": "markdown",
   "metadata": {},
   "source": [
    "- Dataset Name: Diabetes Health Indicators Dataset\n",
    "  - Link to dataset: https://www.kaggle.com/datasets/alexteboul/diabetes-health-indicators-dataset\n",
    "  - Number of observations: 253,680\n",
    "  - Number of variables: 22\n",
    "  - Description of important variables:\n",
    "    - BloodPressure: To express the Blood pressure measurement\n",
    "    - Heavy Alcohol Consumption: 0 = no heavy alcohol consumption, 1 = heavy alcohol consumption\n",
    "    - Smoker: 0 = non-smoker, 1 = smoker\n",
    "    - Insulin: To express the Insulin level in blood\n",
    "    - BMI: To express the Body mass index\n",
    "    - Diabetes: If the individual has diabetes - 0 = no diabetes, 1 = prediabetes,  2 = has diabetes\n",
    "    - Income: On a scale 1-8 where 1 = less than 10,000 usd a year, 5 = less than 35,000 usd per year, 8 = 75,000 usd or more per year \n",
    "    - Fruits / Veggies: 1 =  consumption of fruits and vegetables at least once per day, 0 = no fruits or veggies\n",
    "    - Sex: 0 = male, 1 = female\n",
    "    - Age: scale of 1 to 13, where 1 = 18-24, 9 = 60-64, and 13 = 80 or older\n",
    "  - Description of Dataset:\n",
    "    Because all of the important variables and other columns contain only numeric values, we will not need a significant amount of pre-processing for the data. However, for the diabetes column, we plan to merge the prediabetes and the no diabetes column since our goal is to have a binary output on whether a patient has diabetes or not. Additionally, we will also merge the fruits and vegetables columns so that we can further streamline the input variables. The food and veggies column is a proxy for healthy eating and blood pressure, insulin, and heart disease are proxies for individual-specific body conditions.  Because there are no missing values, we would just need to look through the dataset and see if there are outliers, as well as normalize for gender. Because this is a general health survey, we also need to remove unnecessary variables such as if a person has health care or not, difficulty walking up and down stairs, and state of mental health. We plan to merge the two datasets  we have by the diabetes column, as both datasets include whether or not an individual has diabetes.  "
   ]
  },
  {
   "cell_type": "code",
   "execution_count": 1,
   "metadata": {},
   "outputs": [],
   "source": [
    "#import statements \n",
    "import pandas as pd\n",
    "import numpy as np"
   ]
  },
  {
   "cell_type": "code",
   "execution_count": 2,
   "metadata": {},
   "outputs": [
    {
     "data": {
      "text/html": [
       "<div>\n",
       "<style scoped>\n",
       "    .dataframe tbody tr th:only-of-type {\n",
       "        vertical-align: middle;\n",
       "    }\n",
       "\n",
       "    .dataframe tbody tr th {\n",
       "        vertical-align: top;\n",
       "    }\n",
       "\n",
       "    .dataframe thead th {\n",
       "        text-align: right;\n",
       "    }\n",
       "</style>\n",
       "<table border=\"1\" class=\"dataframe\">\n",
       "  <thead>\n",
       "    <tr style=\"text-align: right;\">\n",
       "      <th></th>\n",
       "      <th>Age</th>\n",
       "      <th>HighBP</th>\n",
       "      <th>HvyAlcoholConsump</th>\n",
       "      <th>Smoker</th>\n",
       "      <th>BMI</th>\n",
       "      <th>Income</th>\n",
       "      <th>Fruits</th>\n",
       "      <th>Veggies</th>\n",
       "      <th>Sex</th>\n",
       "      <th>Diabetes_012</th>\n",
       "    </tr>\n",
       "  </thead>\n",
       "  <tbody>\n",
       "    <tr>\n",
       "      <th>0</th>\n",
       "      <td>9.0</td>\n",
       "      <td>1.0</td>\n",
       "      <td>0.0</td>\n",
       "      <td>1.0</td>\n",
       "      <td>40.0</td>\n",
       "      <td>3.0</td>\n",
       "      <td>0.0</td>\n",
       "      <td>1.0</td>\n",
       "      <td>0.0</td>\n",
       "      <td>0.0</td>\n",
       "    </tr>\n",
       "    <tr>\n",
       "      <th>1</th>\n",
       "      <td>7.0</td>\n",
       "      <td>0.0</td>\n",
       "      <td>0.0</td>\n",
       "      <td>1.0</td>\n",
       "      <td>25.0</td>\n",
       "      <td>1.0</td>\n",
       "      <td>0.0</td>\n",
       "      <td>0.0</td>\n",
       "      <td>0.0</td>\n",
       "      <td>0.0</td>\n",
       "    </tr>\n",
       "    <tr>\n",
       "      <th>2</th>\n",
       "      <td>9.0</td>\n",
       "      <td>1.0</td>\n",
       "      <td>0.0</td>\n",
       "      <td>0.0</td>\n",
       "      <td>28.0</td>\n",
       "      <td>8.0</td>\n",
       "      <td>1.0</td>\n",
       "      <td>0.0</td>\n",
       "      <td>0.0</td>\n",
       "      <td>0.0</td>\n",
       "    </tr>\n",
       "    <tr>\n",
       "      <th>3</th>\n",
       "      <td>11.0</td>\n",
       "      <td>1.0</td>\n",
       "      <td>0.0</td>\n",
       "      <td>0.0</td>\n",
       "      <td>27.0</td>\n",
       "      <td>6.0</td>\n",
       "      <td>1.0</td>\n",
       "      <td>1.0</td>\n",
       "      <td>0.0</td>\n",
       "      <td>0.0</td>\n",
       "    </tr>\n",
       "    <tr>\n",
       "      <th>4</th>\n",
       "      <td>11.0</td>\n",
       "      <td>1.0</td>\n",
       "      <td>0.0</td>\n",
       "      <td>0.0</td>\n",
       "      <td>24.0</td>\n",
       "      <td>4.0</td>\n",
       "      <td>1.0</td>\n",
       "      <td>1.0</td>\n",
       "      <td>0.0</td>\n",
       "      <td>0.0</td>\n",
       "    </tr>\n",
       "    <tr>\n",
       "      <th>...</th>\n",
       "      <td>...</td>\n",
       "      <td>...</td>\n",
       "      <td>...</td>\n",
       "      <td>...</td>\n",
       "      <td>...</td>\n",
       "      <td>...</td>\n",
       "      <td>...</td>\n",
       "      <td>...</td>\n",
       "      <td>...</td>\n",
       "      <td>...</td>\n",
       "    </tr>\n",
       "    <tr>\n",
       "      <th>253675</th>\n",
       "      <td>5.0</td>\n",
       "      <td>1.0</td>\n",
       "      <td>0.0</td>\n",
       "      <td>0.0</td>\n",
       "      <td>45.0</td>\n",
       "      <td>7.0</td>\n",
       "      <td>1.0</td>\n",
       "      <td>1.0</td>\n",
       "      <td>1.0</td>\n",
       "      <td>0.0</td>\n",
       "    </tr>\n",
       "    <tr>\n",
       "      <th>253676</th>\n",
       "      <td>11.0</td>\n",
       "      <td>1.0</td>\n",
       "      <td>0.0</td>\n",
       "      <td>0.0</td>\n",
       "      <td>18.0</td>\n",
       "      <td>4.0</td>\n",
       "      <td>0.0</td>\n",
       "      <td>0.0</td>\n",
       "      <td>0.0</td>\n",
       "      <td>2.0</td>\n",
       "    </tr>\n",
       "    <tr>\n",
       "      <th>253677</th>\n",
       "      <td>2.0</td>\n",
       "      <td>0.0</td>\n",
       "      <td>0.0</td>\n",
       "      <td>0.0</td>\n",
       "      <td>28.0</td>\n",
       "      <td>2.0</td>\n",
       "      <td>1.0</td>\n",
       "      <td>0.0</td>\n",
       "      <td>0.0</td>\n",
       "      <td>0.0</td>\n",
       "    </tr>\n",
       "    <tr>\n",
       "      <th>253678</th>\n",
       "      <td>7.0</td>\n",
       "      <td>1.0</td>\n",
       "      <td>0.0</td>\n",
       "      <td>0.0</td>\n",
       "      <td>23.0</td>\n",
       "      <td>1.0</td>\n",
       "      <td>1.0</td>\n",
       "      <td>1.0</td>\n",
       "      <td>1.0</td>\n",
       "      <td>0.0</td>\n",
       "    </tr>\n",
       "    <tr>\n",
       "      <th>253679</th>\n",
       "      <td>9.0</td>\n",
       "      <td>1.0</td>\n",
       "      <td>0.0</td>\n",
       "      <td>0.0</td>\n",
       "      <td>25.0</td>\n",
       "      <td>2.0</td>\n",
       "      <td>1.0</td>\n",
       "      <td>0.0</td>\n",
       "      <td>0.0</td>\n",
       "      <td>2.0</td>\n",
       "    </tr>\n",
       "  </tbody>\n",
       "</table>\n",
       "<p>253680 rows × 10 columns</p>\n",
       "</div>"
      ],
      "text/plain": [
       "         Age  HighBP  HvyAlcoholConsump  Smoker   BMI  Income  Fruits  \\\n",
       "0        9.0     1.0                0.0     1.0  40.0     3.0     0.0   \n",
       "1        7.0     0.0                0.0     1.0  25.0     1.0     0.0   \n",
       "2        9.0     1.0                0.0     0.0  28.0     8.0     1.0   \n",
       "3       11.0     1.0                0.0     0.0  27.0     6.0     1.0   \n",
       "4       11.0     1.0                0.0     0.0  24.0     4.0     1.0   \n",
       "...      ...     ...                ...     ...   ...     ...     ...   \n",
       "253675   5.0     1.0                0.0     0.0  45.0     7.0     1.0   \n",
       "253676  11.0     1.0                0.0     0.0  18.0     4.0     0.0   \n",
       "253677   2.0     0.0                0.0     0.0  28.0     2.0     1.0   \n",
       "253678   7.0     1.0                0.0     0.0  23.0     1.0     1.0   \n",
       "253679   9.0     1.0                0.0     0.0  25.0     2.0     1.0   \n",
       "\n",
       "        Veggies  Sex  Diabetes_012  \n",
       "0           1.0  0.0           0.0  \n",
       "1           0.0  0.0           0.0  \n",
       "2           0.0  0.0           0.0  \n",
       "3           1.0  0.0           0.0  \n",
       "4           1.0  0.0           0.0  \n",
       "...         ...  ...           ...  \n",
       "253675      1.0  1.0           0.0  \n",
       "253676      0.0  0.0           2.0  \n",
       "253677      0.0  0.0           0.0  \n",
       "253678      1.0  1.0           0.0  \n",
       "253679      0.0  0.0           2.0  \n",
       "\n",
       "[253680 rows x 10 columns]"
      ]
     },
     "execution_count": 2,
     "metadata": {},
     "output_type": "execute_result"
    }
   ],
   "source": [
    "#reading the dataset in as a csv\n",
    "diabetes_df = pd.read_csv(\"diabetes_012_health_indicators_BRFSS2015.csv\")\n",
    "\n",
    "#We only want to observe the important variables as those are the relevant ones to our research question\n",
    "important_vars = ['Age', 'HighBP', 'HvyAlcoholConsump', 'Smoker',\n",
    "                 'BMI', 'Income', 'Fruits', 'Veggies', 'Sex', 'Diabetes_012']\n",
    "diabetes_df = diabetes_df[important_vars]\n",
    "diabetes_df_cleaned = diabetes_df.dropna()\n",
    "\n",
    "#display dataset\n",
    "diabetes_df_cleaned"
   ]
  },
  {
   "cell_type": "markdown",
   "metadata": {},
   "source": [
    "## Dataset #2 Food Environment Atlas Dataset"
   ]
  },
  {
   "cell_type": "markdown",
   "metadata": {},
   "source": [
    "- Dataset Name: Food Enviroment Atlas\n",
    "    - Link to the dataset: https://www.ers.usda.gov/data-products/food-environment-atlas/data-access-and-documentation-downloads/\n",
    "    - Number of observations: 102\n",
    "    - Number of variables: 4\n",
    "    - Description of Important Variables:\n",
    "        - State: List of the US States\n",
    "        - Variables: This variable specifies whether mean is describing income `median_income` or diabetes rate `diabetes_rate`\n",
    "        - mean: state average of either income or diabetes rate\n",
    "- Description of the dataset: This dataset has data regarding income and the diabetes rate of different states and counties in the U.S. There were many more variables in the `Variables` column, but as they were unecessary for our analysis, these variables were removed. This leaves us with two variables that are useful to our analysis, which are the median income and diabetes rate. We will be exploring whether there is a correlation between income and diabetes through this dataset. \n"
   ]
  },
  {
   "cell_type": "code",
   "execution_count": 3,
   "metadata": {},
   "outputs": [
    {
     "data": {
      "text/html": [
       "<div>\n",
       "<style scoped>\n",
       "    .dataframe tbody tr th:only-of-type {\n",
       "        vertical-align: middle;\n",
       "    }\n",
       "\n",
       "    .dataframe tbody tr th {\n",
       "        vertical-align: top;\n",
       "    }\n",
       "\n",
       "    .dataframe thead th {\n",
       "        text-align: right;\n",
       "    }\n",
       "</style>\n",
       "<table border=\"1\" class=\"dataframe\">\n",
       "  <thead>\n",
       "    <tr style=\"text-align: right;\">\n",
       "      <th></th>\n",
       "      <th>State</th>\n",
       "      <th>Variables</th>\n",
       "      <th>mean</th>\n",
       "    </tr>\n",
       "  </thead>\n",
       "  <tbody>\n",
       "    <tr>\n",
       "      <th>0</th>\n",
       "      <td>AK</td>\n",
       "      <td>median_income</td>\n",
       "      <td>61646.178571</td>\n",
       "    </tr>\n",
       "    <tr>\n",
       "      <th>1</th>\n",
       "      <td>AK</td>\n",
       "      <td>diabetes_rate</td>\n",
       "      <td>7.017241</td>\n",
       "    </tr>\n",
       "    <tr>\n",
       "      <th>2</th>\n",
       "      <td>AL</td>\n",
       "      <td>median_income</td>\n",
       "      <td>39830.104478</td>\n",
       "    </tr>\n",
       "    <tr>\n",
       "      <th>3</th>\n",
       "      <td>AL</td>\n",
       "      <td>diabetes_rate</td>\n",
       "      <td>15.489552</td>\n",
       "    </tr>\n",
       "    <tr>\n",
       "      <th>4</th>\n",
       "      <td>AR</td>\n",
       "      <td>median_income</td>\n",
       "      <td>38592.680000</td>\n",
       "    </tr>\n",
       "    <tr>\n",
       "      <th>...</th>\n",
       "      <td>...</td>\n",
       "      <td>...</td>\n",
       "      <td>...</td>\n",
       "    </tr>\n",
       "    <tr>\n",
       "      <th>97</th>\n",
       "      <td>WI</td>\n",
       "      <td>diabetes_rate</td>\n",
       "      <td>9.706944</td>\n",
       "    </tr>\n",
       "    <tr>\n",
       "      <th>98</th>\n",
       "      <td>WV</td>\n",
       "      <td>median_income</td>\n",
       "      <td>40523.309091</td>\n",
       "    </tr>\n",
       "    <tr>\n",
       "      <th>99</th>\n",
       "      <td>WV</td>\n",
       "      <td>diabetes_rate</td>\n",
       "      <td>13.943636</td>\n",
       "    </tr>\n",
       "    <tr>\n",
       "      <th>100</th>\n",
       "      <td>WY</td>\n",
       "      <td>median_income</td>\n",
       "      <td>59936.478261</td>\n",
       "    </tr>\n",
       "    <tr>\n",
       "      <th>101</th>\n",
       "      <td>WY</td>\n",
       "      <td>diabetes_rate</td>\n",
       "      <td>8.900000</td>\n",
       "    </tr>\n",
       "  </tbody>\n",
       "</table>\n",
       "<p>102 rows × 3 columns</p>\n",
       "</div>"
      ],
      "text/plain": [
       "    State      Variables          mean\n",
       "0      AK  median_income  61646.178571\n",
       "1      AK  diabetes_rate      7.017241\n",
       "2      AL  median_income  39830.104478\n",
       "3      AL  diabetes_rate     15.489552\n",
       "4      AR  median_income  38592.680000\n",
       "..    ...            ...           ...\n",
       "97     WI  diabetes_rate      9.706944\n",
       "98     WV  median_income  40523.309091\n",
       "99     WV  diabetes_rate     13.943636\n",
       "100    WY  median_income  59936.478261\n",
       "101    WY  diabetes_rate      8.900000\n",
       "\n",
       "[102 rows x 3 columns]"
      ]
     },
     "execution_count": 3,
     "metadata": {},
     "output_type": "execute_result"
    }
   ],
   "source": [
    "#read in the dataset as a csv \n",
    "df = pd.read_csv(\"StateAndCountyData.csv\")\n",
    "\n",
    "#filter dataset by dropping unnecessary columns \n",
    "df = df[(df[\"Variable_Code\"] == \"MEDHHINC15\") | (df[\"Variable_Code\"] == \"PCT_DIABETES_ADULTS13\")]\n",
    "df = df.drop(columns = [\"FIPS\", \"County\"])\n",
    "\n",
    "#group dataset by state and rename row values in Variable column with more intuitive values \n",
    "df = df.groupby([\"State\", \"Variable_Code\"])[\"Value\"].agg([\"sum\", \"mean\"]).reset_index()\n",
    "df[\"Variable_Code\"] = df[\"Variable_Code\"].replace(\"MEDHHINC15\", \"median_income\")\n",
    "df[\"Variable_Code\"] = df[\"Variable_Code\"].replace(\"PCT_DIABETES_ADULTS13\", \"diabetes_rate\")\n",
    "df = df.rename(columns = {\"Variable_Code\": \"Variables\"})\n",
    "df = df.drop(columns = [\"sum\"])\n",
    "\n",
    "# display dataset\n",
    "df"
   ]
  },
  {
   "cell_type": "markdown",
   "metadata": {},
   "source": [
    "# Results\n",
    "\n",
    "## Exploratory Data Analysis\n",
    "\n",
    "Carry out whatever EDA you need to for your project.  Because every project will be different we can't really give you much of a template at this point. But please make sure you describe the what and why in text here as well as providing interpretation of results and context."
   ]
  },
  {
   "cell_type": "markdown",
   "metadata": {},
   "source": [
    "## EDA Section 1 - Dataset 1: Diabetes Health Indicators\n",
    "\n",
    "Some more words and stuff.  Remember notebooks work best if you interleave the code that generates a result with properly annotate figures and text that puts these results into context."
   ]
  },
  {
   "cell_type": "code",
   "execution_count": 4,
   "metadata": {},
   "outputs": [
    {
     "data": {
      "text/html": [
       "<div>\n",
       "<style scoped>\n",
       "    .dataframe tbody tr th:only-of-type {\n",
       "        vertical-align: middle;\n",
       "    }\n",
       "\n",
       "    .dataframe tbody tr th {\n",
       "        vertical-align: top;\n",
       "    }\n",
       "\n",
       "    .dataframe thead th {\n",
       "        text-align: right;\n",
       "    }\n",
       "</style>\n",
       "<table border=\"1\" class=\"dataframe\">\n",
       "  <thead>\n",
       "    <tr style=\"text-align: right;\">\n",
       "      <th></th>\n",
       "      <th>Age</th>\n",
       "      <th>HighBP</th>\n",
       "      <th>HvyAlcoholConsump</th>\n",
       "      <th>Smoker</th>\n",
       "      <th>BMI</th>\n",
       "      <th>Income</th>\n",
       "      <th>Fruits</th>\n",
       "      <th>Veggies</th>\n",
       "      <th>Sex</th>\n",
       "      <th>Diabetes_012</th>\n",
       "    </tr>\n",
       "  </thead>\n",
       "  <tbody>\n",
       "    <tr>\n",
       "      <th>count</th>\n",
       "      <td>253680.000000</td>\n",
       "      <td>253680.000000</td>\n",
       "      <td>253680.000000</td>\n",
       "      <td>253680.000000</td>\n",
       "      <td>253680.000000</td>\n",
       "      <td>253680.000000</td>\n",
       "      <td>253680.000000</td>\n",
       "      <td>253680.000000</td>\n",
       "      <td>253680.000000</td>\n",
       "      <td>253680.000000</td>\n",
       "    </tr>\n",
       "    <tr>\n",
       "      <th>mean</th>\n",
       "      <td>8.032119</td>\n",
       "      <td>0.429001</td>\n",
       "      <td>0.056197</td>\n",
       "      <td>0.443169</td>\n",
       "      <td>28.382364</td>\n",
       "      <td>6.053875</td>\n",
       "      <td>0.634256</td>\n",
       "      <td>0.811420</td>\n",
       "      <td>0.440342</td>\n",
       "      <td>0.296921</td>\n",
       "    </tr>\n",
       "    <tr>\n",
       "      <th>std</th>\n",
       "      <td>3.054220</td>\n",
       "      <td>0.494934</td>\n",
       "      <td>0.230302</td>\n",
       "      <td>0.496761</td>\n",
       "      <td>6.608694</td>\n",
       "      <td>2.071148</td>\n",
       "      <td>0.481639</td>\n",
       "      <td>0.391175</td>\n",
       "      <td>0.496429</td>\n",
       "      <td>0.698160</td>\n",
       "    </tr>\n",
       "    <tr>\n",
       "      <th>min</th>\n",
       "      <td>1.000000</td>\n",
       "      <td>0.000000</td>\n",
       "      <td>0.000000</td>\n",
       "      <td>0.000000</td>\n",
       "      <td>12.000000</td>\n",
       "      <td>1.000000</td>\n",
       "      <td>0.000000</td>\n",
       "      <td>0.000000</td>\n",
       "      <td>0.000000</td>\n",
       "      <td>0.000000</td>\n",
       "    </tr>\n",
       "    <tr>\n",
       "      <th>25%</th>\n",
       "      <td>6.000000</td>\n",
       "      <td>0.000000</td>\n",
       "      <td>0.000000</td>\n",
       "      <td>0.000000</td>\n",
       "      <td>24.000000</td>\n",
       "      <td>5.000000</td>\n",
       "      <td>0.000000</td>\n",
       "      <td>1.000000</td>\n",
       "      <td>0.000000</td>\n",
       "      <td>0.000000</td>\n",
       "    </tr>\n",
       "    <tr>\n",
       "      <th>50%</th>\n",
       "      <td>8.000000</td>\n",
       "      <td>0.000000</td>\n",
       "      <td>0.000000</td>\n",
       "      <td>0.000000</td>\n",
       "      <td>27.000000</td>\n",
       "      <td>7.000000</td>\n",
       "      <td>1.000000</td>\n",
       "      <td>1.000000</td>\n",
       "      <td>0.000000</td>\n",
       "      <td>0.000000</td>\n",
       "    </tr>\n",
       "    <tr>\n",
       "      <th>75%</th>\n",
       "      <td>10.000000</td>\n",
       "      <td>1.000000</td>\n",
       "      <td>0.000000</td>\n",
       "      <td>1.000000</td>\n",
       "      <td>31.000000</td>\n",
       "      <td>8.000000</td>\n",
       "      <td>1.000000</td>\n",
       "      <td>1.000000</td>\n",
       "      <td>1.000000</td>\n",
       "      <td>0.000000</td>\n",
       "    </tr>\n",
       "    <tr>\n",
       "      <th>max</th>\n",
       "      <td>13.000000</td>\n",
       "      <td>1.000000</td>\n",
       "      <td>1.000000</td>\n",
       "      <td>1.000000</td>\n",
       "      <td>98.000000</td>\n",
       "      <td>8.000000</td>\n",
       "      <td>1.000000</td>\n",
       "      <td>1.000000</td>\n",
       "      <td>1.000000</td>\n",
       "      <td>2.000000</td>\n",
       "    </tr>\n",
       "  </tbody>\n",
       "</table>\n",
       "</div>"
      ],
      "text/plain": [
       "                 Age         HighBP  HvyAlcoholConsump         Smoker  \\\n",
       "count  253680.000000  253680.000000      253680.000000  253680.000000   \n",
       "mean        8.032119       0.429001           0.056197       0.443169   \n",
       "std         3.054220       0.494934           0.230302       0.496761   \n",
       "min         1.000000       0.000000           0.000000       0.000000   \n",
       "25%         6.000000       0.000000           0.000000       0.000000   \n",
       "50%         8.000000       0.000000           0.000000       0.000000   \n",
       "75%        10.000000       1.000000           0.000000       1.000000   \n",
       "max        13.000000       1.000000           1.000000       1.000000   \n",
       "\n",
       "                 BMI         Income         Fruits        Veggies  \\\n",
       "count  253680.000000  253680.000000  253680.000000  253680.000000   \n",
       "mean       28.382364       6.053875       0.634256       0.811420   \n",
       "std         6.608694       2.071148       0.481639       0.391175   \n",
       "min        12.000000       1.000000       0.000000       0.000000   \n",
       "25%        24.000000       5.000000       0.000000       1.000000   \n",
       "50%        27.000000       7.000000       1.000000       1.000000   \n",
       "75%        31.000000       8.000000       1.000000       1.000000   \n",
       "max        98.000000       8.000000       1.000000       1.000000   \n",
       "\n",
       "                 Sex   Diabetes_012  \n",
       "count  253680.000000  253680.000000  \n",
       "mean        0.440342       0.296921  \n",
       "std         0.496429       0.698160  \n",
       "min         0.000000       0.000000  \n",
       "25%         0.000000       0.000000  \n",
       "50%         0.000000       0.000000  \n",
       "75%         1.000000       0.000000  \n",
       "max         1.000000       2.000000  "
      ]
     },
     "execution_count": 4,
     "metadata": {},
     "output_type": "execute_result"
    }
   ],
   "source": [
    "# Get mean, medians, and spread\n",
    "statistics = diabetes_df_cleaned.describe()\n",
    "statistics"
   ]
  },
  {
   "cell_type": "markdown",
   "metadata": {},
   "source": [
    "Looking at the statistics, it appears that the mean age is about 8 (on a scale of 1 to 13), and the mean gender is 0.44 (between 0-male and 1-female). Although the age may be slightly skewed towards an older population and the average gender appears to be slightly leaning towards male, the data does not appear to be biased towards one specific group enough to affect our conclusions.  "
   ]
  },
  {
   "cell_type": "code",
   "execution_count": 5,
   "metadata": {},
   "outputs": [
    {
     "data": {
      "image/png": "[encoded data removed]",
      "text/plain": [
       "<Figure size 1440x1080 with 12 Axes>"
      ]
     },
     "metadata": {
      "needs_background": "light"
     },
     "output_type": "display_data"
    }
   ],
   "source": [
    "#import statements \n",
    "import seaborn as sns\n",
    "import matplotlib.pyplot as plt\n",
    "import math\n",
    "\n",
    "# Calculate the number of rows and columns based on the number of columns in the DataFrame\n",
    "num_columns = len(diabetes_df_cleaned.columns)\n",
    "num_rows = math.ceil(num_columns / 4)  # Assuming 4 plots per row\n",
    "\n",
    "# Create subplots for each variable\n",
    "fig, axs = plt.subplots(nrows=num_rows, ncols=4, figsize=(20, 5 * num_rows))\n",
    "\n",
    "# Flatten the axs array for easier iteration\n",
    "axs = axs.flatten()\n",
    "\n",
    "# Iterate through each column and plot the histogram\n",
    "for i, column in enumerate(diabetes_df_cleaned.columns):\n",
    "    axs[i].hist(diabetes_df_cleaned[column], bins=20, alpha=0.7)\n",
    "    axs[i].set_title(column)\n",
    "    axs[i].set_xlabel('Values')\n",
    "    axs[i].set_ylabel('Frequency')\n",
    "\n",
    "# Hide the remaining empty subplots\n",
    "for j in range(i + 1, len(axs)):\n",
    "    axs[j].axis('off')\n",
    "\n",
    "plt.tight_layout()\n",
    "plt.show()"
   ]
  },
  {
   "cell_type": "code",
   "execution_count": 6,
   "metadata": {},
   "outputs": [],
   "source": [
    "#Rename Diabetes_012 and combined Diabetes_012 values for sake of consistency\n",
    "diabetes_df_cleaned = diabetes_df_cleaned.rename(columns = {\"Diabetes_012\": \"Diabetes_01\"})\n",
    "diabetes_df_cleaned[\"Diabetes_01\"].replace(2, 1, inplace = True)"
   ]
  },
  {
   "cell_type": "markdown",
   "metadata": {},
   "source": [
    "Looking at the above plots, it appears that more individuals in this dataset do not have diabetes (as the 0 bar is higher in the Diabetes graph) than those that do or have pre-diabetes. Additionally, income seems to be more left-skewed towards, the 8 value, which means individuals in this dataset are in the highest income bracket of at least 75,000 USD a year. In terms of the fruits and veggies graphs, more people appear to be consuming fruits and veggies than those that do not, and very few appear to be heavy alcohol drinkers. These are all factors to consider as we continue our EDA to ensure we do not let the skewed distributions wrongly impact our conclusion. "
   ]
  },
  {
   "cell_type": "markdown",
   "metadata": {},
   "source": [
    "Next, we transformed the three possible values for th diabetes column (0, 1, 2) into a binary (0 or 1) indicating whether a person has diabetes or not. The change is visible in the table below. "
   ]
  },
  {
   "cell_type": "code",
   "execution_count": 7,
   "metadata": {},
   "outputs": [
    {
     "data": {
      "text/html": [
       "<div>\n",
       "<style scoped>\n",
       "    .dataframe tbody tr th:only-of-type {\n",
       "        vertical-align: middle;\n",
       "    }\n",
       "\n",
       "    .dataframe tbody tr th {\n",
       "        vertical-align: top;\n",
       "    }\n",
       "\n",
       "    .dataframe thead th {\n",
       "        text-align: right;\n",
       "    }\n",
       "</style>\n",
       "<table border=\"1\" class=\"dataframe\">\n",
       "  <thead>\n",
       "    <tr style=\"text-align: right;\">\n",
       "      <th></th>\n",
       "      <th>Age</th>\n",
       "      <th>HighBP</th>\n",
       "      <th>HvyAlcoholConsump</th>\n",
       "      <th>Smoker</th>\n",
       "      <th>BMI</th>\n",
       "      <th>Income</th>\n",
       "      <th>Fruits</th>\n",
       "      <th>Veggies</th>\n",
       "      <th>Sex</th>\n",
       "      <th>Diabetes_01</th>\n",
       "    </tr>\n",
       "  </thead>\n",
       "  <tbody>\n",
       "    <tr>\n",
       "      <th>count</th>\n",
       "      <td>253680.000000</td>\n",
       "      <td>253680.000000</td>\n",
       "      <td>253680.000000</td>\n",
       "      <td>253680.000000</td>\n",
       "      <td>253680.000000</td>\n",
       "      <td>253680.000000</td>\n",
       "      <td>253680.000000</td>\n",
       "      <td>253680.000000</td>\n",
       "      <td>253680.000000</td>\n",
       "      <td>253680.000000</td>\n",
       "    </tr>\n",
       "    <tr>\n",
       "      <th>mean</th>\n",
       "      <td>8.032119</td>\n",
       "      <td>0.429001</td>\n",
       "      <td>0.056197</td>\n",
       "      <td>0.443169</td>\n",
       "      <td>28.382364</td>\n",
       "      <td>6.053875</td>\n",
       "      <td>0.634256</td>\n",
       "      <td>0.811420</td>\n",
       "      <td>0.440342</td>\n",
       "      <td>0.157588</td>\n",
       "    </tr>\n",
       "    <tr>\n",
       "      <th>std</th>\n",
       "      <td>3.054220</td>\n",
       "      <td>0.494934</td>\n",
       "      <td>0.230302</td>\n",
       "      <td>0.496761</td>\n",
       "      <td>6.608694</td>\n",
       "      <td>2.071148</td>\n",
       "      <td>0.481639</td>\n",
       "      <td>0.391175</td>\n",
       "      <td>0.496429</td>\n",
       "      <td>0.364355</td>\n",
       "    </tr>\n",
       "    <tr>\n",
       "      <th>min</th>\n",
       "      <td>1.000000</td>\n",
       "      <td>0.000000</td>\n",
       "      <td>0.000000</td>\n",
       "      <td>0.000000</td>\n",
       "      <td>12.000000</td>\n",
       "      <td>1.000000</td>\n",
       "      <td>0.000000</td>\n",
       "      <td>0.000000</td>\n",
       "      <td>0.000000</td>\n",
       "      <td>0.000000</td>\n",
       "    </tr>\n",
       "    <tr>\n",
       "      <th>25%</th>\n",
       "      <td>6.000000</td>\n",
       "      <td>0.000000</td>\n",
       "      <td>0.000000</td>\n",
       "      <td>0.000000</td>\n",
       "      <td>24.000000</td>\n",
       "      <td>5.000000</td>\n",
       "      <td>0.000000</td>\n",
       "      <td>1.000000</td>\n",
       "      <td>0.000000</td>\n",
       "      <td>0.000000</td>\n",
       "    </tr>\n",
       "    <tr>\n",
       "      <th>50%</th>\n",
       "      <td>8.000000</td>\n",
       "      <td>0.000000</td>\n",
       "      <td>0.000000</td>\n",
       "      <td>0.000000</td>\n",
       "      <td>27.000000</td>\n",
       "      <td>7.000000</td>\n",
       "      <td>1.000000</td>\n",
       "      <td>1.000000</td>\n",
       "      <td>0.000000</td>\n",
       "      <td>0.000000</td>\n",
       "    </tr>\n",
       "    <tr>\n",
       "      <th>75%</th>\n",
       "      <td>10.000000</td>\n",
       "      <td>1.000000</td>\n",
       "      <td>0.000000</td>\n",
       "      <td>1.000000</td>\n",
       "      <td>31.000000</td>\n",
       "      <td>8.000000</td>\n",
       "      <td>1.000000</td>\n",
       "      <td>1.000000</td>\n",
       "      <td>1.000000</td>\n",
       "      <td>0.000000</td>\n",
       "    </tr>\n",
       "    <tr>\n",
       "      <th>max</th>\n",
       "      <td>13.000000</td>\n",
       "      <td>1.000000</td>\n",
       "      <td>1.000000</td>\n",
       "      <td>1.000000</td>\n",
       "      <td>98.000000</td>\n",
       "      <td>8.000000</td>\n",
       "      <td>1.000000</td>\n",
       "      <td>1.000000</td>\n",
       "      <td>1.000000</td>\n",
       "      <td>1.000000</td>\n",
       "    </tr>\n",
       "  </tbody>\n",
       "</table>\n",
       "</div>"
      ],
      "text/plain": [
       "                 Age         HighBP  HvyAlcoholConsump         Smoker  \\\n",
       "count  253680.000000  253680.000000      253680.000000  253680.000000   \n",
       "mean        8.032119       0.429001           0.056197       0.443169   \n",
       "std         3.054220       0.494934           0.230302       0.496761   \n",
       "min         1.000000       0.000000           0.000000       0.000000   \n",
       "25%         6.000000       0.000000           0.000000       0.000000   \n",
       "50%         8.000000       0.000000           0.000000       0.000000   \n",
       "75%        10.000000       1.000000           0.000000       1.000000   \n",
       "max        13.000000       1.000000           1.000000       1.000000   \n",
       "\n",
       "                 BMI         Income         Fruits        Veggies  \\\n",
       "count  253680.000000  253680.000000  253680.000000  253680.000000   \n",
       "mean       28.382364       6.053875       0.634256       0.811420   \n",
       "std         6.608694       2.071148       0.481639       0.391175   \n",
       "min        12.000000       1.000000       0.000000       0.000000   \n",
       "25%        24.000000       5.000000       0.000000       1.000000   \n",
       "50%        27.000000       7.000000       1.000000       1.000000   \n",
       "75%        31.000000       8.000000       1.000000       1.000000   \n",
       "max        98.000000       8.000000       1.000000       1.000000   \n",
       "\n",
       "                 Sex    Diabetes_01  \n",
       "count  253680.000000  253680.000000  \n",
       "mean        0.440342       0.157588  \n",
       "std         0.496429       0.364355  \n",
       "min         0.000000       0.000000  \n",
       "25%         0.000000       0.000000  \n",
       "50%         0.000000       0.000000  \n",
       "75%         1.000000       0.000000  \n",
       "max         1.000000       1.000000  "
      ]
     },
     "execution_count": 7,
     "metadata": {},
     "output_type": "execute_result"
    }
   ],
   "source": [
    "#view the distribution of the dataset once again\n",
    "diabetes_df_cleaned.describe()"
   ]
  },
  {
   "cell_type": "markdown",
   "metadata": {},
   "source": [
    "Barplot for Blood Pressure vs Diabetes Rate:"
   ]
  },
  {
   "cell_type": "code",
   "execution_count": 8,
   "metadata": {},
   "outputs": [
    {
     "data": {
      "image/png": "[encoded data removed]",
      "text/plain": [
       "<Figure size 432x288 with 1 Axes>"
      ]
     },
     "metadata": {
      "needs_background": "light"
     },
     "output_type": "display_data"
    }
   ],
   "source": [
    "proportions = diabetes_df_cleaned.groupby('HighBP')['Diabetes_01'].mean().reset_index()\n",
    "# Plot\n",
    "sns.barplot(data=proportions, x='HighBP', y='Diabetes_01')\n",
    "plt.title('Proportion of Diabetes Rate by High Blood Pressure')\n",
    "plt.xlabel('HighBP (1 = Present, 0 = Absent)')\n",
    "plt.ylabel('Proportion of Diabetes')\n",
    "plt.ylim(0, 1)  # Set y-axis limit from 0 to 1 for proportions\n",
    "plt.show()"
   ]
  },
  {
   "cell_type": "markdown",
   "metadata": {},
   "source": [
    "The bar plot visualizes the relationship between high blood pressure and the presence of diabetes in the dataset, where both variables are binary (1 for presence, 0 for absence). Since the bar for high blood pressure = 1 is significantly higher than the bar for blood pressure = 0, it suggests a positive association between blood pressure issues and diabetes. In other words, individuals with blood pressure issues are more likely to have diabetes. This corroborates with the common belief that blood pressure correlates with a higher risk for diabetes."
   ]
  },
  {
   "cell_type": "markdown",
   "metadata": {},
   "source": [
    "Barplot for Heavy Alcohol Consumption vs. Diabetes Rate:"
   ]
  },
  {
   "cell_type": "code",
   "execution_count": 9,
   "metadata": {},
   "outputs": [
    {
     "data": {
      "image/png": "[encoded data removed]",
      "text/plain": [
       "<Figure size 432x288 with 1 Axes>"
      ]
     },
     "metadata": {
      "needs_background": "light"
     },
     "output_type": "display_data"
    }
   ],
   "source": [
    "# Calculate proportions\n",
    "proportions = diabetes_df_cleaned.groupby('HvyAlcoholConsump')['Diabetes_01'].mean().reset_index()\n",
    "\n",
    "# Plot\n",
    "sns.barplot(data=proportions, x='HvyAlcoholConsump', y='Diabetes_01')\n",
    "plt.title('Proportion of Diabetes Rate by Heavy Alcohol Consumption')\n",
    "plt.xlabel('Heavy Alcohol Consumption (1 = Heavy Alcohol Consumption, 0 = No Heavy Alcohol Consumption)')\n",
    "plt.ylabel('Proportion of Diabetes')\n",
    "plt.ylim(0, 1)  # Set y-axis limit from 0 to 1 for proportions\n",
    "plt.show()\n"
   ]
  },
  {
   "cell_type": "markdown",
   "metadata": {},
   "source": [
    "The bar plot depicts two bars corresponding to individuals categorized based on their heavy alcohol consumption status: 1 for heavy alcohol consumption and 0 for no heavy alcohol consumption. The height of each bar represents the proportion of individuals with and without diabetes within each heavy alcohol consumption category. Since the bar for heavy alcohol consumption = 0 is notably higher than the bar for heavy alcohol consumption = 1, it suggests a negative association between heavy alcohol consumption and diabetes. In other words, individuals who do not engage in heavy alcohol consumption are more likely to have diabetes, which is surprising. However, research says that \"Notably, heavy amounts of alcohol show direct diabetogenic effects with its contribution to excess caloric intake and obesity, induction of pancreatitis, disturbance of the carbohydrate and glucose metabolism and the impairment of the liver function, which affects the blood glucose levels, which causes hypoglycemia.\" <a name=\"Alcoholism_Diabetes\"></a>[<sup>1</sup>](#Alcoholism_Diabetes) Since this dataset comes from a survey via phone call and there are way more people answered \"No\" to heavy alcohol consumption, their answer could be biased for us to draw the conlusion. \n",
    "1. <a name=\"Alcoholism_Diabetes\"></a> [^](#Alcoholism_Diabetes) *Alcoholism and Diabetes Mellitus*. https://www.ncbi.nlm.nih.gov/pmc/articles/PMC3335891/"
   ]
  },
  {
   "cell_type": "markdown",
   "metadata": {},
   "source": [
    "Barplot for Smoking vs. Diabetes Rate:"
   ]
  },
  {
   "cell_type": "code",
   "execution_count": 10,
   "metadata": {},
   "outputs": [
    {
     "data": {
      "image/png": "[encoded data removed]",
      "text/plain": [
       "<Figure size 432x288 with 1 Axes>"
      ]
     },
     "metadata": {
      "needs_background": "light"
     },
     "output_type": "display_data"
    }
   ],
   "source": [
    "# Calculate proportions\n",
    "proportions = diabetes_df_cleaned.groupby('Smoker')['Diabetes_01'].mean().reset_index()\n",
    "\n",
    "# Plot\n",
    "sns.barplot(data=proportions, x='Smoker', y='Diabetes_01')\n",
    "plt.title('Proportion of Diabetes Rate by Smoking')\n",
    "plt.xlabel('Smoker (1 = Smoker, 0 = Non-smoker)')\n",
    "plt.ylabel('Proportion of Diabetes')\n",
    "plt.ylim(0, 1)  # Set y-axis limit from 0 to 1 for proportions\n",
    "plt.show()"
   ]
  },
  {
   "cell_type": "markdown",
   "metadata": {},
   "source": [
    "The bar plot displays two bars representing individuals categorized based on their smoking status: 1 for smokers and 0 for non-smokers. Since the bar for smoking = 1 (smokers) is slightly higher than the bar for smoking = 0 (non-smokers), it suggests a positive association between smoking and diabetes. In other words, individuals who smoke are more likely to have diabetes. This corroborates with the background information that heavy smokers are more likely to have diabetes because smoking is unhealthy."
   ]
  },
  {
   "cell_type": "markdown",
   "metadata": {},
   "source": [
    "Barplot for Fruits Consumption vs. Diabetes Rate:"
   ]
  },
  {
   "cell_type": "code",
   "execution_count": 11,
   "metadata": {},
   "outputs": [
    {
     "data": {
      "image/png": "[encoded data removed]",
      "text/plain": [
       "<Figure size 432x288 with 1 Axes>"
      ]
     },
     "metadata": {
      "needs_background": "light"
     },
     "output_type": "display_data"
    }
   ],
   "source": [
    "# Calculate proportions\n",
    "proportions = diabetes_df_cleaned.groupby('Fruits')['Diabetes_01'].mean().reset_index()\n",
    "\n",
    "# Plot\n",
    "sns.barplot(data=proportions, x='Fruits', y='Diabetes_01')\n",
    "plt.title('Proportion of Diabetes Rate by Fruits Consumption')\n",
    "plt.xlabel('Fruits Consumption (1 = At least once per day, 0 = No fruits or veggies)')\n",
    "plt.ylabel('Proportion of Diabetes')\n",
    "plt.ylim(0, 1)  # Set y-axis limit from 0 to 1 for proportions\n",
    "plt.show()"
   ]
  },
  {
   "cell_type": "markdown",
   "metadata": {},
   "source": [
    "Barplot for Veggies Consumption vs. Diabetes Rate"
   ]
  },
  {
   "cell_type": "code",
   "execution_count": 12,
   "metadata": {},
   "outputs": [
    {
     "data": {
      "image/png": "[encoded data removed]",
      "text/plain": [
       "<Figure size 432x288 with 1 Axes>"
      ]
     },
     "metadata": {
      "needs_background": "light"
     },
     "output_type": "display_data"
    }
   ],
   "source": [
    "# Calculate proportions\n",
    "proportions = diabetes_df_cleaned.groupby('Veggies')['Diabetes_01'].mean().reset_index()\n",
    "\n",
    "# Plot\n",
    "sns.barplot(data=proportions, x='Veggies', y='Diabetes_01')\n",
    "plt.title('Proportion of Diabetes Rate by Vegetable Consumption')\n",
    "plt.xlabel('Vegetable Consumption (1 = At least once per day, 0 = No fruits or veggies)')\n",
    "plt.ylabel('Proportion of Diabetes')\n",
    "plt.ylim(0, 1)  # Set y-axis limit from 0 to 1 for proportions\n",
    "plt.show()"
   ]
  },
  {
   "cell_type": "markdown",
   "metadata": {},
   "source": [
    "The above two bar plots display  bars representing individuals categorized based on their veggies/fruits consumption status: 1 for consumption of fruits and vegetables at least once per day, and 0 for no fruits or veggies consumption.\n",
    "Since the bar for veggie consumption = 0 (no fruits or veggies consumption) is significantly higher, it indicates that individuals who do not consume fruits or vegetables regularly are more likely to have diabetes. This corroborates the common belief that eating a fruit and/or vegetable a day is likely to reduce risk of diabetes because fruits and vegetables are healthy."
   ]
  },
  {
   "cell_type": "markdown",
   "metadata": {},
   "source": [
    "## Removing Outliers"
   ]
  },
  {
   "cell_type": "markdown",
   "metadata": {},
   "source": [
    "We want to get rid of outliers regarding each variable. We could get rid of outliers overall(i.e. we remove a row if one of the variables has an outlier), but that would remove a great chunk of this dataset(253k samples to 85k samples). So it's just better to clean out outliers in respect to each variable and have series for more data."
   ]
  },
  {
   "cell_type": "code",
   "execution_count": 13,
   "metadata": {},
   "outputs": [],
   "source": [
    "age_no_outliers = diabetes_df_cleaned[['Age', 'Diabetes_01']]\n",
    "Q1 = age_no_outliers['Age'].quantile(0.25)\n",
    "Q3 = age_no_outliers['Age'].quantile(0.75)\n",
    "IQR = Q3 - Q1\n",
    "lower_bound = Q1 - 1.5 * IQR\n",
    "upper_bound = Q3 + 1.5 * IQR\n",
    "age_no_outliers = age_no_outliers[(age_no_outliers['Age'] >= lower_bound) & (age_no_outliers['Age'] <= upper_bound)]\n",
    "age_no_outliers = age_no_outliers\n",
    "\n",
    "bmi_no_outliers = diabetes_df_cleaned[['BMI', 'Diabetes_01']]\n",
    "Q1 = bmi_no_outliers['BMI'].quantile(0.25)\n",
    "Q3 = bmi_no_outliers['BMI'].quantile(0.75)\n",
    "IQR = Q3 - Q1\n",
    "lower_bound = Q1 - 1.5 * IQR\n",
    "upper_bound = Q3 + 1.5 * IQR\n",
    "bmi_no_outliers = bmi_no_outliers[(bmi_no_outliers['BMI'] >= lower_bound) & (bmi_no_outliers['BMI'] <= upper_bound)]\n",
    "bmi_no_outliers = bmi_no_outliers\n",
    "bmi_no_outliers\n",
    "\n",
    "income_no_outliers = diabetes_df_cleaned[['Income', 'Diabetes_01']]\n",
    "Q1 = income_no_outliers['Income'].quantile(0.25)\n",
    "Q3 = income_no_outliers['Income'].quantile(0.75)\n",
    "IQR = Q3 - Q1\n",
    "lower_bound = Q1 - 1.5 * IQR\n",
    "upper_bound = Q3 + 1.5 * IQR\n",
    "income_no_outliers = income_no_outliers[(income_no_outliers['Income'] >= lower_bound) & (income_no_outliers['Income'] <= upper_bound)]\n",
    "income_no_outliers = income_no_outliers"
   ]
  },
  {
   "cell_type": "markdown",
   "metadata": {},
   "source": [
    "## Analyzing quantitative variables with no outliers"
   ]
  },
  {
   "cell_type": "markdown",
   "metadata": {},
   "source": [
    "Now that we've gotten rid of outliers we should analyze the quantitative variables by plotting the box plots comparing the quantitative variables for diabetic and non-diabetic samples. We will also analyze the central tendencies and spread values of diabetic and non-diabetic samples for each quantitative variable. Let's start off with age:"
   ]
  },
  {
   "cell_type": "markdown",
   "metadata": {},
   "source": [
    "**Age**"
   ]
  },
  {
   "cell_type": "code",
   "execution_count": 14,
   "metadata": {},
   "outputs": [
    {
     "data": {
      "image/png": "[encoded data removed]",
      "text/plain": [
       "<Figure size 432x288 with 1 Axes>"
      ]
     },
     "metadata": {
      "needs_background": "light"
     },
     "output_type": "display_data"
    }
   ],
   "source": [
    "sns.boxplot(data=age_no_outliers, y='Age', x='Diabetes_01')\n",
    "plt.show()"
   ]
  },
  {
   "cell_type": "code",
   "execution_count": 15,
   "metadata": {},
   "outputs": [
    {
     "data": {
      "text/html": [
       "<div>\n",
       "<style scoped>\n",
       "    .dataframe tbody tr th:only-of-type {\n",
       "        vertical-align: middle;\n",
       "    }\n",
       "\n",
       "    .dataframe tbody tr th {\n",
       "        vertical-align: top;\n",
       "    }\n",
       "\n",
       "    .dataframe thead th {\n",
       "        text-align: right;\n",
       "    }\n",
       "</style>\n",
       "<table border=\"1\" class=\"dataframe\">\n",
       "  <thead>\n",
       "    <tr style=\"text-align: right;\">\n",
       "      <th></th>\n",
       "      <th>Age</th>\n",
       "      <th>Diabetes_01</th>\n",
       "    </tr>\n",
       "  </thead>\n",
       "  <tbody>\n",
       "    <tr>\n",
       "      <th>count</th>\n",
       "      <td>213703.000000</td>\n",
       "      <td>213703.0</td>\n",
       "    </tr>\n",
       "    <tr>\n",
       "      <th>mean</th>\n",
       "      <td>7.786559</td>\n",
       "      <td>0.0</td>\n",
       "    </tr>\n",
       "    <tr>\n",
       "      <th>std</th>\n",
       "      <td>3.104942</td>\n",
       "      <td>0.0</td>\n",
       "    </tr>\n",
       "    <tr>\n",
       "      <th>min</th>\n",
       "      <td>1.000000</td>\n",
       "      <td>0.0</td>\n",
       "    </tr>\n",
       "    <tr>\n",
       "      <th>25%</th>\n",
       "      <td>6.000000</td>\n",
       "      <td>0.0</td>\n",
       "    </tr>\n",
       "    <tr>\n",
       "      <th>50%</th>\n",
       "      <td>8.000000</td>\n",
       "      <td>0.0</td>\n",
       "    </tr>\n",
       "    <tr>\n",
       "      <th>75%</th>\n",
       "      <td>10.000000</td>\n",
       "      <td>0.0</td>\n",
       "    </tr>\n",
       "    <tr>\n",
       "      <th>max</th>\n",
       "      <td>13.000000</td>\n",
       "      <td>0.0</td>\n",
       "    </tr>\n",
       "  </tbody>\n",
       "</table>\n",
       "</div>"
      ],
      "text/plain": [
       "                 Age  Diabetes_01\n",
       "count  213703.000000     213703.0\n",
       "mean        7.786559          0.0\n",
       "std         3.104942          0.0\n",
       "min         1.000000          0.0\n",
       "25%         6.000000          0.0\n",
       "50%         8.000000          0.0\n",
       "75%        10.000000          0.0\n",
       "max        13.000000          0.0"
      ]
     },
     "execution_count": 15,
     "metadata": {},
     "output_type": "execute_result"
    }
   ],
   "source": [
    "age_no_outliers[age_no_outliers['Diabetes_01'] == 0].describe()"
   ]
  },
  {
   "cell_type": "code",
   "execution_count": 16,
   "metadata": {},
   "outputs": [
    {
     "data": {
      "text/html": [
       "<div>\n",
       "<style scoped>\n",
       "    .dataframe tbody tr th:only-of-type {\n",
       "        vertical-align: middle;\n",
       "    }\n",
       "\n",
       "    .dataframe tbody tr th {\n",
       "        vertical-align: top;\n",
       "    }\n",
       "\n",
       "    .dataframe thead th {\n",
       "        text-align: right;\n",
       "    }\n",
       "</style>\n",
       "<table border=\"1\" class=\"dataframe\">\n",
       "  <thead>\n",
       "    <tr style=\"text-align: right;\">\n",
       "      <th></th>\n",
       "      <th>Age</th>\n",
       "      <th>Diabetes_01</th>\n",
       "    </tr>\n",
       "  </thead>\n",
       "  <tbody>\n",
       "    <tr>\n",
       "      <th>count</th>\n",
       "      <td>39977.000000</td>\n",
       "      <td>39977.0</td>\n",
       "    </tr>\n",
       "    <tr>\n",
       "      <th>mean</th>\n",
       "      <td>9.344798</td>\n",
       "      <td>1.0</td>\n",
       "    </tr>\n",
       "    <tr>\n",
       "      <th>std</th>\n",
       "      <td>2.369167</td>\n",
       "      <td>0.0</td>\n",
       "    </tr>\n",
       "    <tr>\n",
       "      <th>min</th>\n",
       "      <td>1.000000</td>\n",
       "      <td>1.0</td>\n",
       "    </tr>\n",
       "    <tr>\n",
       "      <th>25%</th>\n",
       "      <td>8.000000</td>\n",
       "      <td>1.0</td>\n",
       "    </tr>\n",
       "    <tr>\n",
       "      <th>50%</th>\n",
       "      <td>10.000000</td>\n",
       "      <td>1.0</td>\n",
       "    </tr>\n",
       "    <tr>\n",
       "      <th>75%</th>\n",
       "      <td>11.000000</td>\n",
       "      <td>1.0</td>\n",
       "    </tr>\n",
       "    <tr>\n",
       "      <th>max</th>\n",
       "      <td>13.000000</td>\n",
       "      <td>1.0</td>\n",
       "    </tr>\n",
       "  </tbody>\n",
       "</table>\n",
       "</div>"
      ],
      "text/plain": [
       "                Age  Diabetes_01\n",
       "count  39977.000000      39977.0\n",
       "mean       9.344798          1.0\n",
       "std        2.369167          0.0\n",
       "min        1.000000          1.0\n",
       "25%        8.000000          1.0\n",
       "50%       10.000000          1.0\n",
       "75%       11.000000          1.0\n",
       "max       13.000000          1.0"
      ]
     },
     "execution_count": 16,
     "metadata": {},
     "output_type": "execute_result"
    }
   ],
   "source": [
    "age_no_outliers[age_no_outliers['Diabetes_01'] == 1].describe()"
   ]
  },
  {
   "cell_type": "markdown",
   "metadata": {},
   "source": [
    "It seems that diabetic samples are typically older by some amount. We also notice that for non-diabetic samples, the range of ages is more diverse, noticeable by the fact that both the IQR and standard deviation is higher, indicating higher spread. This makes sense since most people in this dataset are not diabetic, so we expect a more diverse range of values. However, diabetic people seem to be centralized at older ages and there aren't a lot of diabetic samples that are young. All of this indicates a positive correlation between Age and BMI. This can be due to certain factors such as older people being less healthier, meaning that older people are more likely to have diabetes."
   ]
  },
  {
   "cell_type": "markdown",
   "metadata": {},
   "source": [
    "**BMI**"
   ]
  },
  {
   "cell_type": "code",
   "execution_count": 17,
   "metadata": {},
   "outputs": [
    {
     "data": {
      "image/png": "[encoded data removed]",
      "text/plain": [
       "<Figure size 432x288 with 1 Axes>"
      ]
     },
     "metadata": {
      "needs_background": "light"
     },
     "output_type": "display_data"
    }
   ],
   "source": [
    "sns.boxplot(data=bmi_no_outliers, y='BMI', x='Diabetes_01')\n",
    "plt.show()"
   ]
  },
  {
   "cell_type": "code",
   "execution_count": 18,
   "metadata": {},
   "outputs": [
    {
     "data": {
      "text/html": [
       "<div>\n",
       "<style scoped>\n",
       "    .dataframe tbody tr th:only-of-type {\n",
       "        vertical-align: middle;\n",
       "    }\n",
       "\n",
       "    .dataframe tbody tr th {\n",
       "        vertical-align: top;\n",
       "    }\n",
       "\n",
       "    .dataframe thead th {\n",
       "        text-align: right;\n",
       "    }\n",
       "</style>\n",
       "<table border=\"1\" class=\"dataframe\">\n",
       "  <thead>\n",
       "    <tr style=\"text-align: right;\">\n",
       "      <th></th>\n",
       "      <th>BMI</th>\n",
       "      <th>Diabetes_01</th>\n",
       "    </tr>\n",
       "  </thead>\n",
       "  <tbody>\n",
       "    <tr>\n",
       "      <th>count</th>\n",
       "      <td>207514.000000</td>\n",
       "      <td>207514.0</td>\n",
       "    </tr>\n",
       "    <tr>\n",
       "      <th>mean</th>\n",
       "      <td>27.109458</td>\n",
       "      <td>0.0</td>\n",
       "    </tr>\n",
       "    <tr>\n",
       "      <th>std</th>\n",
       "      <td>4.804836</td>\n",
       "      <td>0.0</td>\n",
       "    </tr>\n",
       "    <tr>\n",
       "      <th>min</th>\n",
       "      <td>14.000000</td>\n",
       "      <td>0.0</td>\n",
       "    </tr>\n",
       "    <tr>\n",
       "      <th>25%</th>\n",
       "      <td>24.000000</td>\n",
       "      <td>0.0</td>\n",
       "    </tr>\n",
       "    <tr>\n",
       "      <th>50%</th>\n",
       "      <td>27.000000</td>\n",
       "      <td>0.0</td>\n",
       "    </tr>\n",
       "    <tr>\n",
       "      <th>75%</th>\n",
       "      <td>30.000000</td>\n",
       "      <td>0.0</td>\n",
       "    </tr>\n",
       "    <tr>\n",
       "      <th>max</th>\n",
       "      <td>41.000000</td>\n",
       "      <td>0.0</td>\n",
       "    </tr>\n",
       "  </tbody>\n",
       "</table>\n",
       "</div>"
      ],
      "text/plain": [
       "                 BMI  Diabetes_01\n",
       "count  207514.000000     207514.0\n",
       "mean       27.109458          0.0\n",
       "std         4.804836          0.0\n",
       "min        14.000000          0.0\n",
       "25%        24.000000          0.0\n",
       "50%        27.000000          0.0\n",
       "75%        30.000000          0.0\n",
       "max        41.000000          0.0"
      ]
     },
     "execution_count": 18,
     "metadata": {},
     "output_type": "execute_result"
    }
   ],
   "source": [
    "bmi_no_outliers[bmi_no_outliers['Diabetes_01'] == 0].describe()"
   ]
  },
  {
   "cell_type": "code",
   "execution_count": 19,
   "metadata": {},
   "outputs": [
    {
     "data": {
      "text/html": [
       "<div>\n",
       "<style scoped>\n",
       "    .dataframe tbody tr th:only-of-type {\n",
       "        vertical-align: middle;\n",
       "    }\n",
       "\n",
       "    .dataframe tbody tr th {\n",
       "        vertical-align: top;\n",
       "    }\n",
       "\n",
       "    .dataframe thead th {\n",
       "        text-align: right;\n",
       "    }\n",
       "</style>\n",
       "<table border=\"1\" class=\"dataframe\">\n",
       "  <thead>\n",
       "    <tr style=\"text-align: right;\">\n",
       "      <th></th>\n",
       "      <th>BMI</th>\n",
       "      <th>Diabetes_01</th>\n",
       "    </tr>\n",
       "  </thead>\n",
       "  <tbody>\n",
       "    <tr>\n",
       "      <th>count</th>\n",
       "      <td>36319.000000</td>\n",
       "      <td>36319.0</td>\n",
       "    </tr>\n",
       "    <tr>\n",
       "      <th>mean</th>\n",
       "      <td>30.197968</td>\n",
       "      <td>1.0</td>\n",
       "    </tr>\n",
       "    <tr>\n",
       "      <th>std</th>\n",
       "      <td>5.046686</td>\n",
       "      <td>0.0</td>\n",
       "    </tr>\n",
       "    <tr>\n",
       "      <th>min</th>\n",
       "      <td>14.000000</td>\n",
       "      <td>1.0</td>\n",
       "    </tr>\n",
       "    <tr>\n",
       "      <th>25%</th>\n",
       "      <td>27.000000</td>\n",
       "      <td>1.0</td>\n",
       "    </tr>\n",
       "    <tr>\n",
       "      <th>50%</th>\n",
       "      <td>30.000000</td>\n",
       "      <td>1.0</td>\n",
       "    </tr>\n",
       "    <tr>\n",
       "      <th>75%</th>\n",
       "      <td>34.000000</td>\n",
       "      <td>1.0</td>\n",
       "    </tr>\n",
       "    <tr>\n",
       "      <th>max</th>\n",
       "      <td>41.000000</td>\n",
       "      <td>1.0</td>\n",
       "    </tr>\n",
       "  </tbody>\n",
       "</table>\n",
       "</div>"
      ],
      "text/plain": [
       "                BMI  Diabetes_01\n",
       "count  36319.000000      36319.0\n",
       "mean      30.197968          1.0\n",
       "std        5.046686          0.0\n",
       "min       14.000000          1.0\n",
       "25%       27.000000          1.0\n",
       "50%       30.000000          1.0\n",
       "75%       34.000000          1.0\n",
       "max       41.000000          1.0"
      ]
     },
     "execution_count": 19,
     "metadata": {},
     "output_type": "execute_result"
    }
   ],
   "source": [
    "bmi_no_outliers[bmi_no_outliers['Diabetes_01'] == 1].describe()"
   ]
  },
  {
   "cell_type": "markdown",
   "metadata": {},
   "source": [
    "Observing the box plots, it seems like the only major difference is that the central tendency BMI of the diabetic patients is higher. The mean and median BMI of the diabetic patients are both higher. The spread seems relatively the same, with diabetic patients having a slightly higher spread. This supports our hypothesis and background info that higher BMI typically correlates with a higher likeliness for diabetes"
   ]
  },
  {
   "cell_type": "markdown",
   "metadata": {},
   "source": [
    "**Income**"
   ]
  },
  {
   "cell_type": "code",
   "execution_count": 20,
   "metadata": {},
   "outputs": [
    {
     "data": {
      "image/png": "[encoded data removed]",
      "text/plain": [
       "<Figure size 432x288 with 1 Axes>"
      ]
     },
     "metadata": {
      "needs_background": "light"
     },
     "output_type": "display_data"
    }
   ],
   "source": [
    "sns.boxplot(data=income_no_outliers, y='Income', x='Diabetes_01')\n",
    "plt.show()"
   ]
  },
  {
   "cell_type": "code",
   "execution_count": 21,
   "metadata": {},
   "outputs": [
    {
     "data": {
      "text/html": [
       "<div>\n",
       "<style scoped>\n",
       "    .dataframe tbody tr th:only-of-type {\n",
       "        vertical-align: middle;\n",
       "    }\n",
       "\n",
       "    .dataframe tbody tr th {\n",
       "        vertical-align: top;\n",
       "    }\n",
       "\n",
       "    .dataframe thead th {\n",
       "        text-align: right;\n",
       "    }\n",
       "</style>\n",
       "<table border=\"1\" class=\"dataframe\">\n",
       "  <thead>\n",
       "    <tr style=\"text-align: right;\">\n",
       "      <th></th>\n",
       "      <th>Income</th>\n",
       "      <th>Diabetes_01</th>\n",
       "    </tr>\n",
       "  </thead>\n",
       "  <tbody>\n",
       "    <tr>\n",
       "      <th>count</th>\n",
       "      <td>213703.000000</td>\n",
       "      <td>213703.0</td>\n",
       "    </tr>\n",
       "    <tr>\n",
       "      <th>mean</th>\n",
       "      <td>6.208663</td>\n",
       "      <td>0.0</td>\n",
       "    </tr>\n",
       "    <tr>\n",
       "      <th>std</th>\n",
       "      <td>2.005203</td>\n",
       "      <td>0.0</td>\n",
       "    </tr>\n",
       "    <tr>\n",
       "      <th>min</th>\n",
       "      <td>1.000000</td>\n",
       "      <td>0.0</td>\n",
       "    </tr>\n",
       "    <tr>\n",
       "      <th>25%</th>\n",
       "      <td>5.000000</td>\n",
       "      <td>0.0</td>\n",
       "    </tr>\n",
       "    <tr>\n",
       "      <th>50%</th>\n",
       "      <td>7.000000</td>\n",
       "      <td>0.0</td>\n",
       "    </tr>\n",
       "    <tr>\n",
       "      <th>75%</th>\n",
       "      <td>8.000000</td>\n",
       "      <td>0.0</td>\n",
       "    </tr>\n",
       "    <tr>\n",
       "      <th>max</th>\n",
       "      <td>8.000000</td>\n",
       "      <td>0.0</td>\n",
       "    </tr>\n",
       "  </tbody>\n",
       "</table>\n",
       "</div>"
      ],
      "text/plain": [
       "              Income  Diabetes_01\n",
       "count  213703.000000     213703.0\n",
       "mean        6.208663          0.0\n",
       "std         2.005203          0.0\n",
       "min         1.000000          0.0\n",
       "25%         5.000000          0.0\n",
       "50%         7.000000          0.0\n",
       "75%         8.000000          0.0\n",
       "max         8.000000          0.0"
      ]
     },
     "execution_count": 21,
     "metadata": {},
     "output_type": "execute_result"
    }
   ],
   "source": [
    "income_no_outliers[income_no_outliers['Diabetes_01'] == 0].describe()"
   ]
  },
  {
   "cell_type": "code",
   "execution_count": 22,
   "metadata": {},
   "outputs": [
    {
     "data": {
      "text/html": [
       "<div>\n",
       "<style scoped>\n",
       "    .dataframe tbody tr th:only-of-type {\n",
       "        vertical-align: middle;\n",
       "    }\n",
       "\n",
       "    .dataframe tbody tr th {\n",
       "        vertical-align: top;\n",
       "    }\n",
       "\n",
       "    .dataframe thead th {\n",
       "        text-align: right;\n",
       "    }\n",
       "</style>\n",
       "<table border=\"1\" class=\"dataframe\">\n",
       "  <thead>\n",
       "    <tr style=\"text-align: right;\">\n",
       "      <th></th>\n",
       "      <th>Income</th>\n",
       "      <th>Diabetes_01</th>\n",
       "    </tr>\n",
       "  </thead>\n",
       "  <tbody>\n",
       "    <tr>\n",
       "      <th>count</th>\n",
       "      <td>39977.000000</td>\n",
       "      <td>39977.0</td>\n",
       "    </tr>\n",
       "    <tr>\n",
       "      <th>mean</th>\n",
       "      <td>5.226430</td>\n",
       "      <td>1.0</td>\n",
       "    </tr>\n",
       "    <tr>\n",
       "      <th>std</th>\n",
       "      <td>2.216756</td>\n",
       "      <td>0.0</td>\n",
       "    </tr>\n",
       "    <tr>\n",
       "      <th>min</th>\n",
       "      <td>1.000000</td>\n",
       "      <td>1.0</td>\n",
       "    </tr>\n",
       "    <tr>\n",
       "      <th>25%</th>\n",
       "      <td>3.000000</td>\n",
       "      <td>1.0</td>\n",
       "    </tr>\n",
       "    <tr>\n",
       "      <th>50%</th>\n",
       "      <td>6.000000</td>\n",
       "      <td>1.0</td>\n",
       "    </tr>\n",
       "    <tr>\n",
       "      <th>75%</th>\n",
       "      <td>7.000000</td>\n",
       "      <td>1.0</td>\n",
       "    </tr>\n",
       "    <tr>\n",
       "      <th>max</th>\n",
       "      <td>8.000000</td>\n",
       "      <td>1.0</td>\n",
       "    </tr>\n",
       "  </tbody>\n",
       "</table>\n",
       "</div>"
      ],
      "text/plain": [
       "             Income  Diabetes_01\n",
       "count  39977.000000      39977.0\n",
       "mean       5.226430          1.0\n",
       "std        2.216756          0.0\n",
       "min        1.000000          1.0\n",
       "25%        3.000000          1.0\n",
       "50%        6.000000          1.0\n",
       "75%        7.000000          1.0\n",
       "max        8.000000          1.0"
      ]
     },
     "execution_count": 22,
     "metadata": {},
     "output_type": "execute_result"
    }
   ],
   "source": [
    "income_no_outliers[income_no_outliers['Diabetes_01'] == 1].describe()"
   ]
  },
  {
   "cell_type": "markdown",
   "metadata": {},
   "source": [
    "The mean and median income of non-diabetic patients is certainly higher, which is what we expect due to richer people having better access to healthcare and better access to healthier food. This seems to state that there is a negative correlation between income and likeliness of diabetes. In addition, it seems like the spread of income in diabetic patients is higher as seen by the higher IQR. This spread is due to the fact that there are many samples that have an income lower than that of the median. This is possibly due to the fact that most diabetic samples have an income close to the mean or median, but due to the worse living conditions of poorer people, there are many poorer diabetic patients that cause the spread to be large."
   ]
  },
  {
   "cell_type": "markdown",
   "metadata": {},
   "source": [
    "## Correlations between the quantitative variables"
   ]
  },
  {
   "cell_type": "markdown",
   "metadata": {},
   "source": [
    "It's helpful to learn the correlations between the quantitative variables to learn their relationships and to check for confounding. If two independent variables correlate with each other, but both correlate with the likelihood of diabetes in some way, one of them may be a confounding variable."
   ]
  },
  {
   "cell_type": "code",
   "execution_count": 23,
   "metadata": {},
   "outputs": [
    {
     "data": {
      "image/png": "[encoded data removed]",
      "text/plain": [
       "<Figure size 432x288 with 1 Axes>"
      ]
     },
     "metadata": {
      "needs_background": "light"
     },
     "output_type": "display_data"
    }
   ],
   "source": [
    "age_bmi_df = diabetes_df_cleaned[['Age', 'BMI']]\n",
    "Q1 = age_bmi_df.quantile(0.25)\n",
    "Q3 = age_bmi_df.quantile(0.75)\n",
    "IQR = Q3 - Q1\n",
    "lower_bound = Q1 - 1.5 * IQR\n",
    "upper_bound = Q3 + 1.5 * IQR\n",
    "# Remove outliers\n",
    "age_bmi_df = age_bmi_df[(age_bmi_df >= lower_bound) & (age_bmi_df <= upper_bound)]\n",
    "age_bmi_df = age_bmi_df.dropna()\n",
    "\n",
    "x = age_bmi_df['Age']\n",
    "y = age_bmi_df['BMI']\n",
    "plt.scatter(x,y)\n",
    "plt.xlabel('Age')\n",
    "plt.ylabel('BMI')\n",
    "b1, b0 = np.polyfit(np.array(x), np.array(y), 1)\n",
    "plt.plot(np.array(x), b1 * np.array(x) + b0, color='r')\n",
    "plt.show()"
   ]
  },
  {
   "cell_type": "markdown",
   "metadata": {},
   "source": [
    "There seems to be no correlation between Age and BMI. This kind of makes sense because both seem to be fairly unrelated. There are people of all ages that have all sorts of BMI."
   ]
  },
  {
   "cell_type": "code",
   "execution_count": 24,
   "metadata": {},
   "outputs": [
    {
     "data": {
      "image/png": "[encoded data removed]",
      "text/plain": [
       "<Figure size 432x288 with 1 Axes>"
      ]
     },
     "metadata": {
      "needs_background": "light"
     },
     "output_type": "display_data"
    }
   ],
   "source": [
    "df = diabetes_df_cleaned[['Age', 'Income']]\n",
    "Q1 = df.quantile(0.25)\n",
    "Q3 = df.quantile(0.75)\n",
    "IQR = Q3 - Q1\n",
    "lower_bound = Q1 - 1.5 * IQR\n",
    "upper_bound = Q3 + 1.5 * IQR\n",
    "# Remove outliers\n",
    "df = df[(df >= lower_bound) & (df <= upper_bound)]\n",
    "df = df.dropna()\n",
    "\n",
    "x = df['Age']\n",
    "y = df['Income']\n",
    "plt.scatter(x,y)\n",
    "plt.xlabel('Age')\n",
    "plt.ylabel('Income')\n",
    "b1, b0 = np.polyfit(np.array(x), np.array(y), 1)\n",
    "plt.plot(np.array(x), b1 * np.array(x) + b0, color='r')\n",
    "plt.show()"
   ]
  },
  {
   "cell_type": "markdown",
   "metadata": {},
   "source": [
    "There seems to be some negative correlation between age and income. This can likely be explained by retirement and reduced income as people get older. Income could be a confounding variable for age."
   ]
  },
  {
   "cell_type": "code",
   "execution_count": 25,
   "metadata": {},
   "outputs": [
    {
     "data": {
      "image/png": "[encoded data removed]",
      "text/plain": [
       "<Figure size 432x288 with 1 Axes>"
      ]
     },
     "metadata": {
      "needs_background": "light"
     },
     "output_type": "display_data"
    }
   ],
   "source": [
    "df = diabetes_df_cleaned[['BMI', 'Income']]\n",
    "Q1 = df.quantile(0.25)\n",
    "Q3 = df.quantile(0.75)\n",
    "IQR = Q3 - Q1\n",
    "lower_bound = Q1 - 1.5 * IQR\n",
    "upper_bound = Q3 + 1.5 * IQR\n",
    "# Remove outliers\n",
    "df = df[(df >= lower_bound) & (df <= upper_bound)]\n",
    "df = df.dropna()\n",
    "\n",
    "x = df['BMI']\n",
    "y = df['Income']\n",
    "plt.scatter(x,y)\n",
    "plt.xlabel('BMI')\n",
    "plt.ylabel('Income')\n",
    "b1, b0 = np.polyfit(np.array(x), np.array(y), 1)\n",
    "plt.plot(np.array(x), b1 * np.array(x) + b0, color='r')\n",
    "plt.show()"
   ]
  },
  {
   "cell_type": "markdown",
   "metadata": {},
   "source": [
    "There is a negative correlation between Income and BMI. This is kind of expected, as those with lower income may be forced to live under unhealthier conditions. Therefore, BMI may be a confounding variable for Income."
   ]
  },
  {
   "cell_type": "markdown",
   "metadata": {},
   "source": [
    "## (Scrapped) T-Tests for Quantitative Variables"
   ]
  },
  {
   "cell_type": "markdown",
   "metadata": {},
   "source": [
    "When we tried to do t-tests, the t-value would get extremely high or low and the p-value would be 0. These results don't seem to be very helpful because in the real world, these differences don't seem extremely major. The t-tests don't seem to be helpful of a tool to check if these variables correlate with the risk of diabetes. The Professor also told us to scrap these. For that reason, we are scrapping them.\n",
    "<br><br>\n",
    "For all of these, the t-value is extremely high or low due to the large sample sizes(as sample sizes get bigger, the t-value is more sensitive to small differences). Although there's technically no stated sample size limit for t-tests and one could argue that these results are \"valid\", it's better to have another test that isn't so sensitive to small differences between means to figure out which of these quantitative variables correlate with the likelihood of diabetes"
   ]
  },
  {
   "cell_type": "markdown",
   "metadata": {},
   "source": [
    "## Transitioning from Statistical Significance to Practical Significance"
   ]
  },
  {
   "cell_type": "markdown",
   "metadata": {},
   "source": [
    "Statistical significance shows that the difference of means of two related distributions is too large to be due to chance. Therefore it's likely due to a cause, such as age in this case affecting the likelihood of diabetes. Practical significance shows that a difference of means of two related distributions is large enough to be meaningful in real life. Instead of the t-value, it relies on a calculated value called an \"effect-size\" that similarly measures the difference between two means relative to standard deviation, just like in a t-test.<br>\n",
    "<br>\n",
    "A good analogy to compare statistical significance and practical significance is that \"While statistical significance shows that an effect exists in a study, practical significance shows that the effect is large enough to be meaningful in the real world.\"(https://www.scribbr.com/frequently-asked-questions/statistical-significance-vs-practical-significance/). We proved that there may be a correlation between age, bmi, and income and the likelihood of having diabetes, but in reality the correlation may not be meaningful enough for us to really say that age,bmi, and income cause diabetes directly."
   ]
  },
  {
   "cell_type": "markdown",
   "metadata": {},
   "source": [
    "## Practical Significance Analysis for Quantitative Variables"
   ]
  },
  {
   "cell_type": "markdown",
   "metadata": {},
   "source": [
    "To test practical significance for quantitative variables, we will be using Cohen's d to calculate our effect size(https://online.stat.psu.edu/stat200/lesson/6/6.4).<br>\n",
    "<br>\n",
    "Cohen's d is calculated as $d = \\frac{\\bar{x_{1}} - \\bar{x_{2}}}{s_{p}}$<br>\n",
    "Where $\\bar{x_{1}}$ and $\\bar{x_{2}}$ are the means of the first and second group we're comparing, respectively.\n",
    "Where $s_{p}$ is the pooled standard deviation calculated as $s_{p} = \\sqrt{\\frac{(n_1 - 1)s_1^2 + (n_2 - 1)s_2^2}{n_1 + n_2 - 2}}$<br>\n",
    "<br>\n",
    "Where $n_1$ and $n_2$ are the sample sizes for each of the groups.<br>\n",
    "While Cohen's d is hard to interpret as it has no units, a common standard that is used is shown below. We will use it to assess how much of an effect the independent quantitative variable has on the dependent variable, the likelihood of diabetes.<br>\n",
    "<br>\n",
    "| Cohen's d | Column 2 |\n",
    "|----------|----------|\n",
    "|  0-0.2   | Little to no effect/correlation|  \n",
    "|  0.2-0.5 | Small effect/correlation|  \n",
    "|  0.5-0.8 | Moderate effect/correlation|\n",
    "|  > 0.8   | Large effect/correlation|"
   ]
  },
  {
   "cell_type": "markdown",
   "metadata": {},
   "source": [
    "**The function to calculate Cohen's d**"
   ]
  },
  {
   "cell_type": "code",
   "execution_count": 26,
   "metadata": {},
   "outputs": [],
   "source": [
    "## Computes Cohen's d, the effect size for our practical significance analysis\n",
    "def cohen_d(arr1, arr2):\n",
    "    return (np.mean(arr1) - np.mean(arr2))/((((arr1.shape[0] - 1) * (np.std(arr1) ** 2) + (arr2.shape[0] - 1) * (np.std(arr2) ** 2))/(arr1.shape[0] + arr2.shape[0] - 2)) ** 0.5)\n",
    "\n",
    "## Interprets Cohen's d using the earlier mentioned standard\n",
    "def interpret_cohen_d(d):\n",
    "    d = np.abs(d)\n",
    "    if d < 0.2:\n",
    "        print('This variable has little to no effect/correlation')\n",
    "    elif d < 0.5:\n",
    "        print('This variable has a small effect/correlation')\n",
    "    elif d < 0.8:\n",
    "        print('This variable has a moderate effect/correlation')\n",
    "    else:\n",
    "        print('This variable has a large effect/correlation')"
   ]
  },
  {
   "cell_type": "markdown",
   "metadata": {},
   "source": [
    "**Age**"
   ]
  },
  {
   "cell_type": "code",
   "execution_count": 27,
   "metadata": {},
   "outputs": [
    {
     "name": "stdout",
     "output_type": "stream",
     "text": [
      "Cohen's d: -0.5192430983499229\n",
      "This variable has a moderate effect/correlation\n"
     ]
    }
   ],
   "source": [
    "d = cohen_d(np.array(age_no_outliers[age_no_outliers['Diabetes_01'] == 0]['Age']), np.array(age_no_outliers[age_no_outliers['Diabetes_01'] == 1]['Age']))\n",
    "print('Cohen\\'s d: ' + str(d))\n",
    "interpret_cohen_d(d)"
   ]
  },
  {
   "cell_type": "markdown",
   "metadata": {},
   "source": [
    "Age seems to have a d-value that is a bit above the threshold for a \"moderate effect/correlation\". This means that age does seem to be a variable that has a meaningful correlation with the likelihood of having diabetes and is likely a factor in having diabetes(i.e. it seems that older ages is likely to lead to having a higher risk for diabetes). However, it doesn't seem to be as important as some other variables like BMI for example."
   ]
  },
  {
   "cell_type": "markdown",
   "metadata": {},
   "source": [
    "**BMI**"
   ]
  },
  {
   "cell_type": "code",
   "execution_count": 28,
   "metadata": {},
   "outputs": [
    {
     "name": "stdout",
     "output_type": "stream",
     "text": [
      "Cohen's d: -0.6379105714934667\n",
      "This variable has a moderate effect/correlation\n"
     ]
    }
   ],
   "source": [
    "d = cohen_d(np.array(bmi_no_outliers[bmi_no_outliers['Diabetes_01'] == 0]['BMI']), np.array(bmi_no_outliers[bmi_no_outliers['Diabetes_01'] == 1]['BMI']))\n",
    "print('Cohen\\'s d: ' + str(d))\n",
    "interpret_cohen_d(d)"
   ]
  },
  {
   "cell_type": "markdown",
   "metadata": {},
   "source": [
    "As we might expect, BMI has the highest effect size out of the other two quantitative variables, and definitely has a meaningful effect/correlation with the likelihood of diabetes. This means that it has the highest correlation with the likelihood of having diabetes in this case and we can state that a higher BMI is likely a factor in having diabetes(i.e. a higher BMI seems to be likely to lead to a higher risk for diabetes)."
   ]
  },
  {
   "cell_type": "markdown",
   "metadata": {},
   "source": [
    "**Income**"
   ]
  },
  {
   "cell_type": "code",
   "execution_count": 29,
   "metadata": {
    "scrolled": true
   },
   "outputs": [
    {
     "name": "stdout",
     "output_type": "stream",
     "text": [
      "Cohen's d: 0.4814895366294751\n",
      "This variable has a small effect/correlation\n"
     ]
    }
   ],
   "source": [
    "d = cohen_d(np.array(income_no_outliers[income_no_outliers['Diabetes_01'] == 0]['Income']), np.array(income_no_outliers[income_no_outliers['Diabetes_01'] == 1]['Income']))\n",
    "print('Cohen\\'s d: ' + str(d))\n",
    "interpret_cohen_d(d)"
   ]
  },
  {
   "cell_type": "markdown",
   "metadata": {},
   "source": [
    "Income seems to only have a small effect/correlation with the likelihood of having diabetes. The correlation is likely due to the fact that poorer people have worse access to healthcare and healthy food. The reason why it's not as big of a correlation as age or BMI however is likely because it's not a direct cause. It's likely an indirect cause, where low income can affect certain variables such as BMI, fruits, veggies, and blood pressure which in turn affects the likelihood of having diabetes. In addition, there are richer people who still get diabetes due to other factors. Overall, we can infer that lower income does slightly contribute to a higher risk for diabetes, but it may not be the direct cause. We will investigate if it's the direct cause after checking for confounding."
   ]
  },
  {
   "cell_type": "markdown",
   "metadata": {},
   "source": [
    "## Practical Significance Analysis for Qualitative Variables"
   ]
  },
  {
   "cell_type": "markdown",
   "metadata": {},
   "source": [
    "Similarly, to test practical significance for qualitative variables, we have Cohen's h(https://en.wikipedia.org/wiki/Cohen%27s_h). It will gauge the difference between two proportions and how meaningful they are in the real world. We will do this to gauge the difference between the proportion of a variable being 1 for non-diabetic samples and the difference between the proportion of a variable for diabetic variables.<br>\n",
    "<br>\n",
    "The formula for Cohen's h is:<br>\n",
    "$h = 2arcsin(\\sqrt{p1}) - 2arcsin(\\sqrt{p2})$<br>\n",
    "Where p1 and p2 are the proportions of the two groups<br>\n",
    "The following is a table of the common standards for Cohen's h <br>\n",
    "| Cohen's h | Column 2 |\n",
    "|----------|----------|\n",
    "|  0-0.2   | Little to no effect/correlation|  \n",
    "|  0.2-0.5 | Small effect/correlation|  \n",
    "|  0.5-0.8 | Moderate effect/correlation|\n",
    "|  > 0.8   | Large effect/correlation|"
   ]
  },
  {
   "cell_type": "markdown",
   "metadata": {},
   "source": [
    "**Function for Cohen's h**"
   ]
  },
  {
   "cell_type": "code",
   "execution_count": 30,
   "metadata": {},
   "outputs": [],
   "source": [
    "def cohen_h(arr_1, arr_2):\n",
    "    p1 = np.mean(arr_1)\n",
    "    p2 = np.mean(arr_2)\n",
    "    #print(p1)\n",
    "    #print(p2)\n",
    "    return 2 * (np.arcsin(p1 ** 0.5)  - np.arcsin(p2 ** 0.5))\n",
    "\n",
    "def interpret_cohen_h(h):\n",
    "    h = np.abs(h)\n",
    "    if h < 0.2:\n",
    "        print('This variable has little to no effect/correlation')\n",
    "    elif h < 0.5:\n",
    "        print('This variable has a small effect/correlation')\n",
    "    elif h < 0.8:\n",
    "        print('This variable has a moderate effect/correlation')\n",
    "    else:\n",
    "        print('This variable has a large effect/correlation')"
   ]
  },
  {
   "cell_type": "markdown",
   "metadata": {},
   "source": [
    "**Blood Pressure**"
   ]
  },
  {
   "cell_type": "code",
   "execution_count": 31,
   "metadata": {},
   "outputs": [
    {
     "name": "stdout",
     "output_type": "stream",
     "text": [
      "-0.5514210475391831\n",
      "This variable has a moderate effect/correlation\n"
     ]
    }
   ],
   "source": [
    "highBPNo = np.array(diabetes_df_cleaned[(diabetes_df_cleaned['HighBP'] == 0)]['Diabetes_01'])\n",
    "highBPYes = np.array(diabetes_df_cleaned[(diabetes_df_cleaned['HighBP'] == 1)]['Diabetes_01'])\n",
    "print(cohen_h(highBPNo, highBPYes))\n",
    "interpret_cohen_h(cohen_h(highBPNo, highBPYes))"
   ]
  },
  {
   "cell_type": "markdown",
   "metadata": {},
   "source": [
    "As expected due to the big difference in proportions, blood pressure seems to have a large important correlation with the risk of diabetes. This corroborates the commonly made claim that high blood pressure seems to cause a higher risk for diabetes. It also has the highest h value, which also corroborates the common view that blood pressure is one of the most important factors for developing diabetes."
   ]
  },
  {
   "cell_type": "markdown",
   "metadata": {},
   "source": [
    "**Alcohol**"
   ]
  },
  {
   "cell_type": "code",
   "execution_count": 32,
   "metadata": {
    "scrolled": true
   },
   "outputs": [
    {
     "name": "stdout",
     "output_type": "stream",
     "text": [
      "0.283192964841009\n",
      "This variable has a small effect/correlation\n"
     ]
    }
   ],
   "source": [
    "alcNo = np.array(diabetes_df_cleaned[(diabetes_df_cleaned['HvyAlcoholConsump'] == 0)]['Diabetes_01'])\n",
    "alcYes = np.array(diabetes_df_cleaned[(diabetes_df_cleaned['HvyAlcoholConsump'] == 1)]['Diabetes_01'])\n",
    "print(cohen_h(alcNo, alcYes))\n",
    "interpret_cohen_h(cohen_h(alcNo, alcYes))"
   ]
  },
  {
   "cell_type": "markdown",
   "metadata": {},
   "source": [
    "Not heavily consuming alcohol has a small correlation with the risk of diabetes. Historically, we see that alcohol consumption always has a positive correlation with the likelihood of diabetes. As a result, the fact that we get a negative correlation(i.e. non-heavy drinkers are more likely to get diabetes), and there is a minor correlation is peculiar. However, as mentioned earlier, it's very possible that people who heavily drink may lie on the survey to look good.  As a result, we get a small correlation with the risk of diabetes. However, it's not too big because there are a lot of honest people who don't drink heavily, so the h-value stays small."
   ]
  },
  {
   "cell_type": "markdown",
   "metadata": {},
   "source": [
    "**Smoker**"
   ]
  },
  {
   "cell_type": "code",
   "execution_count": 33,
   "metadata": {},
   "outputs": [
    {
     "name": "stdout",
     "output_type": "stream",
     "text": [
      "-0.12583039562737153\n",
      "This variable has little to no effect/correlation\n"
     ]
    }
   ],
   "source": [
    "smokerNo = np.array(diabetes_df_cleaned[(diabetes_df_cleaned['Smoker'] == 0)]['Diabetes_01'])\n",
    "smokerYes = np.array(diabetes_df_cleaned[(diabetes_df_cleaned['Smoker'] == 1)]['Diabetes_01'])\n",
    "print(cohen_h(smokerNo, smokerYes))\n",
    "interpret_cohen_h(cohen_h(smokerNo, smokerYes))"
   ]
  },
  {
   "cell_type": "markdown",
   "metadata": {},
   "source": [
    "Strangely enough, there seems to be little to no correlation between smoking and diabetes. This could perhaps be due to the fact that this is only a binary qualitative variable: you either smoke or you don't. It doesn't measure how much someone smokes or how recently. It doesn't differentiate between someone who smokes over 25 cigarettes per day(a heavy smoker) from someone who may just smoke 1 or 2 every other day where there is only a little increase in risk for diabetes.<br>\n",
    "<br>\n",
    "It seems that lying on a survey for this variable may not be as much of an issue as opposed to alcohol consumption. After all, if we looked earlier, we would see that the amount of smokers surveyed is almost the amount of non-smokers, as opposed to the amount heavy alcohol consumers being significantly less than non-heavy alcohol consumers. So we don't have to consider the possibility that a significant amount of people lied as much."
   ]
  },
  {
   "cell_type": "markdown",
   "metadata": {},
   "source": [
    "**Fruits and Vegetables**"
   ]
  },
  {
   "cell_type": "code",
   "execution_count": 34,
   "metadata": {
    "scrolled": true
   },
   "outputs": [
    {
     "name": "stdout",
     "output_type": "stream",
     "text": [
      "0.08653787975008154\n",
      "This variable has little to no effect/correlation\n"
     ]
    }
   ],
   "source": [
    "fruitNo = np.array(diabetes_df_cleaned[(diabetes_df_cleaned['Fruits'] == 0)]['Diabetes_01'])\n",
    "fruitYes = np.array(diabetes_df_cleaned[(diabetes_df_cleaned['Fruits'] == 1)]['Diabetes_01'])\n",
    "print(cohen_h(fruitNo, fruitYes))\n",
    "interpret_cohen_h(cohen_h(fruitNo, fruitYes))"
   ]
  },
  {
   "cell_type": "code",
   "execution_count": 35,
   "metadata": {},
   "outputs": [
    {
     "name": "stdout",
     "output_type": "stream",
     "text": [
      "0.14565734994786794\n",
      "This variable has little to no effect/correlation\n"
     ]
    }
   ],
   "source": [
    "vegNo = np.array(diabetes_df_cleaned[(diabetes_df_cleaned['Veggies'] == 0)]['Diabetes_01'])\n",
    "vegYes = np.array(diabetes_df_cleaned[(diabetes_df_cleaned['Veggies'] == 1)]['Diabetes_01'])\n",
    "print(cohen_h(vegNo, vegYes))\n",
    "interpret_cohen_h(cohen_h(vegNo, vegYes))"
   ]
  },
  {
   "cell_type": "markdown",
   "metadata": {},
   "source": [
    "Both eating fruits and vegetables seem to have little to no effect. Likewise, this is an issue with the fact that it's a binary qualitative variable. We don't know how many fruits and/or vegetables they eat per day. Not to mention, we don't know what else the person eats. A person who eats many fruits and vegetables and eats relatively healthy gets put into the same category as a person who only eats one apple per day and then eats unhealthily for the rest of the day.<br>\n",
    "<br>\n",
    "Vegetables seem to correlate more with lower risk for diabetes. This may be because vegetables are healthier and have more nutrients that lead to a lower risk for diabetes.<br>\n",
    "<br>\n",
    "For one final test, let's check the practical significance of a person who eats one fruit and/or vegetable per day."
   ]
  },
  {
   "cell_type": "code",
   "execution_count": 36,
   "metadata": {},
   "outputs": [
    {
     "name": "stdout",
     "output_type": "stream",
     "text": [
      "0.12787067191446877\n",
      "This variable has little to no effect/correlation\n"
     ]
    }
   ],
   "source": [
    "fvNo = np.array(diabetes_df_cleaned[(diabetes_df_cleaned['Fruits'] == 0) & (diabetes_df_cleaned['Veggies'] == 0)]['Diabetes_01'])\n",
    "fvYes = np.array(diabetes_df_cleaned[(diabetes_df_cleaned['Fruits'] == 1) | (diabetes_df_cleaned['Veggies'] == 1)]['Diabetes_01'])\n",
    "print(cohen_h(fvNo, fvYes))\n",
    "interpret_cohen_h(cohen_h(fvNo, fvYes))"
   ]
  },
  {
   "cell_type": "markdown",
   "metadata": {},
   "source": [
    "The result is the same: little to no effect/correlation for reasons that could be stated above."
   ]
  },
  {
   "cell_type": "code",
   "execution_count": 37,
   "metadata": {},
   "outputs": [
    {
     "name": "stdout",
     "output_type": "stream",
     "text": [
      "-0.059470888859320836\n",
      "This variable has little to no effect/correlation\n"
     ]
    }
   ],
   "source": [
    "male = np.array(diabetes_df_cleaned[(diabetes_df_cleaned['Sex'] == 0)]['Diabetes_01'])\n",
    "female = np.array(diabetes_df_cleaned[(diabetes_df_cleaned['Sex'] == 1)]['Diabetes_01'])\n",
    "print(cohen_h(male, female))\n",
    "interpret_cohen_h(cohen_h(male, female))"
   ]
  },
  {
   "cell_type": "markdown",
   "metadata": {},
   "source": [
    "Sex has a very little effect size. Although it has been historically stated that people with \"male\" bodies are at a higher risk for diabetes, it's likely that those studies neglected to survey as many people with \"female\" bodies. Therefore, it's not very surprising that sex has little effect on risk for diabetes, rather, it is the life choices and living conditions of people that significantly affect the risk of diabetes."
   ]
  },
  {
   "cell_type": "markdown",
   "metadata": {},
   "source": [
    "## Common Cohen's h standards are incorrect?"
   ]
  },
  {
   "cell_type": "markdown",
   "metadata": {},
   "source": [
    "As mentioned earlier, there is no one way to interpret Cohen's h. It is simply a measure of how different the proportions are and how much they matter practically. However, it has no units and Cohen's h can be interpreted differently under different situations.<br>\n",
    "<br>\n",
    "Therefore, the common general standards may be incorrect for these qualitative variables. If we only tried to compare the h-values relative to each other, we can infer:<br>\n",
    "- High Blood Pressure is the qualitative variable that correlates the most with risk of diabetes\n",
    "- Heavy Alcohol Consumption has a fairly strong correlation with a lower risk of diabetes(although as mentioned earlier this may be a false correlation due to lying on surveys)\n",
    "- Smoking has a slight correlation with the risk of diabetes\n",
    "- Eating fruits and/or vegetables have a slight correlation with a lower risk for diabetes"
   ]
  },
  {
   "cell_type": "markdown",
   "metadata": {},
   "source": [
    "## Checking for Confounding"
   ]
  },
  {
   "cell_type": "markdown",
   "metadata": {},
   "source": [
    "Now, we have to check for confounding. When we did the correlations for pairs quantitative variable, we indirectly also checked for confounding there. Now, it's time to check confounding for pairs of qualitative and quantitative variables as well as confounding for pairs of qualitative variables"
   ]
  },
  {
   "cell_type": "markdown",
   "metadata": {},
   "source": [
    "**Qualitative and quantitative**"
   ]
  },
  {
   "cell_type": "markdown",
   "metadata": {},
   "source": [
    "To check for confounding for quantitative and qualitative variables, we will calculate Cohen's d for each pair. The higher the Cohen's d, the greater the relationship between the two variables"
   ]
  },
  {
   "cell_type": "code",
   "execution_count": 38,
   "metadata": {},
   "outputs": [
    {
     "data": {
      "text/html": [
       "<div>\n",
       "<style scoped>\n",
       "    .dataframe tbody tr th:only-of-type {\n",
       "        vertical-align: middle;\n",
       "    }\n",
       "\n",
       "    .dataframe tbody tr th {\n",
       "        vertical-align: top;\n",
       "    }\n",
       "\n",
       "    .dataframe thead th {\n",
       "        text-align: right;\n",
       "    }\n",
       "</style>\n",
       "<table border=\"1\" class=\"dataframe\">\n",
       "  <thead>\n",
       "    <tr style=\"text-align: right;\">\n",
       "      <th></th>\n",
       "      <th>Qualitative</th>\n",
       "      <th>Quantitative</th>\n",
       "      <th>Cohen's d</th>\n",
       "      <th>Cohen's d absolute value</th>\n",
       "    </tr>\n",
       "  </thead>\n",
       "  <tbody>\n",
       "    <tr>\n",
       "      <th>0</th>\n",
       "      <td>HighBP</td>\n",
       "      <td>Age</td>\n",
       "      <td>-0.741323</td>\n",
       "      <td>0.741323</td>\n",
       "    </tr>\n",
       "    <tr>\n",
       "      <th>1</th>\n",
       "      <td>HighBP</td>\n",
       "      <td>BMI</td>\n",
       "      <td>-0.442090</td>\n",
       "      <td>0.442090</td>\n",
       "    </tr>\n",
       "    <tr>\n",
       "      <th>14</th>\n",
       "      <td>Veggies</td>\n",
       "      <td>Income</td>\n",
       "      <td>-0.390724</td>\n",
       "      <td>0.390724</td>\n",
       "    </tr>\n",
       "    <tr>\n",
       "      <th>2</th>\n",
       "      <td>HighBP</td>\n",
       "      <td>Income</td>\n",
       "      <td>0.351162</td>\n",
       "      <td>0.351162</td>\n",
       "    </tr>\n",
       "    <tr>\n",
       "      <th>17</th>\n",
       "      <td>Sex</td>\n",
       "      <td>Income</td>\n",
       "      <td>-0.258207</td>\n",
       "      <td>0.258207</td>\n",
       "    </tr>\n",
       "    <tr>\n",
       "      <th>8</th>\n",
       "      <td>Smoker</td>\n",
       "      <td>Income</td>\n",
       "      <td>0.251430</td>\n",
       "      <td>0.251430</td>\n",
       "    </tr>\n",
       "    <tr>\n",
       "      <th>6</th>\n",
       "      <td>Smoker</td>\n",
       "      <td>Age</td>\n",
       "      <td>-0.244643</td>\n",
       "      <td>0.244643</td>\n",
       "    </tr>\n",
       "    <tr>\n",
       "      <th>5</th>\n",
       "      <td>HvyAlcoholConsump</td>\n",
       "      <td>Income</td>\n",
       "      <td>-0.233154</td>\n",
       "      <td>0.233154</td>\n",
       "    </tr>\n",
       "    <tr>\n",
       "      <th>4</th>\n",
       "      <td>HvyAlcoholConsump</td>\n",
       "      <td>BMI</td>\n",
       "      <td>0.211871</td>\n",
       "      <td>0.211871</td>\n",
       "    </tr>\n",
       "    <tr>\n",
       "      <th>10</th>\n",
       "      <td>Fruits</td>\n",
       "      <td>BMI</td>\n",
       "      <td>0.182409</td>\n",
       "      <td>0.182409</td>\n",
       "    </tr>\n",
       "    <tr>\n",
       "      <th>11</th>\n",
       "      <td>Fruits</td>\n",
       "      <td>Income</td>\n",
       "      <td>-0.166486</td>\n",
       "      <td>0.166486</td>\n",
       "    </tr>\n",
       "    <tr>\n",
       "      <th>13</th>\n",
       "      <td>Veggies</td>\n",
       "      <td>BMI</td>\n",
       "      <td>0.159510</td>\n",
       "      <td>0.159510</td>\n",
       "    </tr>\n",
       "    <tr>\n",
       "      <th>3</th>\n",
       "      <td>HvyAlcoholConsump</td>\n",
       "      <td>Age</td>\n",
       "      <td>0.150231</td>\n",
       "      <td>0.150231</td>\n",
       "    </tr>\n",
       "    <tr>\n",
       "      <th>9</th>\n",
       "      <td>Fruits</td>\n",
       "      <td>Age</td>\n",
       "      <td>-0.134296</td>\n",
       "      <td>0.134296</td>\n",
       "    </tr>\n",
       "    <tr>\n",
       "      <th>16</th>\n",
       "      <td>Sex</td>\n",
       "      <td>BMI</td>\n",
       "      <td>-0.086599</td>\n",
       "      <td>0.086599</td>\n",
       "    </tr>\n",
       "    <tr>\n",
       "      <th>15</th>\n",
       "      <td>Sex</td>\n",
       "      <td>Age</td>\n",
       "      <td>0.055095</td>\n",
       "      <td>0.055095</td>\n",
       "    </tr>\n",
       "    <tr>\n",
       "      <th>7</th>\n",
       "      <td>Smoker</td>\n",
       "      <td>BMI</td>\n",
       "      <td>-0.027792</td>\n",
       "      <td>0.027792</td>\n",
       "    </tr>\n",
       "    <tr>\n",
       "      <th>12</th>\n",
       "      <td>Veggies</td>\n",
       "      <td>Age</td>\n",
       "      <td>0.024980</td>\n",
       "      <td>0.024980</td>\n",
       "    </tr>\n",
       "  </tbody>\n",
       "</table>\n",
       "</div>"
      ],
      "text/plain": [
       "          Qualitative Quantitative  Cohen's d  Cohen's d absolute value\n",
       "0              HighBP          Age  -0.741323                  0.741323\n",
       "1              HighBP          BMI  -0.442090                  0.442090\n",
       "14            Veggies       Income  -0.390724                  0.390724\n",
       "2              HighBP       Income   0.351162                  0.351162\n",
       "17                Sex       Income  -0.258207                  0.258207\n",
       "8              Smoker       Income   0.251430                  0.251430\n",
       "6              Smoker          Age  -0.244643                  0.244643\n",
       "5   HvyAlcoholConsump       Income  -0.233154                  0.233154\n",
       "4   HvyAlcoholConsump          BMI   0.211871                  0.211871\n",
       "10             Fruits          BMI   0.182409                  0.182409\n",
       "11             Fruits       Income  -0.166486                  0.166486\n",
       "13            Veggies          BMI   0.159510                  0.159510\n",
       "3   HvyAlcoholConsump          Age   0.150231                  0.150231\n",
       "9              Fruits          Age  -0.134296                  0.134296\n",
       "16                Sex          BMI  -0.086599                  0.086599\n",
       "15                Sex          Age   0.055095                  0.055095\n",
       "7              Smoker          BMI  -0.027792                  0.027792\n",
       "12            Veggies          Age   0.024980                  0.024980"
      ]
     },
     "execution_count": 38,
     "metadata": {},
     "output_type": "execute_result"
    }
   ],
   "source": [
    "quantitative_variables = ['Age', 'BMI', 'Income']\n",
    "qualitative_variables = ['HighBP',\n",
    " 'HvyAlcoholConsump',\n",
    " 'Smoker',\n",
    " 'Fruits',\n",
    " 'Veggies',\n",
    " 'Sex',]\n",
    "\n",
    "#Do qualitative and quantitative\n",
    "i = 0\n",
    "table = pd.DataFrame(columns=['Qualitative', 'Quantitative', 'Cohen\\'s d'])\n",
    "for qual in qualitative_variables:\n",
    "    for quant in quantitative_variables:\n",
    "        group0 = diabetes_df_cleaned[diabetes_df_cleaned[qual] == 0][quant]\n",
    "        group1 = diabetes_df_cleaned[diabetes_df_cleaned[qual] == 1][quant]\n",
    "        table.loc[i] = [qual, quant, cohen_d(np.array(group0), np.array(group1))]\n",
    "        i += 1\n",
    "table['Cohen\\'s d absolute value'] = table['Cohen\\'s d'].apply(lambda x: np.abs(x))\n",
    "table.sort_values(by='Cohen\\'s d absolute value', ascending=False)"
   ]
  },
  {
   "cell_type": "markdown",
   "metadata": {},
   "source": [
    "From this we can make the following inferences:\n",
    "- HighBP and Age correlate positively(negative d values are positive as we subtract the mean of the 0 by the mean of the 1 when calculating Cohen's d) and it's likely that HighBP is a confounder and the actual reason why age correlates with diabetes\n",
    "- HighBP and BMI correlate positively. It's possible that HighBP is a confounder(obese individuals may have more body fat leading to higher blood pressure in the veigns), but it's possible that high BMI can lead to high diabetes rates in other ways\n",
    "- Veggies and Income correlate positively. Therefore, Veggies must be the confounder. Richer individuals can buy vegetables more easily and eat them\n",
    "- HighBP and Income correlate negatively. HighBP is the confounder variable here. It's possible that income correlates with other variables which correlates to high blood pressure\n",
    "- Smoker and Income correlate negatively. Smoker may be another confounder variable because there is a trend of poorer people and substance abuse due to the need to escape from the reality of poverty\n",
    "<br>\n",
    "All other correlations aren't as important and we can ignore them"
   ]
  },
  {
   "cell_type": "markdown",
   "metadata": {},
   "source": [
    "**Qualitative and Qualitative**"
   ]
  },
  {
   "cell_type": "code",
   "execution_count": 39,
   "metadata": {},
   "outputs": [
    {
     "data": {
      "text/html": [
       "<div>\n",
       "<style scoped>\n",
       "    .dataframe tbody tr th:only-of-type {\n",
       "        vertical-align: middle;\n",
       "    }\n",
       "\n",
       "    .dataframe tbody tr th {\n",
       "        vertical-align: top;\n",
       "    }\n",
       "\n",
       "    .dataframe thead th {\n",
       "        text-align: right;\n",
       "    }\n",
       "</style>\n",
       "<table border=\"1\" class=\"dataframe\">\n",
       "  <thead>\n",
       "    <tr style=\"text-align: right;\">\n",
       "      <th></th>\n",
       "      <th>Qualitative 1</th>\n",
       "      <th>Qualitative 2</th>\n",
       "      <th>Cohen's h</th>\n",
       "      <th>Cohen's h abs</th>\n",
       "    </tr>\n",
       "  </thead>\n",
       "  <tbody>\n",
       "    <tr>\n",
       "      <th>12</th>\n",
       "      <td>Fruits</td>\n",
       "      <td>Veggies</td>\n",
       "      <td>-0.515917</td>\n",
       "      <td>0.515917</td>\n",
       "    </tr>\n",
       "    <tr>\n",
       "      <th>5</th>\n",
       "      <td>HvyAlcoholConsump</td>\n",
       "      <td>Smoker</td>\n",
       "      <td>-0.443524</td>\n",
       "      <td>0.443524</td>\n",
       "    </tr>\n",
       "    <tr>\n",
       "      <th>1</th>\n",
       "      <td>HighBP</td>\n",
       "      <td>Smoker</td>\n",
       "      <td>-0.195999</td>\n",
       "      <td>0.195999</td>\n",
       "    </tr>\n",
       "    <tr>\n",
       "      <th>13</th>\n",
       "      <td>Fruits</td>\n",
       "      <td>Sex</td>\n",
       "      <td>0.189076</td>\n",
       "      <td>0.189076</td>\n",
       "    </tr>\n",
       "    <tr>\n",
       "      <th>11</th>\n",
       "      <td>Smoker</td>\n",
       "      <td>Sex</td>\n",
       "      <td>-0.188605</td>\n",
       "      <td>0.188605</td>\n",
       "    </tr>\n",
       "    <tr>\n",
       "      <th>14</th>\n",
       "      <td>Veggies</td>\n",
       "      <td>Sex</td>\n",
       "      <td>0.164955</td>\n",
       "      <td>0.164955</td>\n",
       "    </tr>\n",
       "    <tr>\n",
       "      <th>9</th>\n",
       "      <td>Smoker</td>\n",
       "      <td>Fruits</td>\n",
       "      <td>0.156158</td>\n",
       "      <td>0.156158</td>\n",
       "    </tr>\n",
       "    <tr>\n",
       "      <th>6</th>\n",
       "      <td>HvyAlcoholConsump</td>\n",
       "      <td>Fruits</td>\n",
       "      <td>0.150898</td>\n",
       "      <td>0.150898</td>\n",
       "    </tr>\n",
       "    <tr>\n",
       "      <th>3</th>\n",
       "      <td>HighBP</td>\n",
       "      <td>Veggies</td>\n",
       "      <td>0.123155</td>\n",
       "      <td>0.123155</td>\n",
       "    </tr>\n",
       "    <tr>\n",
       "      <th>4</th>\n",
       "      <td>HighBP</td>\n",
       "      <td>Sex</td>\n",
       "      <td>-0.105442</td>\n",
       "      <td>0.105442</td>\n",
       "    </tr>\n",
       "    <tr>\n",
       "      <th>7</th>\n",
       "      <td>HvyAlcoholConsump</td>\n",
       "      <td>Veggies</td>\n",
       "      <td>-0.094771</td>\n",
       "      <td>0.094771</td>\n",
       "    </tr>\n",
       "    <tr>\n",
       "      <th>2</th>\n",
       "      <td>HighBP</td>\n",
       "      <td>Fruits</td>\n",
       "      <td>0.081836</td>\n",
       "      <td>0.081836</td>\n",
       "    </tr>\n",
       "    <tr>\n",
       "      <th>10</th>\n",
       "      <td>Smoker</td>\n",
       "      <td>Veggies</td>\n",
       "      <td>0.061612</td>\n",
       "      <td>0.061612</td>\n",
       "    </tr>\n",
       "    <tr>\n",
       "      <th>8</th>\n",
       "      <td>HvyAlcoholConsump</td>\n",
       "      <td>Sex</td>\n",
       "      <td>-0.024894</td>\n",
       "      <td>0.024894</td>\n",
       "    </tr>\n",
       "    <tr>\n",
       "      <th>0</th>\n",
       "      <td>HighBP</td>\n",
       "      <td>HvyAlcoholConsump</td>\n",
       "      <td>0.008034</td>\n",
       "      <td>0.008034</td>\n",
       "    </tr>\n",
       "  </tbody>\n",
       "</table>\n",
       "</div>"
      ],
      "text/plain": [
       "        Qualitative 1      Qualitative 2  Cohen's h  Cohen's h abs\n",
       "12             Fruits            Veggies  -0.515917       0.515917\n",
       "5   HvyAlcoholConsump             Smoker  -0.443524       0.443524\n",
       "1              HighBP             Smoker  -0.195999       0.195999\n",
       "13             Fruits                Sex   0.189076       0.189076\n",
       "11             Smoker                Sex  -0.188605       0.188605\n",
       "14            Veggies                Sex   0.164955       0.164955\n",
       "9              Smoker             Fruits   0.156158       0.156158\n",
       "6   HvyAlcoholConsump             Fruits   0.150898       0.150898\n",
       "3              HighBP            Veggies   0.123155       0.123155\n",
       "4              HighBP                Sex  -0.105442       0.105442\n",
       "7   HvyAlcoholConsump            Veggies  -0.094771       0.094771\n",
       "2              HighBP             Fruits   0.081836       0.081836\n",
       "10             Smoker            Veggies   0.061612       0.061612\n",
       "8   HvyAlcoholConsump                Sex  -0.024894       0.024894\n",
       "0              HighBP  HvyAlcoholConsump   0.008034       0.008034"
      ]
     },
     "execution_count": 39,
     "metadata": {},
     "output_type": "execute_result"
    }
   ],
   "source": [
    "#Do qualitative and quantitative\n",
    "import itertools\n",
    "pairs = list(itertools.combinations(qualitative_variables, r=2))\n",
    "i = 0\n",
    "table = pd.DataFrame(columns=['Qualitative 1', 'Qualitative 2', 'Cohen\\'s h'])\n",
    "for (qual1, qual2) in pairs:\n",
    "    group0 = diabetes_df_cleaned[diabetes_df_cleaned[qual1] == 0][qual2]\n",
    "    group1 = diabetes_df_cleaned[diabetes_df_cleaned[qual1] == 1][qual2]\n",
    "    table.loc[i] = [qual1, qual2, cohen_h(np.array(group0), np.array(group1))]\n",
    "    i += 1\n",
    "table['Cohen\\'s h abs'] = table['Cohen\\'s h'].apply(lambda x: np.abs(x))\n",
    "table.sort_values(by='Cohen\\'s h abs', ascending=False)"
   ]
  },
  {
   "cell_type": "markdown",
   "metadata": {},
   "source": [
    "The first two correlations, fruits and veggies, and alcohol and smoker don't have confounding variables. A person who eats fruit is more likely to also eat vegetables because they may be a healthy eater overall. A heavy drinker is more likely to smoke because of substance abuse\n",
    "<br>\n",
    "Anyways, from this we can make the following inferences:\n",
    "- Smoker and High Blood pressure correlate positively. HighBP may be the confounding variable\n",
    "- Smoker and Fruits do correlate negatively, but there is no confounding. It's possible that those with substance abuse are poor and don't eat fruit as often because they may not have as much money\n",
    "- There is a negative correlation between heavy alcohol consumption and fruits. This is possibly because of the above reason\n",
    "- There is a negative correlation between high blood pressure and vegetables and a slight negative correlation between high blood pressure and fruits. Both fruits and vegetables are healthy and result in lower blood pressure, so high blood pressure is the confounding variable technically\n",
    "<br>\n",
    "All other correlations are likely not that meaningful"
   ]
  },
  {
   "cell_type": "markdown",
   "metadata": {},
   "source": [
    "## Findings from Dataset 1"
   ]
  },
  {
   "cell_type": "markdown",
   "metadata": {},
   "source": [
    "The main factors that lead to a higher risk of diabetes is high blood pressure and high BMI. Eating fruits and vegetables helps reduce these factors a tiny bit and therefore indirectly leads to a lower risk of diabetes. Heavy drinking and smoking generally lead to higher blood pressure and therefore indirectly leads to a higher risk of diabetes. Other factors like Age or Income have a much more indirect effect, affecting living conditions, substance abuse, and fruit and vegetable eating, which in turn affects high blood pressure and BMI, which leads to a higher risk of diabetes."
   ]
  },
  {
   "cell_type": "markdown",
   "metadata": {},
   "source": [
    "## EDA Section 2 - Dataset 2: Food Environment Atlas\n",
    "\n",
    "This EDA looks at the corelation between the income of people and the rate of diabetes. To look at this corelaiton, we tried to look at a linear corelation but saw that that would not work here; this is largely because the data is largely clumped together and there is no linear corelation. So, we tried polynomial regression of degrees 2 and 3."
   ]
  },
  {
   "cell_type": "code",
   "execution_count": 40,
   "metadata": {},
   "outputs": [],
   "source": [
    "## YOUR CODE HERE\n",
    "## FEEL FREE TO ADD MULTIPLE CELLS PER SECTION\n",
    "df = pd.read_csv(\"StateAndCountyData.csv\")"
   ]
  },
  {
   "cell_type": "code",
   "execution_count": 41,
   "metadata": {},
   "outputs": [
    {
     "data": {
      "text/html": [
       "<div>\n",
       "<style scoped>\n",
       "    .dataframe tbody tr th:only-of-type {\n",
       "        vertical-align: middle;\n",
       "    }\n",
       "\n",
       "    .dataframe tbody tr th {\n",
       "        vertical-align: top;\n",
       "    }\n",
       "\n",
       "    .dataframe thead th {\n",
       "        text-align: right;\n",
       "    }\n",
       "</style>\n",
       "<table border=\"1\" class=\"dataframe\">\n",
       "  <thead>\n",
       "    <tr style=\"text-align: right;\">\n",
       "      <th></th>\n",
       "      <th>FIPS</th>\n",
       "      <th>State</th>\n",
       "      <th>County</th>\n",
       "      <th>Variable_Code</th>\n",
       "      <th>Value</th>\n",
       "    </tr>\n",
       "  </thead>\n",
       "  <tbody>\n",
       "    <tr>\n",
       "      <th>0</th>\n",
       "      <td>1001</td>\n",
       "      <td>AL</td>\n",
       "      <td>Autauga</td>\n",
       "      <td>LACCESS_POP10</td>\n",
       "      <td>18428.439690</td>\n",
       "    </tr>\n",
       "    <tr>\n",
       "      <th>1</th>\n",
       "      <td>1001</td>\n",
       "      <td>AL</td>\n",
       "      <td>Autauga</td>\n",
       "      <td>LACCESS_POP15</td>\n",
       "      <td>17496.693040</td>\n",
       "    </tr>\n",
       "    <tr>\n",
       "      <th>2</th>\n",
       "      <td>1001</td>\n",
       "      <td>AL</td>\n",
       "      <td>Autauga</td>\n",
       "      <td>PCH_LACCESS_POP_10_15</td>\n",
       "      <td>-5.056026</td>\n",
       "    </tr>\n",
       "    <tr>\n",
       "      <th>3</th>\n",
       "      <td>1001</td>\n",
       "      <td>AL</td>\n",
       "      <td>Autauga</td>\n",
       "      <td>PCT_LACCESS_POP10</td>\n",
       "      <td>33.769657</td>\n",
       "    </tr>\n",
       "    <tr>\n",
       "      <th>4</th>\n",
       "      <td>1001</td>\n",
       "      <td>AL</td>\n",
       "      <td>Autauga</td>\n",
       "      <td>PCT_LACCESS_POP15</td>\n",
       "      <td>32.062255</td>\n",
       "    </tr>\n",
       "  </tbody>\n",
       "</table>\n",
       "</div>"
      ],
      "text/plain": [
       "   FIPS State   County          Variable_Code         Value\n",
       "0  1001    AL  Autauga          LACCESS_POP10  18428.439690\n",
       "1  1001    AL  Autauga          LACCESS_POP15  17496.693040\n",
       "2  1001    AL  Autauga  PCH_LACCESS_POP_10_15     -5.056026\n",
       "3  1001    AL  Autauga      PCT_LACCESS_POP10     33.769657\n",
       "4  1001    AL  Autauga      PCT_LACCESS_POP15     32.062255"
      ]
     },
     "execution_count": 41,
     "metadata": {},
     "output_type": "execute_result"
    }
   ],
   "source": [
    "df.head()"
   ]
  },
  {
   "cell_type": "markdown",
   "metadata": {},
   "source": [
    "We see how the data is arranged. We see data for the State, County, some arbitrary variable and the value for that arbitrary variable. However, we know nothing about the codes used for the arbitrary variable and what information we should use for our particular exploration. This infomation is given in the file \"VariableList.csv\". Lets read that into the dataframe and see what variables we should take into consideration."
   ]
  },
  {
   "cell_type": "code",
   "execution_count": 42,
   "metadata": {},
   "outputs": [],
   "source": [
    "var_df = pd.read_csv(\"VariableList.csv\")"
   ]
  },
  {
   "cell_type": "code",
   "execution_count": 43,
   "metadata": {},
   "outputs": [
    {
     "name": "stdout",
     "output_type": "stream",
     "text": [
      "Variable_Name          Adult diabetes rate, 2008\n",
      "Category_Name       Health and Physical Activity\n",
      "Category_Code                             HEALTH\n",
      "Subcategory_Name                          Health\n",
      "Variable_Code              PCT_DIABETES_ADULTS08\n",
      "Geography                                 CNTY10\n",
      "Units                                    Percent\n",
      "Name: 255, dtype: object\n",
      "Variable_Name          Adult diabetes rate, 2013\n",
      "Category_Name       Health and Physical Activity\n",
      "Category_Code                             HEALTH\n",
      "Subcategory_Name                          Health\n",
      "Variable_Code              PCT_DIABETES_ADULTS13\n",
      "Geography                                 CNTY10\n",
      "Units                                    Percent\n",
      "Name: 256, dtype: object\n"
     ]
    }
   ],
   "source": [
    "#Figuring out which Variable_Codes we would like to use\n",
    "\n",
    "for index, row in var_df.iterrows():\n",
    "    if any('diabetes' in str(value) for value in row):\n",
    "        print(row)"
   ]
  },
  {
   "cell_type": "code",
   "execution_count": 44,
   "metadata": {},
   "outputs": [
    {
     "name": "stdout",
     "output_type": "stream",
     "text": [
      "Variable_Name       Low income & low access to store, 2010\n",
      "Category_Name        Access and Proximity to Grocery Store\n",
      "Category_Code                                       ACCESS\n",
      "Subcategory_Name                       Household Resources\n",
      "Variable_Code                               LACCESS_LOWI10\n",
      "Geography                                           CNTY10\n",
      "Units                                                Count\n",
      "Name: 5, dtype: object\n",
      "Variable_Name       Low income & low access to store, 2015\n",
      "Category_Name        Access and Proximity to Grocery Store\n",
      "Category_Code                                       ACCESS\n",
      "Subcategory_Name                       Household Resources\n",
      "Variable_Code                               LACCESS_LOWI15\n",
      "Geography                                           CNTY10\n",
      "Units                                                Count\n",
      "Name: 6, dtype: object\n",
      "Variable_Name       Low income & low access to store (% change), 2...\n",
      "Category_Name                   Access and Proximity to Grocery Store\n",
      "Category_Code                                                  ACCESS\n",
      "Subcategory_Name                                  Household Resources\n",
      "Variable_Code                                  PCH_LACCESS_LOWI_10_15\n",
      "Geography                                                      CNTY10\n",
      "Units                                                        % change\n",
      "Name: 7, dtype: object\n",
      "Variable_Name       Low income & low access to store (%), 2010\n",
      "Category_Name            Access and Proximity to Grocery Store\n",
      "Category_Code                                           ACCESS\n",
      "Subcategory_Name                           Household Resources\n",
      "Variable_Code                               PCT_LACCESS_LOWI10\n",
      "Geography                                               CNTY10\n",
      "Units                                                  Percent\n",
      "Name: 8, dtype: object\n",
      "Variable_Name       Low income & low access to store (%), 2015\n",
      "Category_Name            Access and Proximity to Grocery Store\n",
      "Category_Code                                           ACCESS\n",
      "Subcategory_Name                           Household Resources\n",
      "Variable_Code                               PCT_LACCESS_LOWI15\n",
      "Geography                                               CNTY10\n",
      "Units                                                  Percent\n",
      "Name: 9, dtype: object\n",
      "Variable_Name       Median household income, 2015\n",
      "Category_Name       Socioeconomic Characteristics\n",
      "Category_Code                       SOCIOECONOMIC\n",
      "Subcategory_Name                     Income Level\n",
      "Variable_Code                          MEDHHINC15\n",
      "Geography                                  CNTY10\n",
      "Units                                     Dollars\n",
      "Name: 274, dtype: object\n"
     ]
    }
   ],
   "source": [
    "for index, row in var_df.iterrows():\n",
    "    if any('income' in str(value) for value in row):\n",
    "        print(row)"
   ]
  },
  {
   "cell_type": "markdown",
   "metadata": {},
   "source": [
    "Based on the data that we see, that 'MEDHHINC15' and 'PCT_DIABETES_ADULTS13' are the variables that we need to be investigating. 'PCT_DIABETES_ADULTS13' shows the diabetes rate in 2013. 'MEDHHINC15' talks about the median income in 2015. Two years is not too much time for any drastic shift in the rates of both these values so we are considering this one time frame. However, this is a potential limitation of the data: both the dependant and independant variable are not from the same year!"
   ]
  },
  {
   "cell_type": "code",
   "execution_count": 45,
   "metadata": {},
   "outputs": [],
   "source": [
    "income_df = df[df['Variable_Code'] == 'MEDHHINC15']\n",
    "diabetes_df = df[df['Variable_Code'] == 'PCT_DIABETES_ADULTS13']"
   ]
  },
  {
   "cell_type": "code",
   "execution_count": 46,
   "metadata": {},
   "outputs": [
    {
     "data": {
      "text/html": [
       "<div>\n",
       "<style scoped>\n",
       "    .dataframe tbody tr th:only-of-type {\n",
       "        vertical-align: middle;\n",
       "    }\n",
       "\n",
       "    .dataframe tbody tr th {\n",
       "        vertical-align: top;\n",
       "    }\n",
       "\n",
       "    .dataframe thead th {\n",
       "        text-align: right;\n",
       "    }\n",
       "</style>\n",
       "<table border=\"1\" class=\"dataframe\">\n",
       "  <thead>\n",
       "    <tr style=\"text-align: right;\">\n",
       "      <th></th>\n",
       "      <th>FIPS</th>\n",
       "      <th>State</th>\n",
       "      <th>County</th>\n",
       "      <th>Variable_Code</th>\n",
       "      <th>Value</th>\n",
       "    </tr>\n",
       "  </thead>\n",
       "  <tbody>\n",
       "    <tr>\n",
       "      <th>741739</th>\n",
       "      <td>1001</td>\n",
       "      <td>AL</td>\n",
       "      <td>Autauga</td>\n",
       "      <td>PCT_DIABETES_ADULTS13</td>\n",
       "      <td>13.0</td>\n",
       "    </tr>\n",
       "    <tr>\n",
       "      <th>741749</th>\n",
       "      <td>1003</td>\n",
       "      <td>AL</td>\n",
       "      <td>Baldwin</td>\n",
       "      <td>PCT_DIABETES_ADULTS13</td>\n",
       "      <td>10.4</td>\n",
       "    </tr>\n",
       "    <tr>\n",
       "      <th>741759</th>\n",
       "      <td>1005</td>\n",
       "      <td>AL</td>\n",
       "      <td>Barbour</td>\n",
       "      <td>PCT_DIABETES_ADULTS13</td>\n",
       "      <td>18.4</td>\n",
       "    </tr>\n",
       "    <tr>\n",
       "      <th>741769</th>\n",
       "      <td>1007</td>\n",
       "      <td>AL</td>\n",
       "      <td>Bibb</td>\n",
       "      <td>PCT_DIABETES_ADULTS13</td>\n",
       "      <td>14.8</td>\n",
       "    </tr>\n",
       "    <tr>\n",
       "      <th>741777</th>\n",
       "      <td>1009</td>\n",
       "      <td>AL</td>\n",
       "      <td>Blount</td>\n",
       "      <td>PCT_DIABETES_ADULTS13</td>\n",
       "      <td>14.1</td>\n",
       "    </tr>\n",
       "  </tbody>\n",
       "</table>\n",
       "</div>"
      ],
      "text/plain": [
       "        FIPS State   County          Variable_Code  Value\n",
       "741739  1001    AL  Autauga  PCT_DIABETES_ADULTS13   13.0\n",
       "741749  1003    AL  Baldwin  PCT_DIABETES_ADULTS13   10.4\n",
       "741759  1005    AL  Barbour  PCT_DIABETES_ADULTS13   18.4\n",
       "741769  1007    AL     Bibb  PCT_DIABETES_ADULTS13   14.8\n",
       "741777  1009    AL   Blount  PCT_DIABETES_ADULTS13   14.1"
      ]
     },
     "execution_count": 46,
     "metadata": {},
     "output_type": "execute_result"
    }
   ],
   "source": [
    "diabetes_df.head()"
   ]
  },
  {
   "cell_type": "code",
   "execution_count": 47,
   "metadata": {},
   "outputs": [
    {
     "data": {
      "image/png": "[encoded data removed]",
      "text/plain": [
       "<Figure size 432x288 with 1 Axes>"
      ]
     },
     "metadata": {
      "needs_background": "light"
     },
     "output_type": "display_data"
    },
    {
     "data": {
      "image/png": "[encoded data removed]",
      "text/plain": [
       "<Figure size 1080x720 with 1 Axes>"
      ]
     },
     "metadata": {
      "needs_background": "light"
     },
     "output_type": "display_data"
    }
   ],
   "source": [
    "diabetes_df['Value'].plot(kind='hist', bins=40)\n",
    "plt.gca().spines[['top', 'right',]].set_visible(False)\n",
    "\n",
    "plt.figure(figsize=(15, 10))\n",
    "sns.boxplot(data=diabetes_df, y='Value')\n",
    "plt.ylabel('Value')\n",
    "plt.gca().spines['top'].set_visible(False)\n",
    "plt.gca().spines['right'].set_visible(False)\n",
    "plt.show()"
   ]
  },
  {
   "cell_type": "markdown",
   "metadata": {},
   "source": [
    "From the bar plot, we see that there is a more or less Gaussian distribution of diabetes rates across counties. The box plot tells us that there are not too many outliers that we need to worry about so we are not perfoming outlier removal."
   ]
  },
  {
   "cell_type": "code",
   "execution_count": 48,
   "metadata": {},
   "outputs": [
    {
     "data": {
      "text/html": [
       "<div>\n",
       "<style scoped>\n",
       "    .dataframe tbody tr th:only-of-type {\n",
       "        vertical-align: middle;\n",
       "    }\n",
       "\n",
       "    .dataframe tbody tr th {\n",
       "        vertical-align: top;\n",
       "    }\n",
       "\n",
       "    .dataframe thead th {\n",
       "        text-align: right;\n",
       "    }\n",
       "</style>\n",
       "<table border=\"1\" class=\"dataframe\">\n",
       "  <thead>\n",
       "    <tr style=\"text-align: right;\">\n",
       "      <th></th>\n",
       "      <th>FIPS</th>\n",
       "      <th>State</th>\n",
       "      <th>County</th>\n",
       "      <th>Variable_Code</th>\n",
       "      <th>Value</th>\n",
       "    </tr>\n",
       "  </thead>\n",
       "  <tbody>\n",
       "    <tr>\n",
       "      <th>775267</th>\n",
       "      <td>1001</td>\n",
       "      <td>AL</td>\n",
       "      <td>Autauga</td>\n",
       "      <td>MEDHHINC15</td>\n",
       "      <td>56580.0</td>\n",
       "    </tr>\n",
       "    <tr>\n",
       "      <th>775282</th>\n",
       "      <td>1003</td>\n",
       "      <td>AL</td>\n",
       "      <td>Baldwin</td>\n",
       "      <td>MEDHHINC15</td>\n",
       "      <td>52387.0</td>\n",
       "    </tr>\n",
       "    <tr>\n",
       "      <th>775297</th>\n",
       "      <td>1005</td>\n",
       "      <td>AL</td>\n",
       "      <td>Barbour</td>\n",
       "      <td>MEDHHINC15</td>\n",
       "      <td>31433.0</td>\n",
       "    </tr>\n",
       "    <tr>\n",
       "      <th>775312</th>\n",
       "      <td>1007</td>\n",
       "      <td>AL</td>\n",
       "      <td>Bibb</td>\n",
       "      <td>MEDHHINC15</td>\n",
       "      <td>40767.0</td>\n",
       "    </tr>\n",
       "    <tr>\n",
       "      <th>775327</th>\n",
       "      <td>1009</td>\n",
       "      <td>AL</td>\n",
       "      <td>Blount</td>\n",
       "      <td>MEDHHINC15</td>\n",
       "      <td>50487.0</td>\n",
       "    </tr>\n",
       "  </tbody>\n",
       "</table>\n",
       "</div>"
      ],
      "text/plain": [
       "        FIPS State   County Variable_Code    Value\n",
       "775267  1001    AL  Autauga    MEDHHINC15  56580.0\n",
       "775282  1003    AL  Baldwin    MEDHHINC15  52387.0\n",
       "775297  1005    AL  Barbour    MEDHHINC15  31433.0\n",
       "775312  1007    AL     Bibb    MEDHHINC15  40767.0\n",
       "775327  1009    AL   Blount    MEDHHINC15  50487.0"
      ]
     },
     "execution_count": 48,
     "metadata": {},
     "output_type": "execute_result"
    }
   ],
   "source": [
    "income_df.head()"
   ]
  },
  {
   "cell_type": "code",
   "execution_count": 49,
   "metadata": {},
   "outputs": [
    {
     "data": {
      "image/png": "[encoded data removed]",
      "text/plain": [
       "<Figure size 432x288 with 1 Axes>"
      ]
     },
     "metadata": {
      "needs_background": "light"
     },
     "output_type": "display_data"
    },
    {
     "data": {
      "image/png": "[encoded data removed]",
      "text/plain": [
       "<Figure size 1080x720 with 1 Axes>"
      ]
     },
     "metadata": {
      "needs_background": "light"
     },
     "output_type": "display_data"
    }
   ],
   "source": [
    "income_df['Value'].plot(kind='hist', bins=40)\n",
    "plt.gca().spines[['top', 'right',]].set_visible(False)\n",
    "\n",
    "plt.figure(figsize=(15, 10))\n",
    "sns.boxplot(data=income_df, y='Value', color='skyblue')\n",
    "plt.ylabel('Value')\n",
    "plt.gca().spines['top'].set_visible(False)\n",
    "plt.gca().spines['right'].set_visible(False)\n",
    "plt.show()"
   ]
  },
  {
   "cell_type": "markdown",
   "metadata": {},
   "source": [
    "We see that the frequency of incomes is also a Gaussian that is skeweed to the right. This tells us that there is a possibility of a polynomial correlation between both the variables."
   ]
  },
  {
   "cell_type": "code",
   "execution_count": 50,
   "metadata": {},
   "outputs": [
    {
     "name": "stdout",
     "output_type": "stream",
     "text": [
      "Shape of income_df: (3139, 5)\n",
      "Shape of diabetes_df: (3142, 5)\n"
     ]
    }
   ],
   "source": [
    "print(\"Shape of income_df:\", income_df.shape)\n",
    "print(\"Shape of diabetes_df:\", diabetes_df.shape)"
   ]
  },
  {
   "cell_type": "markdown",
   "metadata": {},
   "source": [
    "We see that there is definitely some data that is in one df but not the other. To combat this problem, we will merge the dataframes."
   ]
  },
  {
   "cell_type": "code",
   "execution_count": 51,
   "metadata": {},
   "outputs": [
    {
     "name": "stderr",
     "output_type": "stream",
     "text": [
      "/tmp/ipykernel_1163/2007555518.py:2: SettingWithCopyWarning: \n",
      "A value is trying to be set on a copy of a slice from a DataFrame\n",
      "\n",
      "See the caveats in the documentation: https://pandas.pydata.org/pandas-docs/stable/user_guide/indexing.html#returning-a-view-versus-a-copy\n",
      "  income_df.rename(columns={'Value': 'income_val'}, inplace=True) #renaming the column names for better clarity when we merge\n",
      "/tmp/ipykernel_1163/2007555518.py:3: SettingWithCopyWarning: \n",
      "A value is trying to be set on a copy of a slice from a DataFrame\n",
      "\n",
      "See the caveats in the documentation: https://pandas.pydata.org/pandas-docs/stable/user_guide/indexing.html#returning-a-view-versus-a-copy\n",
      "  diabetes_df.rename(columns={'Value': 'diabetes_val'}, inplace=True)\n"
     ]
    },
    {
     "data": {
      "text/html": [
       "<div>\n",
       "<style scoped>\n",
       "    .dataframe tbody tr th:only-of-type {\n",
       "        vertical-align: middle;\n",
       "    }\n",
       "\n",
       "    .dataframe tbody tr th {\n",
       "        vertical-align: top;\n",
       "    }\n",
       "\n",
       "    .dataframe thead th {\n",
       "        text-align: right;\n",
       "    }\n",
       "</style>\n",
       "<table border=\"1\" class=\"dataframe\">\n",
       "  <thead>\n",
       "    <tr style=\"text-align: right;\">\n",
       "      <th></th>\n",
       "      <th>FIPS_x</th>\n",
       "      <th>State</th>\n",
       "      <th>County</th>\n",
       "      <th>Variable_Code_x</th>\n",
       "      <th>income_val</th>\n",
       "      <th>FIPS_y</th>\n",
       "      <th>Variable_Code_y</th>\n",
       "      <th>diabetes_val</th>\n",
       "    </tr>\n",
       "  </thead>\n",
       "  <tbody>\n",
       "    <tr>\n",
       "      <th>0</th>\n",
       "      <td>1001</td>\n",
       "      <td>AL</td>\n",
       "      <td>Autauga</td>\n",
       "      <td>MEDHHINC15</td>\n",
       "      <td>56580.0</td>\n",
       "      <td>1001</td>\n",
       "      <td>PCT_DIABETES_ADULTS13</td>\n",
       "      <td>13.0</td>\n",
       "    </tr>\n",
       "    <tr>\n",
       "      <th>1</th>\n",
       "      <td>1003</td>\n",
       "      <td>AL</td>\n",
       "      <td>Baldwin</td>\n",
       "      <td>MEDHHINC15</td>\n",
       "      <td>52387.0</td>\n",
       "      <td>1003</td>\n",
       "      <td>PCT_DIABETES_ADULTS13</td>\n",
       "      <td>10.4</td>\n",
       "    </tr>\n",
       "    <tr>\n",
       "      <th>2</th>\n",
       "      <td>1005</td>\n",
       "      <td>AL</td>\n",
       "      <td>Barbour</td>\n",
       "      <td>MEDHHINC15</td>\n",
       "      <td>31433.0</td>\n",
       "      <td>1005</td>\n",
       "      <td>PCT_DIABETES_ADULTS13</td>\n",
       "      <td>18.4</td>\n",
       "    </tr>\n",
       "    <tr>\n",
       "      <th>3</th>\n",
       "      <td>1007</td>\n",
       "      <td>AL</td>\n",
       "      <td>Bibb</td>\n",
       "      <td>MEDHHINC15</td>\n",
       "      <td>40767.0</td>\n",
       "      <td>1007</td>\n",
       "      <td>PCT_DIABETES_ADULTS13</td>\n",
       "      <td>14.8</td>\n",
       "    </tr>\n",
       "    <tr>\n",
       "      <th>4</th>\n",
       "      <td>1009</td>\n",
       "      <td>AL</td>\n",
       "      <td>Blount</td>\n",
       "      <td>MEDHHINC15</td>\n",
       "      <td>50487.0</td>\n",
       "      <td>1009</td>\n",
       "      <td>PCT_DIABETES_ADULTS13</td>\n",
       "      <td>14.1</td>\n",
       "    </tr>\n",
       "  </tbody>\n",
       "</table>\n",
       "</div>"
      ],
      "text/plain": [
       "   FIPS_x State   County Variable_Code_x  income_val  FIPS_y  \\\n",
       "0    1001    AL  Autauga      MEDHHINC15     56580.0    1001   \n",
       "1    1003    AL  Baldwin      MEDHHINC15     52387.0    1003   \n",
       "2    1005    AL  Barbour      MEDHHINC15     31433.0    1005   \n",
       "3    1007    AL     Bibb      MEDHHINC15     40767.0    1007   \n",
       "4    1009    AL   Blount      MEDHHINC15     50487.0    1009   \n",
       "\n",
       "         Variable_Code_y  diabetes_val  \n",
       "0  PCT_DIABETES_ADULTS13          13.0  \n",
       "1  PCT_DIABETES_ADULTS13          10.4  \n",
       "2  PCT_DIABETES_ADULTS13          18.4  \n",
       "3  PCT_DIABETES_ADULTS13          14.8  \n",
       "4  PCT_DIABETES_ADULTS13          14.1  "
      ]
     },
     "execution_count": 51,
     "metadata": {},
     "output_type": "execute_result"
    }
   ],
   "source": [
    "# Plotting the scatterplot\n",
    "income_df.rename(columns={'Value': 'income_val'}, inplace=True) #renaming the column names for better clarity when we merge\n",
    "diabetes_df.rename(columns={'Value': 'diabetes_val'}, inplace=True)\n",
    "\n",
    "common_df = pd.merge(income_df, diabetes_df, on=['County', 'State'], how='inner')\n",
    "\n",
    "common_df.head()"
   ]
  },
  {
   "cell_type": "code",
   "execution_count": 52,
   "metadata": {},
   "outputs": [
    {
     "name": "stdout",
     "output_type": "stream",
     "text": [
      "Shape of common_df: (3151, 8)\n"
     ]
    }
   ],
   "source": [
    "print(\"Shape of common_df:\", common_df.shape)"
   ]
  },
  {
   "cell_type": "markdown",
   "metadata": {},
   "source": [
    "We see that after removing datapoints for which we have information for only one of the two variables, we lose close to 35 data points. This is okay as we are not losing too many and there is no way for us to find out the correlation and carry on with our analysis with only one data entry."
   ]
  },
  {
   "cell_type": "code",
   "execution_count": 53,
   "metadata": {},
   "outputs": [
    {
     "ename": "NameError",
     "evalue": "name 'linregress' is not defined",
     "output_type": "error",
     "traceback": [
      "\u001b[0;31m---------------------------------------------------------------------------\u001b[0m",
      "\u001b[0;31mNameError\u001b[0m                                 Traceback (most recent call last)",
      "\u001b[0;32m/tmp/ipykernel_1163/1253687747.py\u001b[0m in \u001b[0;36m<module>\u001b[0;34m\u001b[0m\n\u001b[1;32m      2\u001b[0m \u001b[0mplt\u001b[0m\u001b[0;34m.\u001b[0m\u001b[0mscatter\u001b[0m\u001b[0;34m(\u001b[0m\u001b[0mcommon_df\u001b[0m\u001b[0;34m[\u001b[0m\u001b[0;34m\"income_val\"\u001b[0m\u001b[0;34m]\u001b[0m\u001b[0;34m,\u001b[0m \u001b[0mcommon_df\u001b[0m\u001b[0;34m[\u001b[0m\u001b[0;34m'diabetes_val'\u001b[0m\u001b[0;34m]\u001b[0m\u001b[0;34m,\u001b[0m \u001b[0malpha\u001b[0m\u001b[0;34m=\u001b[0m\u001b[0;36m0.5\u001b[0m\u001b[0;34m,\u001b[0m \u001b[0mlabel\u001b[0m\u001b[0;34m=\u001b[0m\u001b[0;34m'Data'\u001b[0m\u001b[0;34m)\u001b[0m\u001b[0;34m\u001b[0m\u001b[0;34m\u001b[0m\u001b[0m\n\u001b[1;32m      3\u001b[0m \u001b[0;34m\u001b[0m\u001b[0m\n\u001b[0;32m----> 4\u001b[0;31m \u001b[0mslope\u001b[0m\u001b[0;34m,\u001b[0m \u001b[0mintercept\u001b[0m\u001b[0;34m,\u001b[0m \u001b[0mr_value\u001b[0m\u001b[0;34m,\u001b[0m \u001b[0mp_value\u001b[0m\u001b[0;34m,\u001b[0m \u001b[0mstd_err\u001b[0m \u001b[0;34m=\u001b[0m \u001b[0mlinregress\u001b[0m\u001b[0;34m(\u001b[0m\u001b[0mcommon_df\u001b[0m\u001b[0;34m[\u001b[0m\u001b[0;34m\"income_val\"\u001b[0m\u001b[0;34m]\u001b[0m\u001b[0;34m,\u001b[0m \u001b[0mcommon_df\u001b[0m\u001b[0;34m[\u001b[0m\u001b[0;34m'diabetes_val'\u001b[0m\u001b[0;34m]\u001b[0m\u001b[0;34m)\u001b[0m \u001b[0;31m#linear regression\u001b[0m\u001b[0;34m\u001b[0m\u001b[0;34m\u001b[0m\u001b[0m\n\u001b[0m\u001b[1;32m      5\u001b[0m \u001b[0;34m\u001b[0m\u001b[0m\n\u001b[1;32m      6\u001b[0m \u001b[0;34m\u001b[0m\u001b[0m\n",
      "\u001b[0;31mNameError\u001b[0m: name 'linregress' is not defined"
     ]
    },
    {
     "data": {
      "image/png": "[encoded data removed]",
      "text/plain": [
       "<Figure size 1080x720 with 1 Axes>"
      ]
     },
     "metadata": {
      "needs_background": "light"
     },
     "output_type": "display_data"
    }
   ],
   "source": [
    "plt.figure(figsize=(15, 10))\n",
    "plt.scatter(common_df[\"income_val\"], common_df['diabetes_val'], alpha=0.5, label='Data')\n",
    "\n",
    "slope, intercept, r_value, p_value, std_err = linregress(common_df[\"income_val\"], common_df['diabetes_val']) #linear regression\n",
    "\n",
    "\n",
    "#Plot the linear regression and the scatter plot\n",
    "plt.plot(common_df[\"income_val\"], slope * common_df[\"income_val\"] + intercept, color='red', label='Regression Line')\n",
    "plt.title('Income vs Diabetes')\n",
    "plt.xlabel('Income')\n",
    "plt.ylabel('Diabetes')\n",
    "plt.legend()\n",
    "plt.grid(True)\n",
    "plt.show()\n",
    "\n",
    "print(\"Root Mean Squared Error (RMSE):\", std_err)"
   ]
  },
  {
   "cell_type": "markdown",
   "metadata": {},
   "source": [
    "We see that there is a very low root mean squared error so this means that they are correlated pretty strongly. I will still try to look at some other relations."
   ]
  },
  {
   "cell_type": "code",
   "execution_count": null,
   "metadata": {},
   "outputs": [],
   "source": [
    "# Create a new variable representing the inverse of income\n",
    "common_df['inverse_income'] = 1 / common_df['income_val']\n",
    "\n",
    "# Scatter plot and perform linear regression\n",
    "plt.figure(figsize=(15, 10))\n",
    "plt.scatter(common_df['inverse_income'], common_df['diabetes_val'], alpha=0.5, label='Data')\n",
    "\n",
    "# Perform linear regression\n",
    "slope, intercept, r_value, p_value, std_err = linregress(common_df['inverse_income'], common_df['diabetes_val'])\n",
    "\n",
    "# Plot regression line\n",
    "plt.plot(common_df['inverse_income'], slope * common_df['inverse_income'] + intercept, color='red', label='Regression Line')\n",
    "\n",
    "plt.title('Diabetes vs 1/Income')\n",
    "plt.xlabel('1/Income')\n",
    "plt.ylabel('Diabetes')\n",
    "plt.legend()\n",
    "plt.grid(True)\n",
    "plt.show()\n",
    "\n",
    "# Print the error\n",
    "print(\"Root Mean Squared Error (RMSE):\", std_err)"
   ]
  },
  {
   "cell_type": "markdown",
   "metadata": {},
   "source": [
    "We see a much higher RMSE when we do this. The data is much more spread out around the line of best fit. So, diabetes is not correlated to the inverse of the income."
   ]
  },
  {
   "cell_type": "code",
   "execution_count": null,
   "metadata": {},
   "outputs": [],
   "source": [
    "degree = 2\n",
    "\n",
    "coefficients = np.polyfit(common_df[\"income_val\"], common_df['diabetes_val'], degree)\n",
    "poly_function = np.poly1d(coefficients)\n",
    "\n",
    "plt.figure(figsize=(15, 10))\n",
    "plt.scatter(common_df[\"income_val\"], common_df['diabetes_val'], alpha=0.5, label='Data')\n",
    "\n",
    "x_values = np.linspace(min(common_df[\"income_val\"]), max(common_df[\"income_val\"]), 100)\n",
    "\n",
    "plt.plot(x_values, poly_function(x_values), color='red', label='Polynomial Regression')\n",
    "\n",
    "plt.title('Income vs Diabetes (2 degree polynomial regression)')\n",
    "plt.xlabel('Income')\n",
    "plt.ylabel('Diabetes')\n",
    "plt.legend()\n",
    "plt.grid(True)\n",
    "plt.show()\n",
    "\n",
    "predicted_values = poly_function(common_df[\"income_val\"])\n",
    "residuals = common_df['diabetes_val'] - predicted_values\n",
    "rmse = np.sqrt(np.mean(residuals**2))\n",
    "print(\"Root Mean Squared Error (RMSE):\", rmse)"
   ]
  },
  {
   "cell_type": "markdown",
   "metadata": {},
   "source": [
    "We see that the RMSE for this is also really low. It is possible that the correlatoin is of the for  𝑎𝑥2+𝑏𝑥+𝑐."
   ]
  },
  {
   "cell_type": "code",
   "execution_count": null,
   "metadata": {},
   "outputs": [],
   "source": [
    "degree = 3\n",
    "\n",
    "coefficients = np.polyfit(common_df[\"income_val\"], common_df['diabetes_val'], degree)\n",
    "poly_function = np.poly1d(coefficients)\n",
    "\n",
    "plt.figure(figsize=(15, 10))\n",
    "plt.scatter(common_df[\"income_val\"], common_df['diabetes_val'], alpha=0.5, label='Data')\n",
    "x_values = np.linspace(min(common_df[\"income_val\"]), max(common_df[\"income_val\"]), 100)\n",
    "\n",
    "\n",
    "plt.plot(x_values, poly_function(x_values), color='red', label='Polynomial Regression')\n",
    "\n",
    "plt.title('Income vs Diabetes (3 degree polynomial regression)')\n",
    "plt.xlabel('Income')\n",
    "plt.ylabel('Diabetes')\n",
    "plt.legend()\n",
    "plt.grid(True)\n",
    "plt.show()\n",
    "\n",
    "predicted_values = poly_function(common_df[\"income_val\"])\n",
    "residuals = common_df['diabetes_val'] - predicted_values\n",
    "rmse = np.sqrt(np.mean(residuals**2))\n",
    "print(\"Root Mean Squared Error (RMSE):\", rmse)"
   ]
  },
  {
   "cell_type": "markdown",
   "metadata": {},
   "source": [
    "We see that the RMSE for this is also really low. It is possible that the correlatoin is of the for  𝑎𝑥3+𝑏𝑥2+𝑐𝑥+𝑑 . This has a lower correlation than the quadratic line of best fit. However, the linear one had the lowest so it is safe to conclude that the correlation exists and is linear."
   ]
  },
  {
   "cell_type": "markdown",
   "metadata": {},
   "source": [
    "As one final test between the values, we add this test:"
   ]
  },
  {
   "cell_type": "code",
   "execution_count": null,
   "metadata": {},
   "outputs": [],
   "source": [
    "correlation = common_df['income_val'].corr(common_df['diabetes_val'])\n",
    "print(\"Correlation between income_val and diabetes_val:\", correlation)"
   ]
  },
  {
   "cell_type": "markdown",
   "metadata": {},
   "source": [
    "Values closer to -1 indicate a strong negative correlation while values closer to 0 indicate a no correlation. We see that our data shows a somewhat negative correlation."
   ]
  },
  {
   "cell_type": "markdown",
   "metadata": {},
   "source": [
    "## ETC AD NASEUM\n",
    "\n",
    "Some more words and stuff.  Remember notebooks work best if you interleave the code that generates a result with properly annotate figures and text that puts these results into context."
   ]
  },
  {
   "cell_type": "code",
   "execution_count": null,
   "metadata": {},
   "outputs": [],
   "source": [
    "## YOUR CODE HERE\n",
    "## FEEL FREE TO ADD MULTIPLE CELLS PER SECTION"
   ]
  },
  {
   "cell_type": "markdown",
   "metadata": {},
   "source": [
    "# Ethics & Privacy"
   ]
  },
  {
   "cell_type": "markdown",
   "metadata": {},
   "source": [
    "There are some ethical concerns regarding equitability we must consider. There may be variations between diabetes rates between gender and ages below 21. Additionally, there are claims that ethinicity affects diabetes rates <a name=\"diabetes-ethnicity\"></a>[<sup>1</sup>](#dia-ethnicity). It’s not clear why this correlation is reported, but it is a possibility to consider when searching for a dataset. Certain disabilities can also have an impact on diabetes rate and ideally we’d want a dataset that accounts for those disabilities too. Furthermore more, we should also ensure that our dataset contains a diverse set of class and wealth levels too, as lower income individuals may be forced to have a lower quality of life, which may cause a higher risk of diabetes. Therefore, it’s important to sample a diverse set of people in our dataset to account for as many of these differences as possible. We can check for such datasets either by looking at the description of the dataset and by gauging how diverse the dataset is based off of the description, or checking if age, gender, ethnicity, disabilities, and class are variables in the dataset and doing EDA to make sure that the distribution of those variables are diverse. If we cannot find data that accounts for all of these differences, then we must add disclaimers stating as such in order to prevent misinterpretation.\n",
    "\n",
    "Even if we have a diverse dataset, though, there may still be some issues with equitability. If we don’t have enough variables in the dataset, we can get some correlations that may lead us to identify false causes and false conclusions. For example, let’s say we exclude BMI for the sake of this scenario. Certain population groups may just so happen to have higher BMIs on average for a variety of reasons. BMI could be the actual reason why they typically have a higher risk for diabetes, but if we exclude BMI, we may falsely conclude that certain demographics naturally are more likely to suffer from diabetes, which can be problematic. False conclusions can lead to treatments that can be harmful to people or groups. To solve this, we would have to consider datasets that have many different diverse variables. Lastly, with an ideal dataset that considers all of these problems, the only major issue would be privacy. We wouldn’t want hospitals to release sensitive information from patients without their knowledge or proper consent, for instance. It has to be sourced from willing participants and handled in an approporiate manner, so that no data can be linked back to an individual patient.\n",
    "\n",
    "To handle these concerns, we will be both carefully inspecting the datasets we have chosen and their descriptions to ensure that the data, at least on the surface appears to be representative including diverse ages, genders, income levels. We will also be conducting some EDA to ensure that the disctributions of these variables are not skewed. Additionally, we will conduct extensive research to ensure that we are not dropping variables that affect our research question and conclusions. \n",
    "\n",
    "1. <a name=\"dia-ethnicity\"></a> [^](#diabetes-ethnicity) *Diabetes UK*. https://www.diabetes.org.uk/diabetes-the-basics/types-of-diabetes/type-2/diabetes-ethnicity"
   ]
  },
  {
   "cell_type": "markdown",
   "metadata": {},
   "source": [
    "# Discusison and Conclusion\n",
    "\n",
    "In this project, we aimed to explore whether there is a correlation between diabetes rate and factors such as individual specific body conditions, lifestyle choices, and income. Through our EDA, we looked at data pertaining to blood pressure, age, and BMI, and if the individual has diabetes or not. We found that specifically, those with higher blood pressure, age, and BMI seem to be more likely to be affected by diabetes. We have discovered a positive correlation between the rate of diabetes and the three individual specific conditions we have studied. This analysis supports our hypothesis that a person’s individual health indicators will affect their risk of diabetes. \n",
    "\n",
    "Next, we looked at how lifestyle choices would affect an individual's risk of developing diabetes. Essentially, we chose to focus on smoking, drinking, and healthy eating, which we classified as eating fruits and vegetables, relating to the diabetes rate. Our EDA shows that smoking and eating fruits and vegetables have a positive and negative correlation respectively, with the diabetes rate, which supports our hypothesis. On the other hand, we could not find a correlation between individuals that consume alcohol and the associated risk of diabetes, which we believe may be due to the nature of the data collection. Because individuals were asked about their alcohol habits in a telephone survey, they may feel pressured to answer that they are not heavy alcoholics, which would affect the conclusions we can draw from the data.  \n",
    "\n",
    "To further support a correlation between diet and rate of diabetes, initially, we planned to use the Food Environment Atlas Dataset. However, we decided to omit this analysis because the relevant nutrition variables in this dataset such as number of acres of vegetable and fruit growth and number of fast food restaurants do not necessarily imply a healthy diet of any kind.  Because this dataset also contains the income information of the surveyed states and counties and their diabetes rate, we decided to use it to explore the relationship between income and diabetes instead. Furthermore, we identified an inverse relation between income and the rate of diabetes: where income increases, there is a decrease in the rate of diabetes, and where income decreases, there is an increase in the rate of diabetes, which also supports our hypothesis. \n",
    "\n",
    "And although we have established a correlation between many of the independent variables we studied and the diabetes rate, we can not determine whether these variables directly cause an increased risk of diabetes, until we conduct additional research and analysis. At the same time, our findings support much of our hypothesis in that individual specific body conditions, several lifestyle factors, and socioeconomic conditions, specifically income, all affect an individual’s risk of getting diabetes. \n",
    "\n",
    "\n",
    "\n",
    "# Team Contributions\n",
    "\n",
    "Speficy who did what.  This should be pretty granular, perhaps bullet points, no more than a few sentences per person."
   ]
  },
  {
   "cell_type": "code",
   "execution_count": null,
   "metadata": {},
   "outputs": [],
   "source": []
  }
 ],
 "metadata": {
  "kernelspec": {
   "display_name": "Python 3 (ipykernel)",
   "language": "python",
   "name": "python3"
  },
  "language_info": {
   "codemirror_mode": {
    "name": "ipython",
    "version": 3
   },
   "file_extension": ".py",
   "mimetype": "text/x-python",
   "name": "python",
   "nbconvert_exporter": "python",
   "pygments_lexer": "ipython3",
   "version": "3.9.5"
  }
 },
 "nbformat": 4,
 "nbformat_minor": 4
}
