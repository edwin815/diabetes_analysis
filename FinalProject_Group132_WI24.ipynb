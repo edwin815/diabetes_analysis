{
 "cells": [
  {
   "cell_type": "markdown",
   "metadata": {},
   "source": [
    "# COGS 108 - Final Project (change this to your project's title)\n",
    "\n",
    "# Permissions\n",
    "\n",
    "Place an `X` in the appropriate bracket below to specify if you would like your group's project to be made available to the public. (Note that student names will be included (but PIDs will be scraped from any groups who include their PIDs).\n",
    "\n",
    "* [  ] YES - make available\n",
    "* [  ] NO - keep private\n",
    "\n",
    "# Names\n",
    "\n",
    "- Ant Man\n",
    "- Hulk\n",
    "- Iron Man\n",
    "- Thor\n",
    "- Wasp\n",
    "\n",
    "# Abstract\n",
    "\n",
    "Please write one to four paragraphs that describe a very brief overview of why you did this, how you did, and the major findings and conclusions."
   ]
  },
  {
   "cell_type": "markdown",
   "metadata": {},
   "source": [
    "# Research Question"
   ]
  },
  {
   "cell_type": "markdown",
   "metadata": {},
   "source": [
    "What is the relationship between the rate of diabetes and individual-specific body conditions? Would lifestyle choices such as smoking, drinking, and an unhealthy diet affect the risk of diabetes? What are the effects of income on the rate of diabetes?"
   ]
  },
  {
   "cell_type": "markdown",
   "metadata": {},
   "source": [
    "## Background and Prior Work"
   ]
  },
  {
   "cell_type": "markdown",
   "metadata": {},
   "source": [
    "Diabetes is an autoimmune disorder that affects an overwhelming number of people in the United States. For this reason, it is paramount that we be able to predict whether or not an individual is at risk of developing diabetes given a set amount of information. \n",
    "\n",
    "We found that there is prior research<a name=\"diabetes-rate\"></a>[<sup>1</sup>](#dia-rate) exploring the mortality rate in people with type 2 diabetes. From this, we can see that the mortality rate of people with type 2 diabetes has been increasing as they grow older. The research paper in this reference talks about predicting 5 year mortality rates for people with a higher age with diabetes. This would help predict if an immediate intervention is required. We also discovered that there is a clear correlation between diabetes and gender. According to one study <a name=\"diabetes-gender\"></a>[<sup>2</sup>](#dia-gender), the population of older people that were diagnosed with diabetes is overwhelmingly male. On the other hand,lower risk populations that were studied show an overwhelming female bias. However, we see that when the population with diabetes amongst the younger age groups were studied, there was a pretty even split between both the sexes.\n",
    "\n",
    "Furthermore, we see that there is in fact a correlation between substances usage and the risk of diabetes. According to one study by the NCBI <a name=\"diabetes-smoke\"></a>[<sup>3</sup>](#dia-smoke) (National Center for Biotechnology Information), we see that men who smoked around 25 cigarettes daily were at greater risk of diabetes. Also, men who drank 30.0 - 49.9 grams of alcohol had a higher relative risk of diabetes. However, the study was conducted on only male professionals in the age range of 40 - 75. We also see that the study is relatively old and we don't know how the correlation plays out in today's world. There has also been some research done on the relationship between socioeconomic status including education and income level on diabetes that we hope to further build on with our project. This research<a name=\"diabetes-income\"></a>[<sup>4</sup>](#dia-income) shows that there is a strong correlation between income and type 2 diabetes in Canada and we would like to do research primarily based in the United States. The data we are using, while primarily based in the United States, not only contains information about individual body conditions such as BMI and insulin, but also information about a person's nutrition, income, and lifestyle habits. This data should allow us to determine whether or not the given factors impact an individual's risk of diabetes. We hope to address the gaps we found in these studies and conduct a more representative anaylsis covering both eating habits and socieconomic conditions. \n",
    "\n",
    "1. <a name=\"dia-rate\"></a> [^](#diabetes-rate) *Journal of Diabetes Research*. https://www.hindawi.com/journals/jdr/2024/1741878/\n",
    "2. <a name=\"dia-gender\"></a> [^](#diabetes-gender) *Diabetologia Journal*. https://link.springer.com/article/10.1007/s001250051573\n",
    "3. <a name=\"dia-smoke\"></a> [^](#diabetes-smoke) *National Center for Biotechnology Information*. https://www.ncbi.nlm.nih.gov/pmc/articles/PMC2548937/\n",
    "4. <a name=\"dia-income\"></a> [^](#diabetes-income) *National Center for Biotechnology Information*. https://www.ncbi.nlm.nih.gov/pmc/articles/PMC4603875/\n"
   ]
  },
  {
   "cell_type": "markdown",
   "metadata": {},
   "source": [
    "# Hypothesis\n"
   ]
  },
  {
   "cell_type": "markdown",
   "metadata": {},
   "source": [
    "We expect that a person who smokes, drinks, and has unhealthy eating habits is more likely to be diagnosed with diabetes. We also think there is a correlation between having a lower income and having less access to healthy, nutrient-rich food. Essentially, we believe that healthy lifestyle choices and socioeconomic equality play important roles in reducing the prevalence of diabetes and its associated risk factors. We expect income inequalities and unhealthy food and lifestyle choices to increase an individual’s risk of developing diabetes. Conversely, we believe that proper nutrition and reduced intake of alcohol / smoking will lower the rate of diabetes."
   ]
  },
  {
   "cell_type": "markdown",
   "metadata": {},
   "source": [
    "# Data"
   ]
  },
  {
   "cell_type": "markdown",
   "metadata": {},
   "source": [
    "## Data overview\n",
    "\n",
    "For each dataset include the following information\n",
    "- Dataset #1\n",
    "  - Dataset Name:\n",
    "  - Link to the dataset:\n",
    "  - Number of observations:\n",
    "  - Number of variables:\n",
    "- Dataset #2 (if you have more than one!)\n",
    "  - Dataset Name:\n",
    "  - Link to the dataset:\n",
    "  - Number of observations:\n",
    "  - Number of variables:\n",
    "- etc\n",
    "\n",
    "Now write 2 - 5 sentences describing each dataset here. Include a short description of the important variables in the dataset; what the metrics and datatypes are, what concepts they may be proxies for. Include information about how you would need to wrangle/clean/preprocess the dataset\n",
    "\n",
    "If you plan to use multiple datasets, add a few sentences about how you plan to combine these datasets."
   ]
  },
  {
   "cell_type": "markdown",
   "metadata": {},
   "source": [
    "## Dataset 1: Diabetes Health Indicators Dataset"
   ]
  },
  {
   "cell_type": "markdown",
   "metadata": {},
   "source": [
    "- Dataset Name: Diabetes Health Indicators Dataset\n",
    "  - Link to dataset: https://www.kaggle.com/datasets/alexteboul/diabetes-health-indicators-dataset\n",
    "  - Number of observations: 253,680\n",
    "  - Number of variables: 22\n",
    "  - Description of important variables:\n",
    "    - BloodPressure: To express the Blood pressure measurement\n",
    "    - Heavy Alcohol Consumption: 0 = no heavy alcohol consumption, 1 = heavy alcohol consumption\n",
    "    - Smoker: 0 = non-smoker, 1 = smoker\n",
    "    - Insulin: To express the Insulin level in blood\n",
    "    - BMI: To express the Body mass index\n",
    "    - Diabetes: If the individual has diabetes - 0 = no diabetes, 1 = prediabetes,  2 = has diabetes\n",
    "    - Income: On a scale 1-8 where 1 = less than 10,000 usd a year, 5 = less than 35,000 usd per year, 8 = 75,000 usd or more per year \n",
    "    - Fruits / Veggies: 1 =  consumption of fruits and vegetables at least once per day, 0 = no fruits or veggies\n",
    "    - Sex: 0 = male, 1 = female\n",
    "    - Age: scale of 1 to 13, where 1 = 18-24, 9 = 60-64, and 13 = 80 or older\n",
    "  - Description of Dataset:\n",
    "    Because all of the important variables and other columns contain only numeric values, we will not need a significant amount of pre-processing for the data. However, for the diabetes column, we plan to merge the prediabetes and the no diabetes column since our goal is to have a binary output on whether a patient has diabetes or not. Additionally, we will also merge the fruits and vegetables columns so that we can further streamline the input variables. The food and veggies column is a proxy for healthy eating and blood pressure, insulin, and heart disease are proxies for individual-specific body conditions.  Because there are no missing values, we would just need to look through the dataset and see if there are outliers, as well as normalize for gender. Because this is a general health survey, we also need to remove unnecessary variables such as if a person has health care or not, difficulty walking up and down stairs, and state of mental health. We plan to merge the two datasets  we have by the diabetes column, as both datasets include whether or not an individual has diabetes.  "
   ]
  },
  {
   "cell_type": "code",
   "execution_count": null,
   "metadata": {},
   "outputs": [],
   "source": [
    "#import statements \n",
    "import pandas as pd\n",
    "import numpy as np"
   ]
  },
  {
   "cell_type": "code",
   "execution_count": null,
   "metadata": {},
   "outputs": [],
   "source": [
    "#reading the dataset in as a csv\n",
    "diabetes_df = pd.read_csv(\"diabetes_012_health_indicators_BRFSS2015.csv\")\n",
    "\n",
    "#We only want to observe the important variables as those are the relevant ones to our research question\n",
    "important_vars = ['Age', 'HighBP', 'HvyAlcoholConsump', 'Smoker',\n",
    "                 'BMI', 'Income', 'Fruits', 'Veggies', 'Sex', 'Diabetes_012']\n",
    "diabetes_df = diabetes_df[important_vars]\n",
    "diabetes_df_cleaned = diabetes_df.dropna()\n",
    "\n",
    "#display dataset\n",
    "diabetes_df_cleaned"
   ]
  },
  {
   "cell_type": "markdown",
   "metadata": {},
   "source": [
    "## Dataset #2 Food Environment Atlas Dataset"
   ]
  },
  {
   "cell_type": "markdown",
   "metadata": {},
   "source": [
    "- Dataset Name: Food Enviroment Atlas\n",
    "    - Link to the dataset: https://www.ers.usda.gov/data-products/food-environment-atlas/data-access-and-documentation-downloads/\n",
    "    - Number of observations: 102\n",
    "    - Number of variables: 4\n",
    "    - Description of Important Variables:\n",
    "        - State: List of the US States\n",
    "        - Variables: This variable specifies whether mean is describing income `median_income` or diabetes rate `diabetes rate`\n",
    "        - mean: state average of either income or diabetes rate\n",
    "Description of the dataset: This dataset has data regarding nutrition and income and well as the circumstances of those receiving assistance. There were many more variables in the `Variables` column, but as they were unecessary for our analysis, these variables were removed. This leaves us with two variables that are useful to our analysis, which are the median income and diabetes rate. We will be exploring whether there is a correlation between income and diabetes through this dataset. We will create an additional dataset from this data that focuses on nutrition information and the diabetes rate. Because the nutrition and income variables were divided by different geographic regions (the income rate was based on county, and nutrition information was based on state), it was difficult to create one dataset with both those features. Instead, we decided to split the data into two datasets and conduct our EDA. \n"
   ]
  },
  {
   "cell_type": "code",
   "execution_count": null,
   "metadata": {},
   "outputs": [],
   "source": [
    "#read in the dataset as a csv \n",
    "df2 = pd.read_csv(\"StateAndCountyData.csv\")\n",
    "\n",
    "#filter dataset by dropping unnecessary columns \n",
    "df2 = df2[(df2[\"Variable_Code\"] == \"MEDHHINC15\") | (df2[\"Variable_Code\"] == \"PCT_DIABETES_ADULTS13\")]\n",
    "df2 = df2.drop(columns = [\"FIPS\", \"County\"])\n",
    "\n",
    "#group dataset by state and rename row values in Variable column with more intuitive values \n",
    "df2 = df2.groupby([\"State\", \"Variable_Code\"])[\"Value\"].agg([\"sum\", \"mean\"]).reset_index()\n",
    "df2[\"Variable_Code\"] = df2[\"Variable_Code\"].replace(\"MEDHHINC15\", \"median_income\")\n",
    "df2[\"Variable_Code\"] = df2[\"Variable_Code\"].replace(\"PCT_DIABETES_ADULTS13\", \"diabetes_rate\")\n",
    "df2 = df2.rename(columns = {\"Variable_Code\": \"Variables\"})\n",
    "df2 = df2.drop(columns = [\"sum\"])\n",
    "\n",
    "# display dataset\n",
    "df2"
   ]
  },
  {
   "cell_type": "markdown",
   "metadata": {},
   "source": [
    "# Results\n",
    "\n",
    "## Exploratory Data Analysis\n",
    "\n",
    "Carry out whatever EDA you need to for your project.  Because every project will be different we can't really give you much of a template at this point. But please make sure you describe the what and why in text here as well as providing interpretation of results and context."
   ]
  },
  {
   "cell_type": "markdown",
   "metadata": {},
   "source": [
    "## EDA Section 1 - Dataset 1: Diabetes Health Indicators\n",
    "\n",
    "Some more words and stuff.  Remember notebooks work best if you interleave the code that generates a result with properly annotate figures and text that puts these results into context."
   ]
  },
  {
   "cell_type": "code",
   "execution_count": null,
   "metadata": {},
   "outputs": [],
   "source": [
    "# Get mean, medians, and spread\n",
    "statistics = diabetes_df_cleaned.describe()\n",
    "statistics"
   ]
  },
  {
   "cell_type": "markdown",
   "metadata": {},
   "source": [
    "Looking at the statistics, it appears that the mean age is about 8 (on a scale of 1 to 13), and the mean gender is 0.44 (between 0-male and 1-female). Although the age may be slightly skewed towards an older population and the average gender appears to be slightly leaning towards male, the data does not appear to be biased towards one specific group enough to affect our conclusions.  "
   ]
  },
  {
   "cell_type": "code",
   "execution_count": null,
   "metadata": {},
   "outputs": [],
   "source": [
    "#import statements \n",
    "import seaborn as sns\n",
    "import matplotlib.pyplot as plt\n",
    "import math\n",
    "\n",
    "# Calculate the number of rows and columns based on the number of columns in the DataFrame\n",
    "num_columns = len(diabetes_df_cleaned.columns)\n",
    "num_rows = math.ceil(num_columns / 4)  # Assuming 4 plots per row\n",
    "\n",
    "# Create subplots for each variable\n",
    "fig, axs = plt.subplots(nrows=num_rows, ncols=4, figsize=(20, 5 * num_rows))\n",
    "\n",
    "# Flatten the axs array for easier iteration\n",
    "axs = axs.flatten()\n",
    "\n",
    "# Iterate through each column and plot the histogram\n",
    "for i, column in enumerate(diabetes_df_cleaned.columns):\n",
    "    axs[i].hist(diabetes_df_cleaned[column], bins=20, alpha=0.7)\n",
    "    axs[i].set_title(column)\n",
    "    axs[i].set_xlabel('Values')\n",
    "    axs[i].set_ylabel('Frequency')\n",
    "\n",
    "# Hide the remaining empty subplots\n",
    "for j in range(i + 1, len(axs)):\n",
    "    axs[j].axis('off')\n",
    "\n",
    "plt.tight_layout()\n",
    "plt.show()"
   ]
  },
  {
   "cell_type": "code",
   "execution_count": null,
   "metadata": {},
   "outputs": [],
   "source": [
    "#Rename Diabetes_012 and combined Diabetes_012 values for sake of consistency\n",
    "diabetes_df_cleaned = diabetes_df_cleaned.rename(columns = {\"Diabetes_012\": \"Diabetes_01\"})\n",
    "diabetes_df_cleaned[\"Diabetes_01\"].replace(2, 1, inplace = True)"
   ]
  },
  {
   "cell_type": "markdown",
   "metadata": {},
   "source": [
    "Looking at the above plots, it appears that more individuals in this dataset do not have diabetes (as the 0 bar is higher in the Diabetes graph) than those that do or have pre-diabetes. Additionally, income seems to be more left-skewed towards, the 8 value, which means individuals in this dataset are in the highest income bracket of at least 75,000 USD a year. In terms of the fruits and veggies graphs, more people appear to be consuming fruits and veggies than those that do not, and very few appear to be heavy alcohol drinkers. These are all factors to consider as we continue our EDA to ensure we do not let the skewed distributions wrongly impact our conclusion. "
   ]
  },
  {
   "cell_type": "code",
   "execution_count": null,
   "metadata": {},
   "outputs": [],
   "source": [
    "#view the distribution of the dataset once again\n",
    "diabetes_df_cleaned.describe()"
   ]
  },
  {
   "cell_type": "markdown",
   "metadata": {},
   "source": [
    "Next, we will be creating a scatterplot for BMI vs. Blood Pressure with Diabetes as Hue to look at how individual specific body conditions impact the diabetes rate:"
   ]
  },
  {
   "cell_type": "code",
   "execution_count": null,
   "metadata": {},
   "outputs": [],
   "source": [
    "#create a scatterplot with bmi vs blood pressure\n",
    "sns.scatterplot(data=diabetes_df_cleaned, x='BMI', y='HighBP', hue='Diabetes_01')\n",
    "plt.title('BMI vs. Blood Pressure with Diabetes')\n",
    "plt.xlabel('BMI')\n",
    "plt.ylabel('Blood Pressure')\n",
    "plt.show()"
   ]
  },
  {
   "cell_type": "markdown",
   "metadata": {},
   "source": [
    "Barplot for Blood Pressure vs Diabetes Rate:"
   ]
  },
  {
   "cell_type": "code",
   "execution_count": null,
   "metadata": {},
   "outputs": [],
   "source": [
    "sns.barplot(data=diabetes_df_cleaned, x='HighBP', y='Diabetes_01')\n",
    "plt.title('Blood Pressure vs. Diabetes Rate')\n",
    "plt.xlabel('Blood Pressure(1 for high 0 otherwise)')\n",
    "plt.ylabel('Diabetes Rate')\n",
    "plt.show()"
   ]
  },
  {
   "cell_type": "markdown",
   "metadata": {},
   "source": [
    "Barplot for Heavy Alcohol Consumption vs. Diabetes Rate:"
   ]
  },
  {
   "cell_type": "code",
   "execution_count": null,
   "metadata": {},
   "outputs": [],
   "source": [
    "sns.barplot(data=diabetes_df_cleaned, x='HvyAlcoholConsump', y='Diabetes_01')\n",
    "plt.title('Heavy Alcohol Consumption vs. Diabetes Rate')\n",
    "plt.xlabel('Heavy Alcohol Consumption')\n",
    "plt.ylabel('Diabetes Rate')\n",
    "plt.show()"
   ]
  },
  {
   "cell_type": "markdown",
   "metadata": {},
   "source": [
    "Barplot for Smoking vs. Diabetes Rate:"
   ]
  },
  {
   "cell_type": "code",
   "execution_count": null,
   "metadata": {},
   "outputs": [],
   "source": [
    "sns.barplot(data=diabetes_df_cleaned, x='Smoker', y='Diabetes_01')\n",
    "plt.title('Smoking vs. Diabetes Rate')\n",
    "plt.xlabel('Smoker')\n",
    "plt.ylabel('Diabetes Rate')\n",
    "plt.show()"
   ]
  },
  {
   "cell_type": "markdown",
   "metadata": {},
   "source": [
    "Barplot for Fruits Consumption vs. Diabetes Rate:"
   ]
  },
  {
   "cell_type": "code",
   "execution_count": null,
   "metadata": {},
   "outputs": [],
   "source": [
    "sns.barplot(data=diabetes_df_cleaned, x='Fruits', y='Diabetes_01')\n",
    "plt.title('Fruits Consumption vs. Diabetes Rate')\n",
    "plt.xlabel('Fruits Consumption')\n",
    "plt.ylabel('Diabetes Rate')\n",
    "plt.show()"
   ]
  },
  {
   "cell_type": "markdown",
   "metadata": {},
   "source": [
    "Barplot for Veggies Consumption vs. Diabetes Rate"
   ]
  },
  {
   "cell_type": "code",
   "execution_count": null,
   "metadata": {},
   "outputs": [],
   "source": [
    "sns.barplot(data=diabetes_df_cleaned, x='Veggies', y='Diabetes_01')\n",
    "plt.title('Veggies Consumption vs. Diabetes Rate')\n",
    "plt.xlabel('Veggies Consumption')\n",
    "plt.ylabel('Diabetes Rate')\n",
    "plt.show()"
   ]
  },
  {
   "cell_type": "markdown",
   "metadata": {},
   "source": [
    "## Second Analysis You Did - Give it a better title\n",
    "\n",
    "Some more words and stuff.  Remember notebooks work best if you interleave the code that generates a result with properly annotate figures and text that puts these results into context."
   ]
  },
  {
   "cell_type": "code",
   "execution_count": null,
   "metadata": {},
   "outputs": [],
   "source": [
    "## YOUR CODE HERE\n",
    "## FEEL FREE TO ADD MULTIPLE CELLS PER SECTION"
   ]
  },
  {
   "cell_type": "markdown",
   "metadata": {},
   "source": [
    "## ETC AD NASEUM\n",
    "\n",
    "Some more words and stuff.  Remember notebooks work best if you interleave the code that generates a result with properly annotate figures and text that puts these results into context."
   ]
  },
  {
   "cell_type": "code",
   "execution_count": null,
   "metadata": {},
   "outputs": [],
   "source": [
    "## YOUR CODE HERE\n",
    "## FEEL FREE TO ADD MULTIPLE CELLS PER SECTION"
   ]
  },
  {
   "cell_type": "markdown",
   "metadata": {},
   "source": [
    "# Ethics & Privacy"
   ]
  },
  {
   "cell_type": "markdown",
   "metadata": {},
   "source": [
    "There are some ethical concerns regarding equitability we must consider. There may be variations between diabetes rates between gender and ages below 21. Additionally, there are claims that ethinicity affects diabetes rates <a name=\"diabetes-ethnicity\"></a>[<sup>1</sup>](#dia-ethnicity). It’s not clear why this correlation is reported, but it is a possibility to consider when searching for a dataset. Certain disabilities can also have an impact on diabetes rate and ideally we’d want a dataset that accounts for those disabilities too. Furthermore more, we should also ensure that our dataset contains a diverse set of class and wealth levels too, as lower income individuals may be forced to have a lower quality of life, which may cause a higher risk of diabetes. Therefore, it’s important to sample a diverse set of people in our dataset to account for as many of these differences as possible. We can check for such datasets either by looking at the description of the dataset and by gauging how diverse the dataset is based off of the description, or checking if age, gender, ethnicity, disabilities, and class are variables in the dataset and doing EDA to make sure that the distribution of those variables are diverse. If we cannot find data that accounts for all of these differences, then we must add disclaimers stating as such in order to prevent misinterpretation.\n",
    "\n",
    "Even if we have a diverse dataset, though, there may still be some issues with equitability. If we don’t have enough variables in the dataset, we can get some correlations that may lead us to identify false causes and false conclusions. For example, let’s say we exclude BMI for the sake of this scenario. Certain population groups may just so happen to have higher BMIs on average for a variety of reasons. BMI could be the actual reason why they typically have a higher risk for diabetes, but if we exclude BMI, we may falsely conclude that certain demographics naturally are more likely to suffer from diabetes, which can be problematic. False conclusions can lead to treatments that can be harmful to people or groups. To solve this, we would have to consider datasets that have many different diverse variables. Lastly, with an ideal dataset that considers all of these problems, the only major issue would be privacy. We wouldn’t want hospitals to release sensitive information from patients without their knowledge or proper consent, for instance. It has to be sourced from willing participants and handled in an approporiate manner, so that no data can be linked back to an individual patient.\n",
    "\n",
    "To handle these concerns, we will be both carefully inspecting the datasets we have chosen and their descriptions to ensure that the data, at least on the surface appears to be representative including diverse ages, genders, income levels. We will also be conducting some EDA to ensure that the disctributions of these variables are not skewed. Additionally, we will conduct extensive research to ensure that we are not dropping variables that affect our research question and conclusions. \n",
    "\n",
    "1. <a name=\"dia-ethnicity\"></a> [^](#diabetes-ethnicity) *Diabetes UK*. https://www.diabetes.org.uk/diabetes-the-basics/types-of-diabetes/type-2/diabetes-ethnicity"
   ]
  },
  {
   "cell_type": "markdown",
   "metadata": {},
   "source": [
    "# Discusison and Conclusion\n",
    "\n",
    "Wrap it all up here.  Somewhere between 3 and 10 paragraphs roughly.  A good time to refer back to your Background section and review how this work extended the previous stuff. \n",
    "\n",
    "\n",
    "#note - the first dataset is a telephone survey, maybe biases in how many people pick up / the income of those that do pick up, and may not admit to being heavy smokers / drinkers\n",
    "\n",
    "\n",
    "# Team Contributions\n",
    "\n",
    "Speficy who did what.  This should be pretty granular, perhaps bullet points, no more than a few sentences per person."
   ]
  },
  {
   "cell_type": "code",
   "execution_count": null,
   "metadata": {},
   "outputs": [],
   "source": []
  }
 ],
 "metadata": {
  "kernelspec": {
   "display_name": "Python 3 (ipykernel)",
   "language": "python",
   "name": "python3"
  },
  "language_info": {
   "codemirror_mode": {
    "name": "ipython",
    "version": 3
   },
   "file_extension": ".py",
   "mimetype": "text/x-python",
   "name": "python",
   "nbconvert_exporter": "python",
   "pygments_lexer": "ipython3",
   "version": "3.12.2"
  }
 },
 "nbformat": 4,
 "nbformat_minor": 4
}
