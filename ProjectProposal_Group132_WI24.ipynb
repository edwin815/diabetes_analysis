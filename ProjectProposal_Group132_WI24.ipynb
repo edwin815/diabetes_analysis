{
 "cells": [
  {
   "cell_type": "markdown",
   "metadata": {},
   "source": [
    "# COGS 108 - Project Proposal"
   ]
  },
  {
   "cell_type": "markdown",
   "metadata": {},
   "source": [
    "# Names\n",
    "\n",
    "- Brian Dinh\n",
    "- Candy Zhang\n",
    "- Edwin Liang\n",
    "- Sindhu Kothe\n",
    "- Vaishnavi Ramanujan"
   ]
  },
  {
   "cell_type": "markdown",
   "metadata": {},
   "source": [
    "# Research Question"
   ]
  },
  {
   "cell_type": "markdown",
   "metadata": {},
   "source": [
    "-  Include a specific, clear data science question.\n",
    "-  Make sure what you're measuring (variables) to answer the question is clear\n",
    "\n",
    "What is your research question? Include the specific question you're setting out to answer. This question should be specific, answerable with data, and clear. A general question with specific subquestions is permitted. (1-2 sentences)\n",
    "\n",
    "**Is there a statistically significant relationship between the rate of diabetes and individual-specific body conditions? Can we predict the rate of diabetes for a specific person based on a set of variables such as number of pregnancies, glucose and insulin levels in the blood, blood pressure, skin thickness, BMI, and age?**"
   ]
  },
  {
   "cell_type": "markdown",
   "metadata": {},
   "source": [
    "## Background and Prior Work"
   ]
  },
  {
   "cell_type": "markdown",
   "metadata": {},
   "source": [
    "\n",
    "- Include a general introduction to your topic\n",
    "- Include explanation of what work has been done previously\n",
    "- Include citations or links to previous work\n",
    "\n",
    "This section will present the background and context of your topic and question in a few paragraphs. Include a general introduction to your topic and then describe what information you currently know about the topic after doing your initial research. Include references to other projects who have asked similar questions or approached similar problems. Explain what others have learned in their projects.\n",
    "\n",
    "Find some relevant prior work, and reference those sources, summarizing what each did and what they learned. Even if you think you have a totally novel question, find the most similar prior work that you can and discuss how it relates to your project.\n",
    "\n",
    "References can be research publications, but they need not be. Blogs, GitHub repositories, company websites, etc., are all viable references if they are relevant to your project. It must be clear which information comes from which references. (2-3 paragraphs, including at least 2 references)\n",
    "\n",
    " **Use inline citation through HTML footnotes to specify which references support which statements** \n",
    "\n",
    "For example: After government genocide in the 20th century, real birds were replaced with surveillance drones designed to look just like birds.<a name=\"cite_ref-1\"></a>[<sup>1</sup>](#cite_note-1) Use a minimum of 2 or 3 citations, but we prefer more.<a name=\"cite_ref-2\"></a>[<sup>2</sup>](#cite_note-2) You need enough to fully explain and back up important facts. \n",
    "\n",
    "Note that if you click a footnote number in the paragraph above it will transport you to the proper entry in the footnotes list below.  And if you click the ^ in the footnote entry, it will return you to the place in the main text where the footnote is made.\n",
    "\n",
    "To understand the HTML here, `<a name=\"#...\"> </a>` is a tag that allows you produce a named reference for a given location.  Markdown has the construciton `[text with hyperlink](#named reference)` that will produce a clickable link that transports you the named reference.\n",
    "\n",
    "1. <a name=\"cite_note-1\"></a> [^](#cite_ref-1) Lorenz, T. (9 Dec 2021) Birds Aren’t Real, or Are They? Inside a Gen Z Conspiracy Theory. *The New York Times*. https://www.nytimes.com/2021/12/09/technology/birds-arent-real-gen-z-misinformation.html \n",
    "2. <a name=\"cite_note-2\"></a> [^](#cite_ref-2) Also refs should be important to the background, not some randomly chosen vaguely related stuff. Include a web link if possible in refs as above.\n",
    "\n",
    "Diabetes is an autoimmune disorder that affects an overwhelming number of people in the United States. For this reason, it is paramount that we be able to predict whether or not an individual is at risk of developing diabetes given a set amount of information. \n",
    "\n",
    "We found that there is prior research<a name=\"research-1\"></a>[<sup>1</sup>](#research-note-1) exploring the mortality rate in people with type 2 diabetes. From this, we can see that the mortality rate of people with type 2 diabetes has been increasing as they grow older. The research paper in this reference talks about predicting 5 year mortality rates for people with a higher age with diabetes. This would help predict if an immediate intervention is required. \n",
    "\n",
    "We also discovered that there is a clear correlation between diabetes and gender. According to one study<a name=\"research-2\"></a>[<sup>2</sup>](#research-note-2), the population of older people diagnosed with diabetes is overwhelmingly male. The lower risk populations that were studied show an overwhelming female bias. However, we see that when the population with diabetes amongst the younger age groups were studied, there was a pretty even split between both the sexes. According to another research<a name=\"research-3\"></a>[<sup>3</sup>](#research-note-3), the risk of cancer is increased in people with diabetes. Diabetes weakens your immune system against infections and causes an inflammatory response because of high blood sugar levels according to this research<a name=\"research-4\"></a>[<sup>4</sup>](#research-note-4)\n",
    "\n",
    "1. <a name=\"research-note-1\"></a> [^](#research-1) Dikang Pan,Hui Wang,Sensen Wu,Jingyu Wang,Yachan Ning,Jianming Guo,Cong Wang,and Yongquan Gu. (11 Nov 2023) Unveiling the Hidden Burden: Estimating All-Cause Mortality Risk in Older Individuals with Type 2 Diabetes. *Hindawi*. https://www.hindawi.com/journals/jdr/2024/1741878/\n",
    "2. <a name=\"research-note-2\"></a> [^](#research-2) E. A.M. Gale & K. M. Gillespie. (January 2001). Diabetes and gender *Springer*. https://link.springer.com/article/10.1007/s001250051573#article-info\n",
    "3. <a name=\"reserach-note-3\"></a> [^](#research-3)  Paolo Vigneri, Francesco Frasca, Laura Sciacca, Giuseppe Pandini, and Riccardo Vigneri. (2009 Dec). Diabetes and cancer. *Endocrine Related Cancer*. https://erc.bioscientifica.com/view/journals/erc/16/4/1103.xml\n",
    "4. <a name=\"research-note-4\"></a> [^](#research-4) Afiat Berbudi, Nofri Rahmadika Adi Imam Tjahjadi, and Rovina Ruslami. (2020, May). Type 2 Diabetes and its Impact on the Immune System. *National Library of Medicine*. https://www.ncbi.nlm.nih.gov/pmc/articles/PMC7475801/"
   ]
  },
  {
   "cell_type": "markdown",
   "metadata": {},
   "source": [
    "# Hypothesis\n"
   ]
  },
  {
   "cell_type": "markdown",
   "metadata": {},
   "source": [
    "\n",
    "- Include your team's hypothesis\n",
    "- Ensure that this hypothesis is clear to readers\n",
    "- Explain why you think this will be the outcome (what was your thinking?)\n",
    "\n",
    "What is your main hypothesis/predictions about what the answer to your question is? Briefly explain your thinking. (2-3 sentences)\n",
    "**We expect that there is a relationship between the rate of diabetes and individual-specific body conditions. We predict that a person who has more pregnancies, higher glucose and insulin levels in the blood, higher blood pressure, thicker skin, larger BMI, and an older age is more likely to be diagnosed with diabetes.**"
   ]
  },
  {
   "cell_type": "markdown",
   "metadata": {},
   "source": [
    "# Data"
   ]
  },
  {
   "cell_type": "markdown",
   "metadata": {},
   "source": [
    "1. Explain what the **ideal** dataset you would want to answer this question. (This should include: What variables? How many observations? Who/what/how would these data be collected? How would these data be stored/organized?)\n",
    "1. Search for potential **real** datasets that could provide you with something useful for this project.  You do not have to find every piece of data you will use, but you do need to have demonstrated some idea that (a) this data is gettable and (b) that this data may be different from what your ideal is.\n",
    "\n",
    "**Our ideal dataset should include individual-specific body condition variables. The dataset should ideally contain a large number of observations, preferably thousands, to ensure statistical power and generalizability of findings across one specific group of people. Data can be collected from various sources including hospitals, clinics, medical research institutions, and population-based studies. It is essential to ensure that the data collection process is systematic and standardized to minimize bias and ensure reliability.\n",
    "Proposed Dataset Name: Diabetes Dataset — Diabetes Patients Data\n",
    "Link to the dataset: https://www.kaggle.com/datasets/akshaydattatraykhare/diabetes-dataset\n",
    "Number of observations: 768\n",
    "Description of the dataset: This dataset contains independent medical predictors collected from female patients who are at least 21 years old and of Pima Indian heritage and whether they have diabetes or not.\n",
    "Variables: \n",
    "Pregnancies: To express the Number of pregnancies\n",
    "Glucose: To express the Glucose level in blood\n",
    "BloodPressure: To express the Blood pressure measurement\n",
    "SkinThickness: To express the thickness of the skin\n",
    "Insulin: To express the Insulin level in blood\n",
    "BMI: To express the Body mass index\n",
    "DiabetesPedigreeFunction: To express the Diabetes percentage\n",
    "Age: To express the age\n",
    "Outcome: To express the final result 1 is Yes and 0 is No**"
   ]
  },
  {
   "cell_type": "markdown",
   "metadata": {},
   "source": [
    "# Ethics & Privacy"
   ]
  },
  {
   "cell_type": "markdown",
   "metadata": {},
   "source": [
    "- Thoughtful discussion of ethical concerns included\n",
    "- Ethical concerns consider the whole data science process (question asked, data collected, data being used, the bias in data, analysis, post-analysis, etc.)\n",
    "- How your group handled bias/ethical concerns clearly described\n",
    "\n",
    "Acknowledge and address any ethics & privacy related issues of your question(s), proposed dataset(s), and/or analyses. Use the information provided in lecture to guide your group discussion and thinking. If you need further guidance, check out [Deon's Ethics Checklist](http://deon.drivendata.org/#data-science-ethics-checklist). In particular:\n",
    "\n",
    "- Are there any biases/privacy/terms of use issues with the data you propsed?\n",
    "- Are there potential biases in your dataset(s), in terms of who it composes, and how it was collected, that may be problematic in terms of it allowing for equitable analysis? (For example, does your data exclude particular populations, or is it likely to reflect particular human biases in a way that could be a problem?)\n",
    "- How will you set out to detect these specific biases before, during, and after/when communicating your analysis?\n",
    "- Are there any other issues related to your topic area, data, and/or analyses that are potentially problematic in terms of data privacy and equitable impact?\n",
    "- How will you handle issues you identified?\n",
    "\n",
    "**The dataset that we proposed does have one flaw: it only samples Pima Indigenous American women over the age of 21. This restriction on who they sample could be an issue. There may be variations between diabetes rates between gender and ages below 21. There are also some claims that there are some differences between diabetes rates between ethnicities(such as this: example<a name=\"diabetes-ethnicity\"></a>[<sup>1</sup>](#dia-ethnicity)). It’s not clear why this correlation is reported, but it’s possibly something to consider when searching for a dataset. Certain disabilities can also have an impact on diabetes rate and ideally we’d want a dataset that accounts for those disabilities too. It’s also ideal to consider class and wealth levels too, as poorer people may be forced to live in worse living conditions that may cause a higher risk of diabetes. Therefore, it’s important to sample a diverse set of people in our dataset to account for all of these differences. We can check for such datasets either by looking at the description of the dataset and whether or not they claim that the sample is diverse, or checking if age, gender, ethnicity, disabilities, and class are variables in the dataset and doing EDA to make sure the distribution of those variables are diverse.**\n",
    "\n",
    "\n",
    "**Even if we have a diverse dataset, though, there may still be some issues with equitability. If we don’t have enough variables in the dataset, we can get some correlations that lead us to identify false causes and false conclusions. For example, let’s say we exclude BMI for the sake of this scenario. Certain population groups may just so happen to have higher BMIs on average for a variety of reasons. BMI could be the actual reason why they typically have a higher risk for diabetes, but if we excluded BMI, we may falsely conclude that they naturally are more likely to suffer from diabetes, which can be problematic. False conclusions can lead to treatments that can be harmful to people or groups. To solve this, we would have to consider datasets that have many different diverse variables. Lastly, with an ideal dataset that considers all of these problems, the only major issue would be privacy. We wouldn’t want hospitals to release sensitive information from patients without their knowledge or proper consent, for instance. It has to be sourced from willing participants.**\n",
    "1. <a name=\"dia-ethnicity\"></a> [^](#diabetes-ethnicity) *Diabetes UK*. https://www.diabetes.org.uk/diabetes-the-basics/types-of-diabetes/type-2/diabetes-ethnicity"
   ]
  },
  {
   "cell_type": "markdown",
   "metadata": {},
   "source": [
    "# Team Expectations "
   ]
  },
  {
   "cell_type": "markdown",
   "metadata": {},
   "source": [
    "\n",
    "Read over the [COGS108 Team Policies](https://github.com/COGS108/Projects/blob/master/COGS108_TeamPolicies.md) individually. Then, include your group’s expectations of one another for successful completion of your COGS108 project below. Discuss and agree on what all of your expectations are. Discuss how your team will communicate throughout the quarter and consider how you will communicate respectfully should conflicts arise. By including each member’s name above and by adding their name to the submission, you are indicating that you have read the COGS108 Team Policies, accept your team’s expectations below, and have every intention to fulfill them. These expectations are for your team’s use and benefit — they won’t be graded for their details.\n",
    "\n",
    "* *Agree to a weekly meeting time to discuss overall team progress and next steps*\n",
    "* *Communicate in advance if you are unable to finish your weekly tasks for any reasons or come to the meetings*\n",
    "* *Try your best to contribute during meetings and ensure work is evenly divided*\n",
    "* *Teammates will also help create an environment that everyone is comfortable voicing their opinions in and will use their skills / knowledge to help each other*\n",
    "* *Be open to giving and receiving feedback to/from other team members*\n",
    "* *Make sure to fill in the peer evaluations honestly*"
   ]
  },
  {
   "cell_type": "markdown",
   "metadata": {},
   "source": [
    "# Project Timeline Proposal"
   ]
  },
  {
   "cell_type": "markdown",
   "metadata": {},
   "source": [
    "| Meeting Date  | Meeting Time| Completed Before Meeting  | Discuss at Meeting |\n",
    "|---|---|---|---|\n",
    "| 2/4  |  6:00 PM | Determined means of Communication  | Discuss about questions and answers regarding previous project review| \n",
    "| 2/9  |  4:00 PM |  Individually think about questions about project proposal | Discuss research question, Browse and select datasets | \n",
    "| 2/10  | 4:00 PM  | Finish project proposal | Discuss and finalize project proposal   |\n",
    "| 2/23  | 5:00 PM  | Import & Wrangle Data (Diabetes statistics) | Review/Edit wrangling/EDA; Discuss Analysis Plan   |\n",
    "| 3/08  | 5:00 PM  | Finalize wrangling/EDA; Begin Analysis (Diabetes Statisics)| Discuss/edit Analysis; Discuss group understanding of data and analysis methods |\n",
    "| 3/12  | 6:00 PM  | Complete analysis; Draft results/conclusion/discussion | Discuss and correct analysis  |\n",
    "| 3/20  | Before 11:59 PM  | NA | Turn in Final Project & Group Project Surveys |"
   ]
  }
 ],
 "metadata": {
  "kernelspec": {
   "display_name": "Python 3 (ipykernel)",
   "language": "python",
   "name": "python3"
  },
  "language_info": {
   "codemirror_mode": {
    "name": "ipython",
    "version": 3
   },
   "file_extension": ".py",
   "mimetype": "text/x-python",
   "name": "python",
   "nbconvert_exporter": "python",
   "pygments_lexer": "ipython3",
   "version": "3.10.12"
  }
 },
 "nbformat": 4,
 "nbformat_minor": 2
}
